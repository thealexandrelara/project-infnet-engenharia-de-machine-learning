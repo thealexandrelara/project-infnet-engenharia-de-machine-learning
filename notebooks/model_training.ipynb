{
 "cells": [
  {
   "cell_type": "code",
   "execution_count": 1,
   "metadata": {},
   "outputs": [
    {
     "data": {
      "text/html": [
       "<pre style=\"white-space:pre;overflow-x:auto;line-height:normal;font-family:Menlo,'DejaVu Sans Mono',consolas,'Courier New',monospace\"><span style=\"color: #7fbfbf; text-decoration-color: #7fbfbf\">[04/07/25 18:55:35] </span><span style=\"color: #000080; text-decoration-color: #000080\">INFO    </span> Using                                                                  <a href=\"file:///Users/alexandrelara/Documents/storage/c/code/project-infnet-engenharia-de-machine-learning/.venv/lib/python3.10/site-packages/kedro/framework/project/__init__.py\" target=\"_blank\"><span style=\"color: #7f7f7f; text-decoration-color: #7f7f7f\">__init__.py</span></a><span style=\"color: #7f7f7f; text-decoration-color: #7f7f7f\">:</span><a href=\"file:///Users/alexandrelara/Documents/storage/c/code/project-infnet-engenharia-de-machine-learning/.venv/lib/python3.10/site-packages/kedro/framework/project/__init__.py#270\" target=\"_blank\"><span style=\"color: #7f7f7f; text-decoration-color: #7f7f7f\">270</span></a>\n",
       "<span style=\"color: #7fbfbf; text-decoration-color: #7fbfbf\">                    </span>         <span style=\"color: #008000; text-decoration-color: #008000\">'/Users/alexandrelara/Documents/storage/c/code/project-infnet-engenhar</span> <span style=\"color: #7f7f7f; text-decoration-color: #7f7f7f\">               </span>\n",
       "<span style=\"color: #7fbfbf; text-decoration-color: #7fbfbf\">                    </span>         <span style=\"color: #008000; text-decoration-color: #008000\">ia-de-machine-learning/.venv/lib/python3.10/site-packages/kedro/framew</span> <span style=\"color: #7f7f7f; text-decoration-color: #7f7f7f\">               </span>\n",
       "<span style=\"color: #7fbfbf; text-decoration-color: #7fbfbf\">                    </span>         <span style=\"color: #008000; text-decoration-color: #008000\">ork/project/rich_logging.yml'</span> as logging configuration.                <span style=\"color: #7f7f7f; text-decoration-color: #7f7f7f\">               </span>\n",
       "</pre>\n"
      ],
      "text/plain": [
       "\u001b[2;36m[04/07/25 18:55:35]\u001b[0m\u001b[2;36m \u001b[0m\u001b[34mINFO    \u001b[0m Using                                                                  \u001b]8;id=248620;file:///Users/alexandrelara/Documents/storage/c/code/project-infnet-engenharia-de-machine-learning/.venv/lib/python3.10/site-packages/kedro/framework/project/__init__.py\u001b\\\u001b[2m__init__.py\u001b[0m\u001b]8;;\u001b\\\u001b[2m:\u001b[0m\u001b]8;id=846849;file:///Users/alexandrelara/Documents/storage/c/code/project-infnet-engenharia-de-machine-learning/.venv/lib/python3.10/site-packages/kedro/framework/project/__init__.py#270\u001b\\\u001b[2m270\u001b[0m\u001b]8;;\u001b\\\n",
       "\u001b[2;36m                    \u001b[0m         \u001b[32m'/Users/alexandrelara/Documents/storage/c/code/project-infnet-engenhar\u001b[0m \u001b[2m               \u001b[0m\n",
       "\u001b[2;36m                    \u001b[0m         \u001b[32mia-de-machine-learning/.venv/lib/python3.10/site-packages/kedro/framew\u001b[0m \u001b[2m               \u001b[0m\n",
       "\u001b[2;36m                    \u001b[0m         \u001b[32mork/project/rich_logging.yml'\u001b[0m as logging configuration.                \u001b[2m               \u001b[0m\n"
      ]
     },
     "metadata": {},
     "output_type": "display_data"
    },
    {
     "data": {
      "text/html": [
       "<pre style=\"white-space:pre;overflow-x:auto;line-height:normal;font-family:Menlo,'DejaVu Sans Mono',consolas,'Courier New',monospace\"><span style=\"color: #7fbfbf; text-decoration-color: #7fbfbf\">                    </span><span style=\"color: #000080; text-decoration-color: #000080\">INFO    </span> Registered line magic <span style=\"color: #008000; text-decoration-color: #008000\">'%reload_kedro'</span>                                   <a href=\"file:///Users/alexandrelara/Documents/storage/c/code/project-infnet-engenharia-de-machine-learning/.venv/lib/python3.10/site-packages/kedro/ipython/__init__.py\" target=\"_blank\"><span style=\"color: #7f7f7f; text-decoration-color: #7f7f7f\">__init__.py</span></a><span style=\"color: #7f7f7f; text-decoration-color: #7f7f7f\">:</span><a href=\"file:///Users/alexandrelara/Documents/storage/c/code/project-infnet-engenharia-de-machine-learning/.venv/lib/python3.10/site-packages/kedro/ipython/__init__.py#63\" target=\"_blank\"><span style=\"color: #7f7f7f; text-decoration-color: #7f7f7f\">63</span></a>\n",
       "</pre>\n"
      ],
      "text/plain": [
       "\u001b[2;36m                   \u001b[0m\u001b[2;36m \u001b[0m\u001b[34mINFO    \u001b[0m Registered line magic \u001b[32m'%reload_kedro'\u001b[0m                                   \u001b]8;id=899612;file:///Users/alexandrelara/Documents/storage/c/code/project-infnet-engenharia-de-machine-learning/.venv/lib/python3.10/site-packages/kedro/ipython/__init__.py\u001b\\\u001b[2m__init__.py\u001b[0m\u001b]8;;\u001b\\\u001b[2m:\u001b[0m\u001b]8;id=873819;file:///Users/alexandrelara/Documents/storage/c/code/project-infnet-engenharia-de-machine-learning/.venv/lib/python3.10/site-packages/kedro/ipython/__init__.py#63\u001b\\\u001b[2m63\u001b[0m\u001b]8;;\u001b\\\n"
      ]
     },
     "metadata": {},
     "output_type": "display_data"
    },
    {
     "data": {
      "text/html": [
       "<pre style=\"white-space:pre;overflow-x:auto;line-height:normal;font-family:Menlo,'DejaVu Sans Mono',consolas,'Courier New',monospace\"><span style=\"color: #7fbfbf; text-decoration-color: #7fbfbf\">                    </span><span style=\"color: #000080; text-decoration-color: #000080\">INFO    </span> Registered line magic <span style=\"color: #008000; text-decoration-color: #008000\">'%load_node'</span>                                      <a href=\"file:///Users/alexandrelara/Documents/storage/c/code/project-infnet-engenharia-de-machine-learning/.venv/lib/python3.10/site-packages/kedro/ipython/__init__.py\" target=\"_blank\"><span style=\"color: #7f7f7f; text-decoration-color: #7f7f7f\">__init__.py</span></a><span style=\"color: #7f7f7f; text-decoration-color: #7f7f7f\">:</span><a href=\"file:///Users/alexandrelara/Documents/storage/c/code/project-infnet-engenharia-de-machine-learning/.venv/lib/python3.10/site-packages/kedro/ipython/__init__.py#65\" target=\"_blank\"><span style=\"color: #7f7f7f; text-decoration-color: #7f7f7f\">65</span></a>\n",
       "</pre>\n"
      ],
      "text/plain": [
       "\u001b[2;36m                   \u001b[0m\u001b[2;36m \u001b[0m\u001b[34mINFO    \u001b[0m Registered line magic \u001b[32m'%load_node'\u001b[0m                                      \u001b]8;id=896442;file:///Users/alexandrelara/Documents/storage/c/code/project-infnet-engenharia-de-machine-learning/.venv/lib/python3.10/site-packages/kedro/ipython/__init__.py\u001b\\\u001b[2m__init__.py\u001b[0m\u001b]8;;\u001b\\\u001b[2m:\u001b[0m\u001b]8;id=705949;file:///Users/alexandrelara/Documents/storage/c/code/project-infnet-engenharia-de-machine-learning/.venv/lib/python3.10/site-packages/kedro/ipython/__init__.py#65\u001b\\\u001b[2m65\u001b[0m\u001b]8;;\u001b\\\n"
      ]
     },
     "metadata": {},
     "output_type": "display_data"
    },
    {
     "data": {
      "text/html": [
       "<pre style=\"white-space:pre;overflow-x:auto;line-height:normal;font-family:Menlo,'DejaVu Sans Mono',consolas,'Courier New',monospace\"><span style=\"color: #7fbfbf; text-decoration-color: #7fbfbf\">                    </span><span style=\"color: #000080; text-decoration-color: #000080\">INFO    </span> Resolved project path as:                                              <a href=\"file:///Users/alexandrelara/Documents/storage/c/code/project-infnet-engenharia-de-machine-learning/.venv/lib/python3.10/site-packages/kedro/ipython/__init__.py\" target=\"_blank\"><span style=\"color: #7f7f7f; text-decoration-color: #7f7f7f\">__init__.py</span></a><span style=\"color: #7f7f7f; text-decoration-color: #7f7f7f\">:</span><a href=\"file:///Users/alexandrelara/Documents/storage/c/code/project-infnet-engenharia-de-machine-learning/.venv/lib/python3.10/site-packages/kedro/ipython/__init__.py#180\" target=\"_blank\"><span style=\"color: #7f7f7f; text-decoration-color: #7f7f7f\">180</span></a>\n",
       "<span style=\"color: #7fbfbf; text-decoration-color: #7fbfbf\">                    </span>         <span style=\"color: #800080; text-decoration-color: #800080\">/Users/alexandrelara/Documents/storage/c/code/</span><span style=\"color: #ff00ff; text-decoration-color: #ff00ff\">project-infnet-engenhari</span> <span style=\"color: #7f7f7f; text-decoration-color: #7f7f7f\">               </span>\n",
       "<span style=\"color: #7fbfbf; text-decoration-color: #7fbfbf\">                    </span>         <span style=\"color: #ff00ff; text-decoration-color: #ff00ff\">a-de-machine-learning.</span>                                                 <span style=\"color: #7f7f7f; text-decoration-color: #7f7f7f\">               </span>\n",
       "<span style=\"color: #7fbfbf; text-decoration-color: #7fbfbf\">                    </span>         To set a different path, run <span style=\"color: #008000; text-decoration-color: #008000\">'%reload_kedro &lt;project_root&gt;'</span>            <span style=\"color: #7f7f7f; text-decoration-color: #7f7f7f\">               </span>\n",
       "</pre>\n"
      ],
      "text/plain": [
       "\u001b[2;36m                   \u001b[0m\u001b[2;36m \u001b[0m\u001b[34mINFO    \u001b[0m Resolved project path as:                                              \u001b]8;id=467505;file:///Users/alexandrelara/Documents/storage/c/code/project-infnet-engenharia-de-machine-learning/.venv/lib/python3.10/site-packages/kedro/ipython/__init__.py\u001b\\\u001b[2m__init__.py\u001b[0m\u001b]8;;\u001b\\\u001b[2m:\u001b[0m\u001b]8;id=153908;file:///Users/alexandrelara/Documents/storage/c/code/project-infnet-engenharia-de-machine-learning/.venv/lib/python3.10/site-packages/kedro/ipython/__init__.py#180\u001b\\\u001b[2m180\u001b[0m\u001b]8;;\u001b\\\n",
       "\u001b[2;36m                    \u001b[0m         \u001b[35m/Users/alexandrelara/Documents/storage/c/code/\u001b[0m\u001b[95mproject-infnet-engenhari\u001b[0m \u001b[2m               \u001b[0m\n",
       "\u001b[2;36m                    \u001b[0m         \u001b[95ma-de-machine-learning.\u001b[0m                                                 \u001b[2m               \u001b[0m\n",
       "\u001b[2;36m                    \u001b[0m         To set a different path, run \u001b[32m'%reload_kedro \u001b[0m\u001b[32m<\u001b[0m\u001b[32mproject_root\u001b[0m\u001b[32m>\u001b[0m\u001b[32m'\u001b[0m            \u001b[2m               \u001b[0m\n"
      ]
     },
     "metadata": {},
     "output_type": "display_data"
    },
    {
     "data": {
      "text/html": [
       "<pre style=\"white-space:pre;overflow-x:auto;line-height:normal;font-family:Menlo,'DejaVu Sans Mono',consolas,'Courier New',monospace\"><span style=\"color: #7fbfbf; text-decoration-color: #7fbfbf\">                    </span><span style=\"color: #808000; text-decoration-color: #808000\">WARNING </span> <span style=\"color: #800080; text-decoration-color: #800080\">/Users/alexandrelara/Documents/storage/c/code/project-infnet-engenhari</span> <a href=\"file:///Users/alexandrelara/.local/share/uv/python/cpython-3.10.16-macos-aarch64-none/lib/python3.10/warnings.py\" target=\"_blank\"><span style=\"color: #7f7f7f; text-decoration-color: #7f7f7f\">warnings.py</span></a><span style=\"color: #7f7f7f; text-decoration-color: #7f7f7f\">:</span><a href=\"file:///Users/alexandrelara/.local/share/uv/python/cpython-3.10.16-macos-aarch64-none/lib/python3.10/warnings.py#109\" target=\"_blank\"><span style=\"color: #7f7f7f; text-decoration-color: #7f7f7f\">109</span></a>\n",
       "<span style=\"color: #7fbfbf; text-decoration-color: #7fbfbf\">                    </span>         <span style=\"color: #800080; text-decoration-color: #800080\">a-de-machine-learning/.venv/lib/python3.10/site-packages/kedro/io/</span><span style=\"color: #ff00ff; text-decoration-color: #ff00ff\">data</span> <span style=\"color: #7f7f7f; text-decoration-color: #7f7f7f\">               </span>\n",
       "<span style=\"color: #7fbfbf; text-decoration-color: #7fbfbf\">                    </span>         <span style=\"color: #ff00ff; text-decoration-color: #ff00ff\">_catalog.py</span>:<span style=\"color: #008080; text-decoration-color: #008080; font-weight: bold\">165</span>: KedroDeprecationWarning: `DataCatalog` has been       <span style=\"color: #7f7f7f; text-decoration-color: #7f7f7f\">               </span>\n",
       "<span style=\"color: #7fbfbf; text-decoration-color: #7fbfbf\">                    </span>         deprecated and will be replaced by `KedroDataCatalog`, in Kedro        <span style=\"color: #7f7f7f; text-decoration-color: #7f7f7f\">               </span>\n",
       "<span style=\"color: #7fbfbf; text-decoration-color: #7fbfbf\">                    </span>         <span style=\"color: #008080; text-decoration-color: #008080; font-weight: bold\">1.0</span>.<span style=\"color: #008080; text-decoration-color: #008080; font-weight: bold\">0.</span>Currently some `KedroDataCatalog` APIs have been retained for    <span style=\"color: #7f7f7f; text-decoration-color: #7f7f7f\">               </span>\n",
       "<span style=\"color: #7fbfbf; text-decoration-color: #7fbfbf\">                    </span>         compatibility with `DataCatalog`, including the `datasets` property    <span style=\"color: #7f7f7f; text-decoration-color: #7f7f7f\">               </span>\n",
       "<span style=\"color: #7fbfbf; text-decoration-color: #7fbfbf\">                    </span>         and the `get_datasets`, `_get_datasets`, `add`,` list`,                <span style=\"color: #7f7f7f; text-decoration-color: #7f7f7f\">               </span>\n",
       "<span style=\"color: #7fbfbf; text-decoration-color: #7fbfbf\">                    </span>         `add_feed_dict`, and `shallow_copy` methods. These will be removed or  <span style=\"color: #7f7f7f; text-decoration-color: #7f7f7f\">               </span>\n",
       "<span style=\"color: #7fbfbf; text-decoration-color: #7fbfbf\">                    </span>         replaced with updated alternatives in Kedro <span style=\"color: #008080; text-decoration-color: #008080; font-weight: bold\">1.0</span>.<span style=\"color: #008080; text-decoration-color: #008080; font-weight: bold\">0</span>. For more details,   <span style=\"color: #7f7f7f; text-decoration-color: #7f7f7f\">               </span>\n",
       "<span style=\"color: #7fbfbf; text-decoration-color: #7fbfbf\">                    </span>         refer to the documentation:                                            <span style=\"color: #7f7f7f; text-decoration-color: #7f7f7f\">               </span>\n",
       "<span style=\"color: #7fbfbf; text-decoration-color: #7fbfbf\">                    </span>         <span style=\"color: #0000ff; text-decoration-color: #0000ff; text-decoration: underline\">https://docs.kedro.org/en/stable/data/index.html#kedrodatacatalog-expe</span> <span style=\"color: #7f7f7f; text-decoration-color: #7f7f7f\">               </span>\n",
       "<span style=\"color: #7fbfbf; text-decoration-color: #7fbfbf\">                    </span>         <span style=\"color: #0000ff; text-decoration-color: #0000ff; text-decoration: underline\">rimental-feature</span>                                                       <span style=\"color: #7f7f7f; text-decoration-color: #7f7f7f\">               </span>\n",
       "<span style=\"color: #7fbfbf; text-decoration-color: #7fbfbf\">                    </span>           <span style=\"color: #800080; text-decoration-color: #800080; font-weight: bold\">warnings.warn</span><span style=\"font-weight: bold\">(</span>                                                       <span style=\"color: #7f7f7f; text-decoration-color: #7f7f7f\">               </span>\n",
       "<span style=\"color: #7fbfbf; text-decoration-color: #7fbfbf\">                    </span>                                                                                <span style=\"color: #7f7f7f; text-decoration-color: #7f7f7f\">               </span>\n",
       "</pre>\n"
      ],
      "text/plain": [
       "\u001b[2;36m                   \u001b[0m\u001b[2;36m \u001b[0m\u001b[33mWARNING \u001b[0m \u001b[35m/Users/alexandrelara/Documents/storage/c/code/project-infnet-engenhari\u001b[0m \u001b]8;id=354762;file:///Users/alexandrelara/.local/share/uv/python/cpython-3.10.16-macos-aarch64-none/lib/python3.10/warnings.py\u001b\\\u001b[2mwarnings.py\u001b[0m\u001b]8;;\u001b\\\u001b[2m:\u001b[0m\u001b]8;id=872286;file:///Users/alexandrelara/.local/share/uv/python/cpython-3.10.16-macos-aarch64-none/lib/python3.10/warnings.py#109\u001b\\\u001b[2m109\u001b[0m\u001b]8;;\u001b\\\n",
       "\u001b[2;36m                    \u001b[0m         \u001b[35ma-de-machine-learning/.venv/lib/python3.10/site-packages/kedro/io/\u001b[0m\u001b[95mdata\u001b[0m \u001b[2m               \u001b[0m\n",
       "\u001b[2;36m                    \u001b[0m         \u001b[95m_catalog.py\u001b[0m:\u001b[1;36m165\u001b[0m: KedroDeprecationWarning: `DataCatalog` has been       \u001b[2m               \u001b[0m\n",
       "\u001b[2;36m                    \u001b[0m         deprecated and will be replaced by `KedroDataCatalog`, in Kedro        \u001b[2m               \u001b[0m\n",
       "\u001b[2;36m                    \u001b[0m         \u001b[1;36m1.0\u001b[0m.\u001b[1;36m0.\u001b[0mCurrently some `KedroDataCatalog` APIs have been retained for    \u001b[2m               \u001b[0m\n",
       "\u001b[2;36m                    \u001b[0m         compatibility with `DataCatalog`, including the `datasets` property    \u001b[2m               \u001b[0m\n",
       "\u001b[2;36m                    \u001b[0m         and the `get_datasets`, `_get_datasets`, `add`,` list`,                \u001b[2m               \u001b[0m\n",
       "\u001b[2;36m                    \u001b[0m         `add_feed_dict`, and `shallow_copy` methods. These will be removed or  \u001b[2m               \u001b[0m\n",
       "\u001b[2;36m                    \u001b[0m         replaced with updated alternatives in Kedro \u001b[1;36m1.0\u001b[0m.\u001b[1;36m0\u001b[0m. For more details,   \u001b[2m               \u001b[0m\n",
       "\u001b[2;36m                    \u001b[0m         refer to the documentation:                                            \u001b[2m               \u001b[0m\n",
       "\u001b[2;36m                    \u001b[0m         \u001b[4;94mhttps://docs.kedro.org/en/stable/data/index.html#kedrodatacatalog-expe\u001b[0m \u001b[2m               \u001b[0m\n",
       "\u001b[2;36m                    \u001b[0m         \u001b[4;94mrimental-feature\u001b[0m                                                       \u001b[2m               \u001b[0m\n",
       "\u001b[2;36m                    \u001b[0m           \u001b[1;35mwarnings.warn\u001b[0m\u001b[1m(\u001b[0m                                                       \u001b[2m               \u001b[0m\n",
       "\u001b[2;36m                    \u001b[0m                                                                                \u001b[2m               \u001b[0m\n"
      ]
     },
     "metadata": {},
     "output_type": "display_data"
    },
    {
     "data": {
      "text/html": [
       "<pre style=\"white-space:pre;overflow-x:auto;line-height:normal;font-family:Menlo,'DejaVu Sans Mono',consolas,'Courier New',monospace\"><span style=\"color: #7fbfbf; text-decoration-color: #7fbfbf\">[04/07/25 18:55:36] </span><span style=\"color: #000080; text-decoration-color: #000080\">INFO    </span> Registering new custom resolver: <span style=\"color: #008000; text-decoration-color: #008000\">'km.random_name'</span>                    <a href=\"file:///Users/alexandrelara/Documents/storage/c/code/project-infnet-engenharia-de-machine-learning/.venv/lib/python3.10/site-packages/kedro_mlflow/framework/hooks/mlflow_hook.py\" target=\"_blank\"><span style=\"color: #7f7f7f; text-decoration-color: #7f7f7f\">mlflow_hook.py</span></a><span style=\"color: #7f7f7f; text-decoration-color: #7f7f7f\">:</span><a href=\"file:///Users/alexandrelara/Documents/storage/c/code/project-infnet-engenharia-de-machine-learning/.venv/lib/python3.10/site-packages/kedro_mlflow/framework/hooks/mlflow_hook.py#67\" target=\"_blank\"><span style=\"color: #7f7f7f; text-decoration-color: #7f7f7f\">67</span></a>\n",
       "</pre>\n"
      ],
      "text/plain": [
       "\u001b[2;36m[04/07/25 18:55:36]\u001b[0m\u001b[2;36m \u001b[0m\u001b[34mINFO    \u001b[0m Registering new custom resolver: \u001b[32m'km.random_name'\u001b[0m                    \u001b]8;id=731355;file:///Users/alexandrelara/Documents/storage/c/code/project-infnet-engenharia-de-machine-learning/.venv/lib/python3.10/site-packages/kedro_mlflow/framework/hooks/mlflow_hook.py\u001b\\\u001b[2mmlflow_hook.py\u001b[0m\u001b]8;;\u001b\\\u001b[2m:\u001b[0m\u001b]8;id=620732;file:///Users/alexandrelara/Documents/storage/c/code/project-infnet-engenharia-de-machine-learning/.venv/lib/python3.10/site-packages/kedro_mlflow/framework/hooks/mlflow_hook.py#67\u001b\\\u001b[2m67\u001b[0m\u001b]8;;\u001b\\\n"
      ]
     },
     "metadata": {},
     "output_type": "display_data"
    },
    {
     "data": {
      "text/html": [
       "<pre style=\"white-space:pre;overflow-x:auto;line-height:normal;font-family:Menlo,'DejaVu Sans Mono',consolas,'Courier New',monospace\"><span style=\"color: #7fbfbf; text-decoration-color: #7fbfbf\">                    </span><span style=\"color: #000080; text-decoration-color: #000080\">INFO    </span> The <span style=\"color: #008000; text-decoration-color: #008000\">'tracking_uri'</span> key in mlflow.yml is relative            <a href=\"file:///Users/alexandrelara/Documents/storage/c/code/project-infnet-engenharia-de-machine-learning/.venv/lib/python3.10/site-packages/kedro_mlflow/config/kedro_mlflow_config.py\" target=\"_blank\"><span style=\"color: #7f7f7f; text-decoration-color: #7f7f7f\">kedro_mlflow_config.py</span></a><span style=\"color: #7f7f7f; text-decoration-color: #7f7f7f\">:</span><a href=\"file:///Users/alexandrelara/Documents/storage/c/code/project-infnet-engenharia-de-machine-learning/.venv/lib/python3.10/site-packages/kedro_mlflow/config/kedro_mlflow_config.py#260\" target=\"_blank\"><span style=\"color: #7f7f7f; text-decoration-color: #7f7f7f\">260</span></a>\n",
       "<span style=\"color: #7fbfbf; text-decoration-color: #7fbfbf\">                    </span>         <span style=\"font-weight: bold\">(</span><span style=\"color: #008000; text-decoration-color: #008000\">'server.mlflow_(tracking|registry)_uri = mlruns'</span><span style=\"font-weight: bold\">)</span>. It is   <span style=\"color: #7f7f7f; text-decoration-color: #7f7f7f\">                          </span>\n",
       "<span style=\"color: #7fbfbf; text-decoration-color: #7fbfbf\">                    </span>         converted to a valid uri:                                   <span style=\"color: #7f7f7f; text-decoration-color: #7f7f7f\">                          </span>\n",
       "<span style=\"color: #7fbfbf; text-decoration-color: #7fbfbf\">                    </span>         <span style=\"color: #008000; text-decoration-color: #008000\">'file:///Users/alexandrelara/Documents/storage/c/code/proje</span> <span style=\"color: #7f7f7f; text-decoration-color: #7f7f7f\">                          </span>\n",
       "<span style=\"color: #7fbfbf; text-decoration-color: #7fbfbf\">                    </span>         <span style=\"color: #008000; text-decoration-color: #008000\">ct-infnet-engenharia-de-machine-learning/mlruns'</span>            <span style=\"color: #7f7f7f; text-decoration-color: #7f7f7f\">                          </span>\n",
       "</pre>\n"
      ],
      "text/plain": [
       "\u001b[2;36m                   \u001b[0m\u001b[2;36m \u001b[0m\u001b[34mINFO    \u001b[0m The \u001b[32m'tracking_uri'\u001b[0m key in mlflow.yml is relative            \u001b]8;id=551910;file:///Users/alexandrelara/Documents/storage/c/code/project-infnet-engenharia-de-machine-learning/.venv/lib/python3.10/site-packages/kedro_mlflow/config/kedro_mlflow_config.py\u001b\\\u001b[2mkedro_mlflow_config.py\u001b[0m\u001b]8;;\u001b\\\u001b[2m:\u001b[0m\u001b]8;id=787358;file:///Users/alexandrelara/Documents/storage/c/code/project-infnet-engenharia-de-machine-learning/.venv/lib/python3.10/site-packages/kedro_mlflow/config/kedro_mlflow_config.py#260\u001b\\\u001b[2m260\u001b[0m\u001b]8;;\u001b\\\n",
       "\u001b[2;36m                    \u001b[0m         \u001b[1m(\u001b[0m\u001b[32m'server.mlflow_\u001b[0m\u001b[32m(\u001b[0m\u001b[32mtracking|registry\u001b[0m\u001b[32m)\u001b[0m\u001b[32m_uri = mlruns'\u001b[0m\u001b[1m)\u001b[0m. It is   \u001b[2m                          \u001b[0m\n",
       "\u001b[2;36m                    \u001b[0m         converted to a valid uri:                                   \u001b[2m                          \u001b[0m\n",
       "\u001b[2;36m                    \u001b[0m         \u001b[32m'file:///Users/alexandrelara/Documents/storage/c/code/proje\u001b[0m \u001b[2m                          \u001b[0m\n",
       "\u001b[2;36m                    \u001b[0m         \u001b[32mct-infnet-engenharia-de-machine-learning/mlruns'\u001b[0m            \u001b[2m                          \u001b[0m\n"
      ]
     },
     "metadata": {},
     "output_type": "display_data"
    },
    {
     "data": {
      "text/html": [
       "<pre style=\"white-space:pre;overflow-x:auto;line-height:normal;font-family:Menlo,'DejaVu Sans Mono',consolas,'Courier New',monospace\"><span style=\"color: #7fbfbf; text-decoration-color: #7fbfbf\">                    </span><span style=\"color: #808000; text-decoration-color: #808000\">WARNING </span> <span style=\"color: #800080; text-decoration-color: #800080\">/Users/alexandrelara/Documents/storage/c/code/project-infnet-engenhari</span> <a href=\"file:///Users/alexandrelara/.local/share/uv/python/cpython-3.10.16-macos-aarch64-none/lib/python3.10/warnings.py\" target=\"_blank\"><span style=\"color: #7f7f7f; text-decoration-color: #7f7f7f\">warnings.py</span></a><span style=\"color: #7f7f7f; text-decoration-color: #7f7f7f\">:</span><a href=\"file:///Users/alexandrelara/.local/share/uv/python/cpython-3.10.16-macos-aarch64-none/lib/python3.10/warnings.py#109\" target=\"_blank\"><span style=\"color: #7f7f7f; text-decoration-color: #7f7f7f\">109</span></a>\n",
       "<span style=\"color: #7fbfbf; text-decoration-color: #7fbfbf\">                    </span>         <span style=\"color: #800080; text-decoration-color: #800080\">a-de-machine-learning/.venv/lib/python3.10/site-packages/kedro/io/</span><span style=\"color: #ff00ff; text-decoration-color: #ff00ff\">data</span> <span style=\"color: #7f7f7f; text-decoration-color: #7f7f7f\">               </span>\n",
       "<span style=\"color: #7fbfbf; text-decoration-color: #7fbfbf\">                    </span>         <span style=\"color: #ff00ff; text-decoration-color: #ff00ff\">_catalog.py</span>:<span style=\"color: #008080; text-decoration-color: #008080; font-weight: bold\">165</span>: KedroDeprecationWarning: `DataCatalog` has been       <span style=\"color: #7f7f7f; text-decoration-color: #7f7f7f\">               </span>\n",
       "<span style=\"color: #7fbfbf; text-decoration-color: #7fbfbf\">                    </span>         deprecated and will be replaced by `KedroDataCatalog`, in Kedro        <span style=\"color: #7f7f7f; text-decoration-color: #7f7f7f\">               </span>\n",
       "<span style=\"color: #7fbfbf; text-decoration-color: #7fbfbf\">                    </span>         <span style=\"color: #008080; text-decoration-color: #008080; font-weight: bold\">1.0</span>.<span style=\"color: #008080; text-decoration-color: #008080; font-weight: bold\">0.</span>Currently some `KedroDataCatalog` APIs have been retained for    <span style=\"color: #7f7f7f; text-decoration-color: #7f7f7f\">               </span>\n",
       "<span style=\"color: #7fbfbf; text-decoration-color: #7fbfbf\">                    </span>         compatibility with `DataCatalog`, including the `datasets` property    <span style=\"color: #7f7f7f; text-decoration-color: #7f7f7f\">               </span>\n",
       "<span style=\"color: #7fbfbf; text-decoration-color: #7fbfbf\">                    </span>         and the `get_datasets`, `_get_datasets`, `add`,` list`,                <span style=\"color: #7f7f7f; text-decoration-color: #7f7f7f\">               </span>\n",
       "<span style=\"color: #7fbfbf; text-decoration-color: #7fbfbf\">                    </span>         `add_feed_dict`, and `shallow_copy` methods. These will be removed or  <span style=\"color: #7f7f7f; text-decoration-color: #7f7f7f\">               </span>\n",
       "<span style=\"color: #7fbfbf; text-decoration-color: #7fbfbf\">                    </span>         replaced with updated alternatives in Kedro <span style=\"color: #008080; text-decoration-color: #008080; font-weight: bold\">1.0</span>.<span style=\"color: #008080; text-decoration-color: #008080; font-weight: bold\">0</span>. For more details,   <span style=\"color: #7f7f7f; text-decoration-color: #7f7f7f\">               </span>\n",
       "<span style=\"color: #7fbfbf; text-decoration-color: #7fbfbf\">                    </span>         refer to the documentation:                                            <span style=\"color: #7f7f7f; text-decoration-color: #7f7f7f\">               </span>\n",
       "<span style=\"color: #7fbfbf; text-decoration-color: #7fbfbf\">                    </span>         <span style=\"color: #0000ff; text-decoration-color: #0000ff; text-decoration: underline\">https://docs.kedro.org/en/stable/data/index.html#kedrodatacatalog-expe</span> <span style=\"color: #7f7f7f; text-decoration-color: #7f7f7f\">               </span>\n",
       "<span style=\"color: #7fbfbf; text-decoration-color: #7fbfbf\">                    </span>         <span style=\"color: #0000ff; text-decoration-color: #0000ff; text-decoration: underline\">rimental-feature</span>                                                       <span style=\"color: #7f7f7f; text-decoration-color: #7f7f7f\">               </span>\n",
       "<span style=\"color: #7fbfbf; text-decoration-color: #7fbfbf\">                    </span>           <span style=\"color: #800080; text-decoration-color: #800080; font-weight: bold\">warnings.warn</span><span style=\"font-weight: bold\">(</span>                                                       <span style=\"color: #7f7f7f; text-decoration-color: #7f7f7f\">               </span>\n",
       "<span style=\"color: #7fbfbf; text-decoration-color: #7fbfbf\">                    </span>                                                                                <span style=\"color: #7f7f7f; text-decoration-color: #7f7f7f\">               </span>\n",
       "</pre>\n"
      ],
      "text/plain": [
       "\u001b[2;36m                   \u001b[0m\u001b[2;36m \u001b[0m\u001b[33mWARNING \u001b[0m \u001b[35m/Users/alexandrelara/Documents/storage/c/code/project-infnet-engenhari\u001b[0m \u001b]8;id=717885;file:///Users/alexandrelara/.local/share/uv/python/cpython-3.10.16-macos-aarch64-none/lib/python3.10/warnings.py\u001b\\\u001b[2mwarnings.py\u001b[0m\u001b]8;;\u001b\\\u001b[2m:\u001b[0m\u001b]8;id=273699;file:///Users/alexandrelara/.local/share/uv/python/cpython-3.10.16-macos-aarch64-none/lib/python3.10/warnings.py#109\u001b\\\u001b[2m109\u001b[0m\u001b]8;;\u001b\\\n",
       "\u001b[2;36m                    \u001b[0m         \u001b[35ma-de-machine-learning/.venv/lib/python3.10/site-packages/kedro/io/\u001b[0m\u001b[95mdata\u001b[0m \u001b[2m               \u001b[0m\n",
       "\u001b[2;36m                    \u001b[0m         \u001b[95m_catalog.py\u001b[0m:\u001b[1;36m165\u001b[0m: KedroDeprecationWarning: `DataCatalog` has been       \u001b[2m               \u001b[0m\n",
       "\u001b[2;36m                    \u001b[0m         deprecated and will be replaced by `KedroDataCatalog`, in Kedro        \u001b[2m               \u001b[0m\n",
       "\u001b[2;36m                    \u001b[0m         \u001b[1;36m1.0\u001b[0m.\u001b[1;36m0.\u001b[0mCurrently some `KedroDataCatalog` APIs have been retained for    \u001b[2m               \u001b[0m\n",
       "\u001b[2;36m                    \u001b[0m         compatibility with `DataCatalog`, including the `datasets` property    \u001b[2m               \u001b[0m\n",
       "\u001b[2;36m                    \u001b[0m         and the `get_datasets`, `_get_datasets`, `add`,` list`,                \u001b[2m               \u001b[0m\n",
       "\u001b[2;36m                    \u001b[0m         `add_feed_dict`, and `shallow_copy` methods. These will be removed or  \u001b[2m               \u001b[0m\n",
       "\u001b[2;36m                    \u001b[0m         replaced with updated alternatives in Kedro \u001b[1;36m1.0\u001b[0m.\u001b[1;36m0\u001b[0m. For more details,   \u001b[2m               \u001b[0m\n",
       "\u001b[2;36m                    \u001b[0m         refer to the documentation:                                            \u001b[2m               \u001b[0m\n",
       "\u001b[2;36m                    \u001b[0m         \u001b[4;94mhttps://docs.kedro.org/en/stable/data/index.html#kedrodatacatalog-expe\u001b[0m \u001b[2m               \u001b[0m\n",
       "\u001b[2;36m                    \u001b[0m         \u001b[4;94mrimental-feature\u001b[0m                                                       \u001b[2m               \u001b[0m\n",
       "\u001b[2;36m                    \u001b[0m           \u001b[1;35mwarnings.warn\u001b[0m\u001b[1m(\u001b[0m                                                       \u001b[2m               \u001b[0m\n",
       "\u001b[2;36m                    \u001b[0m                                                                                \u001b[2m               \u001b[0m\n"
      ]
     },
     "metadata": {},
     "output_type": "display_data"
    },
    {
     "data": {
      "text/html": [
       "<pre style=\"white-space:pre;overflow-x:auto;line-height:normal;font-family:Menlo,'DejaVu Sans Mono',consolas,'Courier New',monospace\"><span style=\"color: #7fbfbf; text-decoration-color: #7fbfbf\">                    </span><span style=\"color: #000080; text-decoration-color: #000080\">INFO    </span> Kedro project project-infnet-engenharia-de-machine-learning            <a href=\"file:///Users/alexandrelara/Documents/storage/c/code/project-infnet-engenharia-de-machine-learning/.venv/lib/python3.10/site-packages/kedro/ipython/__init__.py\" target=\"_blank\"><span style=\"color: #7f7f7f; text-decoration-color: #7f7f7f\">__init__.py</span></a><span style=\"color: #7f7f7f; text-decoration-color: #7f7f7f\">:</span><a href=\"file:///Users/alexandrelara/Documents/storage/c/code/project-infnet-engenharia-de-machine-learning/.venv/lib/python3.10/site-packages/kedro/ipython/__init__.py#146\" target=\"_blank\"><span style=\"color: #7f7f7f; text-decoration-color: #7f7f7f\">146</span></a>\n",
       "</pre>\n"
      ],
      "text/plain": [
       "\u001b[2;36m                   \u001b[0m\u001b[2;36m \u001b[0m\u001b[34mINFO    \u001b[0m Kedro project project-infnet-engenharia-de-machine-learning            \u001b]8;id=45429;file:///Users/alexandrelara/Documents/storage/c/code/project-infnet-engenharia-de-machine-learning/.venv/lib/python3.10/site-packages/kedro/ipython/__init__.py\u001b\\\u001b[2m__init__.py\u001b[0m\u001b]8;;\u001b\\\u001b[2m:\u001b[0m\u001b]8;id=27061;file:///Users/alexandrelara/Documents/storage/c/code/project-infnet-engenharia-de-machine-learning/.venv/lib/python3.10/site-packages/kedro/ipython/__init__.py#146\u001b\\\u001b[2m146\u001b[0m\u001b]8;;\u001b\\\n"
      ]
     },
     "metadata": {},
     "output_type": "display_data"
    },
    {
     "data": {
      "text/html": [
       "<pre style=\"white-space:pre;overflow-x:auto;line-height:normal;font-family:Menlo,'DejaVu Sans Mono',consolas,'Courier New',monospace\"><span style=\"color: #7fbfbf; text-decoration-color: #7fbfbf\">                    </span><span style=\"color: #000080; text-decoration-color: #000080\">INFO    </span> Defined global variable <span style=\"color: #008000; text-decoration-color: #008000\">'context'</span>, <span style=\"color: #008000; text-decoration-color: #008000\">'session'</span>, <span style=\"color: #008000; text-decoration-color: #008000\">'catalog'</span> and            <a href=\"file:///Users/alexandrelara/Documents/storage/c/code/project-infnet-engenharia-de-machine-learning/.venv/lib/python3.10/site-packages/kedro/ipython/__init__.py\" target=\"_blank\"><span style=\"color: #7f7f7f; text-decoration-color: #7f7f7f\">__init__.py</span></a><span style=\"color: #7f7f7f; text-decoration-color: #7f7f7f\">:</span><a href=\"file:///Users/alexandrelara/Documents/storage/c/code/project-infnet-engenharia-de-machine-learning/.venv/lib/python3.10/site-packages/kedro/ipython/__init__.py#147\" target=\"_blank\"><span style=\"color: #7f7f7f; text-decoration-color: #7f7f7f\">147</span></a>\n",
       "<span style=\"color: #7fbfbf; text-decoration-color: #7fbfbf\">                    </span>         <span style=\"color: #008000; text-decoration-color: #008000\">'pipelines'</span>                                                            <span style=\"color: #7f7f7f; text-decoration-color: #7f7f7f\">               </span>\n",
       "</pre>\n"
      ],
      "text/plain": [
       "\u001b[2;36m                   \u001b[0m\u001b[2;36m \u001b[0m\u001b[34mINFO    \u001b[0m Defined global variable \u001b[32m'context'\u001b[0m, \u001b[32m'session'\u001b[0m, \u001b[32m'catalog'\u001b[0m and            \u001b]8;id=546309;file:///Users/alexandrelara/Documents/storage/c/code/project-infnet-engenharia-de-machine-learning/.venv/lib/python3.10/site-packages/kedro/ipython/__init__.py\u001b\\\u001b[2m__init__.py\u001b[0m\u001b]8;;\u001b\\\u001b[2m:\u001b[0m\u001b]8;id=901002;file:///Users/alexandrelara/Documents/storage/c/code/project-infnet-engenharia-de-machine-learning/.venv/lib/python3.10/site-packages/kedro/ipython/__init__.py#147\u001b\\\u001b[2m147\u001b[0m\u001b]8;;\u001b\\\n",
       "\u001b[2;36m                    \u001b[0m         \u001b[32m'pipelines'\u001b[0m                                                            \u001b[2m               \u001b[0m\n"
      ]
     },
     "metadata": {},
     "output_type": "display_data"
    },
    {
     "data": {
      "text/html": [
       "<pre style=\"white-space:pre;overflow-x:auto;line-height:normal;font-family:Menlo,'DejaVu Sans Mono',consolas,'Courier New',monospace\"><span style=\"color: #7fbfbf; text-decoration-color: #7fbfbf\">                    </span><span style=\"color: #000080; text-decoration-color: #000080\">INFO    </span> Registered line magic <span style=\"color: #008000; text-decoration-color: #008000\">'run_viz'</span>                                        <a href=\"file:///Users/alexandrelara/Documents/storage/c/code/project-infnet-engenharia-de-machine-learning/.venv/lib/python3.10/site-packages/kedro/ipython/__init__.py\" target=\"_blank\"><span style=\"color: #7f7f7f; text-decoration-color: #7f7f7f\">__init__.py</span></a><span style=\"color: #7f7f7f; text-decoration-color: #7f7f7f\">:</span><a href=\"file:///Users/alexandrelara/Documents/storage/c/code/project-infnet-engenharia-de-machine-learning/.venv/lib/python3.10/site-packages/kedro/ipython/__init__.py#153\" target=\"_blank\"><span style=\"color: #7f7f7f; text-decoration-color: #7f7f7f\">153</span></a>\n",
       "</pre>\n"
      ],
      "text/plain": [
       "\u001b[2;36m                   \u001b[0m\u001b[2;36m \u001b[0m\u001b[34mINFO    \u001b[0m Registered line magic \u001b[32m'run_viz'\u001b[0m                                        \u001b]8;id=895831;file:///Users/alexandrelara/Documents/storage/c/code/project-infnet-engenharia-de-machine-learning/.venv/lib/python3.10/site-packages/kedro/ipython/__init__.py\u001b\\\u001b[2m__init__.py\u001b[0m\u001b]8;;\u001b\\\u001b[2m:\u001b[0m\u001b]8;id=82424;file:///Users/alexandrelara/Documents/storage/c/code/project-infnet-engenharia-de-machine-learning/.venv/lib/python3.10/site-packages/kedro/ipython/__init__.py#153\u001b\\\u001b[2m153\u001b[0m\u001b]8;;\u001b\\\n"
      ]
     },
     "metadata": {},
     "output_type": "display_data"
    }
   ],
   "source": [
    "%load_ext kedro.ipython"
   ]
  },
  {
   "cell_type": "code",
   "execution_count": 2,
   "metadata": {},
   "outputs": [],
   "source": [
    "import pandas as pd\n",
    "from pycaret.classification import ClassificationExperiment"
   ]
  },
  {
   "cell_type": "code",
   "execution_count": 3,
   "metadata": {},
   "outputs": [
    {
     "data": {
      "text/html": [
       "<pre style=\"white-space:pre;overflow-x:auto;line-height:normal;font-family:Menlo,'DejaVu Sans Mono',consolas,'Courier New',monospace\"><span style=\"color: #7fbfbf; text-decoration-color: #7fbfbf\">[04/07/25 18:55:41] </span><span style=\"color: #000080; text-decoration-color: #000080\">INFO    </span> Loading data from <span style=\"color: #ff8700; text-decoration-color: #ff8700\">model_input_table</span> <span style=\"font-weight: bold\">(</span>ParquetDataset<span style=\"font-weight: bold\">)</span><span style=\"color: #808000; text-decoration-color: #808000\">...</span>            <a href=\"file:///Users/alexandrelara/Documents/storage/c/code/project-infnet-engenharia-de-machine-learning/.venv/lib/python3.10/site-packages/kedro/io/data_catalog.py\" target=\"_blank\"><span style=\"color: #7f7f7f; text-decoration-color: #7f7f7f\">data_catalog.py</span></a><span style=\"color: #7f7f7f; text-decoration-color: #7f7f7f\">:</span><a href=\"file:///Users/alexandrelara/Documents/storage/c/code/project-infnet-engenharia-de-machine-learning/.venv/lib/python3.10/site-packages/kedro/io/data_catalog.py#401\" target=\"_blank\"><span style=\"color: #7f7f7f; text-decoration-color: #7f7f7f\">401</span></a>\n",
       "</pre>\n"
      ],
      "text/plain": [
       "\u001b[2;36m[04/07/25 18:55:41]\u001b[0m\u001b[2;36m \u001b[0m\u001b[34mINFO    \u001b[0m Loading data from \u001b[38;5;208mmodel_input_table\u001b[0m \u001b[1m(\u001b[0mParquetDataset\u001b[1m)\u001b[0m\u001b[33m...\u001b[0m            \u001b]8;id=976207;file:///Users/alexandrelara/Documents/storage/c/code/project-infnet-engenharia-de-machine-learning/.venv/lib/python3.10/site-packages/kedro/io/data_catalog.py\u001b\\\u001b[2mdata_catalog.py\u001b[0m\u001b]8;;\u001b\\\u001b[2m:\u001b[0m\u001b]8;id=744559;file:///Users/alexandrelara/Documents/storage/c/code/project-infnet-engenharia-de-machine-learning/.venv/lib/python3.10/site-packages/kedro/io/data_catalog.py#401\u001b\\\u001b[2m401\u001b[0m\u001b]8;;\u001b\\\n"
      ]
     },
     "metadata": {},
     "output_type": "display_data"
    },
    {
     "data": {
      "text/html": [
       "<pre style=\"white-space:pre;overflow-x:auto;line-height:normal;font-family:Menlo,'DejaVu Sans Mono',consolas,'Courier New',monospace\"></pre>\n"
      ],
      "text/plain": []
     },
     "metadata": {},
     "output_type": "display_data"
    },
    {
     "data": {
      "text/html": [
       "<div>\n",
       "<style scoped>\n",
       "    .dataframe tbody tr th:only-of-type {\n",
       "        vertical-align: middle;\n",
       "    }\n",
       "\n",
       "    .dataframe tbody tr th {\n",
       "        vertical-align: top;\n",
       "    }\n",
       "\n",
       "    .dataframe thead th {\n",
       "        text-align: right;\n",
       "    }\n",
       "</style>\n",
       "<table border=\"1\" class=\"dataframe\">\n",
       "  <thead>\n",
       "    <tr style=\"text-align: right;\">\n",
       "      <th></th>\n",
       "      <th>lat</th>\n",
       "      <th>lng</th>\n",
       "      <th>minutes_remaining</th>\n",
       "      <th>period</th>\n",
       "      <th>playoffs</th>\n",
       "      <th>shot_distance</th>\n",
       "      <th>shot_made_flag</th>\n",
       "    </tr>\n",
       "  </thead>\n",
       "  <tbody>\n",
       "    <tr>\n",
       "      <th>1</th>\n",
       "      <td>34.0443</td>\n",
       "      <td>-118.4268</td>\n",
       "      <td>10</td>\n",
       "      <td>1</td>\n",
       "      <td>0</td>\n",
       "      <td>15</td>\n",
       "      <td>0</td>\n",
       "    </tr>\n",
       "    <tr>\n",
       "      <th>2</th>\n",
       "      <td>33.9093</td>\n",
       "      <td>-118.3708</td>\n",
       "      <td>7</td>\n",
       "      <td>1</td>\n",
       "      <td>0</td>\n",
       "      <td>16</td>\n",
       "      <td>1</td>\n",
       "    </tr>\n",
       "    <tr>\n",
       "      <th>3</th>\n",
       "      <td>33.8693</td>\n",
       "      <td>-118.1318</td>\n",
       "      <td>6</td>\n",
       "      <td>1</td>\n",
       "      <td>0</td>\n",
       "      <td>22</td>\n",
       "      <td>0</td>\n",
       "    </tr>\n",
       "    <tr>\n",
       "      <th>4</th>\n",
       "      <td>34.0443</td>\n",
       "      <td>-118.2698</td>\n",
       "      <td>6</td>\n",
       "      <td>2</td>\n",
       "      <td>0</td>\n",
       "      <td>0</td>\n",
       "      <td>1</td>\n",
       "    </tr>\n",
       "    <tr>\n",
       "      <th>5</th>\n",
       "      <td>34.0553</td>\n",
       "      <td>-118.4148</td>\n",
       "      <td>9</td>\n",
       "      <td>3</td>\n",
       "      <td>0</td>\n",
       "      <td>14</td>\n",
       "      <td>0</td>\n",
       "    </tr>\n",
       "  </tbody>\n",
       "</table>\n",
       "</div>"
      ],
      "text/plain": [
       "\n",
       "       lat       lng  minutes_remaining  period  playoffs  shot_distance  \\\n",
       "\u001b[1;36m1\u001b[0m  \u001b[1;36m34.0443\u001b[0m \u001b[1;36m-118.4268\u001b[0m                 \u001b[1;36m10\u001b[0m       \u001b[1;36m1\u001b[0m         \u001b[1;36m0\u001b[0m             \u001b[1;36m15\u001b[0m   \n",
       "\u001b[1;36m2\u001b[0m  \u001b[1;36m33.9093\u001b[0m \u001b[1;36m-118.3708\u001b[0m                  \u001b[1;36m7\u001b[0m       \u001b[1;36m1\u001b[0m         \u001b[1;36m0\u001b[0m             \u001b[1;36m16\u001b[0m   \n",
       "\u001b[1;36m3\u001b[0m  \u001b[1;36m33.8693\u001b[0m \u001b[1;36m-118.1318\u001b[0m                  \u001b[1;36m6\u001b[0m       \u001b[1;36m1\u001b[0m         \u001b[1;36m0\u001b[0m             \u001b[1;36m22\u001b[0m   \n",
       "\u001b[1;36m4\u001b[0m  \u001b[1;36m34.0443\u001b[0m \u001b[1;36m-118.2698\u001b[0m                  \u001b[1;36m6\u001b[0m       \u001b[1;36m2\u001b[0m         \u001b[1;36m0\u001b[0m              \u001b[1;36m0\u001b[0m   \n",
       "\u001b[1;36m5\u001b[0m  \u001b[1;36m34.0553\u001b[0m \u001b[1;36m-118.4148\u001b[0m                  \u001b[1;36m9\u001b[0m       \u001b[1;36m3\u001b[0m         \u001b[1;36m0\u001b[0m             \u001b[1;36m14\u001b[0m   \n",
       "\n",
       "   shot_made_flag  \n",
       "\u001b[1;36m1\u001b[0m               \u001b[1;36m0\u001b[0m  \n",
       "\u001b[1;36m2\u001b[0m               \u001b[1;36m1\u001b[0m  \n",
       "\u001b[1;36m3\u001b[0m               \u001b[1;36m0\u001b[0m  \n",
       "\u001b[1;36m4\u001b[0m               \u001b[1;36m1\u001b[0m  \n",
       "\u001b[1;36m5\u001b[0m               \u001b[1;36m0\u001b[0m  "
      ]
     },
     "execution_count": 3,
     "metadata": {},
     "output_type": "execute_result"
    }
   ],
   "source": [
    "model_input_table = catalog.load('model_input_table')\n",
    "model_input_table.head()"
   ]
  },
  {
   "cell_type": "code",
   "execution_count": 4,
   "metadata": {},
   "outputs": [
    {
     "data": {
      "text/html": [
       "<pre style=\"white-space:pre;overflow-x:auto;line-height:normal;font-family:Menlo,'DejaVu Sans Mono',consolas,'Courier New',monospace\"></pre>\n"
      ],
      "text/plain": []
     },
     "metadata": {},
     "output_type": "display_data"
    },
    {
     "data": {
      "text/html": [
       "<style type=\"text/css\">\n",
       "#T_e6130_row8_col1 {\n",
       "  background-color: lightgreen;\n",
       "}\n",
       "</style>\n",
       "<table id=\"T_e6130\">\n",
       "  <thead>\n",
       "    <tr>\n",
       "      <th class=\"blank level0\" >&nbsp;</th>\n",
       "      <th id=\"T_e6130_level0_col0\" class=\"col_heading level0 col0\" >Description</th>\n",
       "      <th id=\"T_e6130_level0_col1\" class=\"col_heading level0 col1\" >Value</th>\n",
       "    </tr>\n",
       "  </thead>\n",
       "  <tbody>\n",
       "    <tr>\n",
       "      <th id=\"T_e6130_level0_row0\" class=\"row_heading level0 row0\" >0</th>\n",
       "      <td id=\"T_e6130_row0_col0\" class=\"data row0 col0\" >Session id</td>\n",
       "      <td id=\"T_e6130_row0_col1\" class=\"data row0 col1\" >42</td>\n",
       "    </tr>\n",
       "    <tr>\n",
       "      <th id=\"T_e6130_level0_row1\" class=\"row_heading level0 row1\" >1</th>\n",
       "      <td id=\"T_e6130_row1_col0\" class=\"data row1 col0\" >Target</td>\n",
       "      <td id=\"T_e6130_row1_col1\" class=\"data row1 col1\" >shot_made_flag</td>\n",
       "    </tr>\n",
       "    <tr>\n",
       "      <th id=\"T_e6130_level0_row2\" class=\"row_heading level0 row2\" >2</th>\n",
       "      <td id=\"T_e6130_row2_col0\" class=\"data row2 col0\" >Target type</td>\n",
       "      <td id=\"T_e6130_row2_col1\" class=\"data row2 col1\" >Binary</td>\n",
       "    </tr>\n",
       "    <tr>\n",
       "      <th id=\"T_e6130_level0_row3\" class=\"row_heading level0 row3\" >3</th>\n",
       "      <td id=\"T_e6130_row3_col0\" class=\"data row3 col0\" >Original data shape</td>\n",
       "      <td id=\"T_e6130_row3_col1\" class=\"data row3 col1\" >(20285, 7)</td>\n",
       "    </tr>\n",
       "    <tr>\n",
       "      <th id=\"T_e6130_level0_row4\" class=\"row_heading level0 row4\" >4</th>\n",
       "      <td id=\"T_e6130_row4_col0\" class=\"data row4 col0\" >Transformed data shape</td>\n",
       "      <td id=\"T_e6130_row4_col1\" class=\"data row4 col1\" >(20285, 7)</td>\n",
       "    </tr>\n",
       "    <tr>\n",
       "      <th id=\"T_e6130_level0_row5\" class=\"row_heading level0 row5\" >5</th>\n",
       "      <td id=\"T_e6130_row5_col0\" class=\"data row5 col0\" >Transformed train set shape</td>\n",
       "      <td id=\"T_e6130_row5_col1\" class=\"data row5 col1\" >(16228, 7)</td>\n",
       "    </tr>\n",
       "    <tr>\n",
       "      <th id=\"T_e6130_level0_row6\" class=\"row_heading level0 row6\" >6</th>\n",
       "      <td id=\"T_e6130_row6_col0\" class=\"data row6 col0\" >Transformed test set shape</td>\n",
       "      <td id=\"T_e6130_row6_col1\" class=\"data row6 col1\" >(4057, 7)</td>\n",
       "    </tr>\n",
       "    <tr>\n",
       "      <th id=\"T_e6130_level0_row7\" class=\"row_heading level0 row7\" >7</th>\n",
       "      <td id=\"T_e6130_row7_col0\" class=\"data row7 col0\" >Numeric features</td>\n",
       "      <td id=\"T_e6130_row7_col1\" class=\"data row7 col1\" >6</td>\n",
       "    </tr>\n",
       "    <tr>\n",
       "      <th id=\"T_e6130_level0_row8\" class=\"row_heading level0 row8\" >8</th>\n",
       "      <td id=\"T_e6130_row8_col0\" class=\"data row8 col0\" >Preprocess</td>\n",
       "      <td id=\"T_e6130_row8_col1\" class=\"data row8 col1\" >True</td>\n",
       "    </tr>\n",
       "    <tr>\n",
       "      <th id=\"T_e6130_level0_row9\" class=\"row_heading level0 row9\" >9</th>\n",
       "      <td id=\"T_e6130_row9_col0\" class=\"data row9 col0\" >Imputation type</td>\n",
       "      <td id=\"T_e6130_row9_col1\" class=\"data row9 col1\" >simple</td>\n",
       "    </tr>\n",
       "    <tr>\n",
       "      <th id=\"T_e6130_level0_row10\" class=\"row_heading level0 row10\" >10</th>\n",
       "      <td id=\"T_e6130_row10_col0\" class=\"data row10 col0\" >Numeric imputation</td>\n",
       "      <td id=\"T_e6130_row10_col1\" class=\"data row10 col1\" >mean</td>\n",
       "    </tr>\n",
       "    <tr>\n",
       "      <th id=\"T_e6130_level0_row11\" class=\"row_heading level0 row11\" >11</th>\n",
       "      <td id=\"T_e6130_row11_col0\" class=\"data row11 col0\" >Categorical imputation</td>\n",
       "      <td id=\"T_e6130_row11_col1\" class=\"data row11 col1\" >mode</td>\n",
       "    </tr>\n",
       "    <tr>\n",
       "      <th id=\"T_e6130_level0_row12\" class=\"row_heading level0 row12\" >12</th>\n",
       "      <td id=\"T_e6130_row12_col0\" class=\"data row12 col0\" >Fold Generator</td>\n",
       "      <td id=\"T_e6130_row12_col1\" class=\"data row12 col1\" >StratifiedKFold</td>\n",
       "    </tr>\n",
       "    <tr>\n",
       "      <th id=\"T_e6130_level0_row13\" class=\"row_heading level0 row13\" >13</th>\n",
       "      <td id=\"T_e6130_row13_col0\" class=\"data row13 col0\" >Fold Number</td>\n",
       "      <td id=\"T_e6130_row13_col1\" class=\"data row13 col1\" >10</td>\n",
       "    </tr>\n",
       "    <tr>\n",
       "      <th id=\"T_e6130_level0_row14\" class=\"row_heading level0 row14\" >14</th>\n",
       "      <td id=\"T_e6130_row14_col0\" class=\"data row14 col0\" >CPU Jobs</td>\n",
       "      <td id=\"T_e6130_row14_col1\" class=\"data row14 col1\" >-1</td>\n",
       "    </tr>\n",
       "    <tr>\n",
       "      <th id=\"T_e6130_level0_row15\" class=\"row_heading level0 row15\" >15</th>\n",
       "      <td id=\"T_e6130_row15_col0\" class=\"data row15 col0\" >Use GPU</td>\n",
       "      <td id=\"T_e6130_row15_col1\" class=\"data row15 col1\" >False</td>\n",
       "    </tr>\n",
       "    <tr>\n",
       "      <th id=\"T_e6130_level0_row16\" class=\"row_heading level0 row16\" >16</th>\n",
       "      <td id=\"T_e6130_row16_col0\" class=\"data row16 col0\" >Log Experiment</td>\n",
       "      <td id=\"T_e6130_row16_col1\" class=\"data row16 col1\" >False</td>\n",
       "    </tr>\n",
       "    <tr>\n",
       "      <th id=\"T_e6130_level0_row17\" class=\"row_heading level0 row17\" >17</th>\n",
       "      <td id=\"T_e6130_row17_col0\" class=\"data row17 col0\" >Experiment Name</td>\n",
       "      <td id=\"T_e6130_row17_col1\" class=\"data row17 col1\" >clf-default-name</td>\n",
       "    </tr>\n",
       "    <tr>\n",
       "      <th id=\"T_e6130_level0_row18\" class=\"row_heading level0 row18\" >18</th>\n",
       "      <td id=\"T_e6130_row18_col0\" class=\"data row18 col0\" >USI</td>\n",
       "      <td id=\"T_e6130_row18_col1\" class=\"data row18 col1\" >5d94</td>\n",
       "    </tr>\n",
       "  </tbody>\n",
       "</table>\n"
      ],
      "text/plain": [
       "\u001b[1m<\u001b[0m\u001b[1;95mpandas.io.formats.style.Styler\u001b[0m\u001b[39m object at \u001b[0m\u001b[1;36m0x3792d0f40\u001b[0m\u001b[1m>\u001b[0m"
      ]
     },
     "metadata": {},
     "output_type": "display_data"
    },
    {
     "data": {
      "text/html": [
       "<pre style=\"white-space:pre;overflow-x:auto;line-height:normal;font-family:Menlo,'DejaVu Sans Mono',consolas,'Courier New',monospace\"></pre>\n"
      ],
      "text/plain": []
     },
     "metadata": {},
     "output_type": "display_data"
    },
    {
     "data": {
      "text/html": [
       "<pre style=\"white-space:pre;overflow-x:auto;line-height:normal;font-family:Menlo,'DejaVu Sans Mono',consolas,'Courier New',monospace\"></pre>\n"
      ],
      "text/plain": []
     },
     "metadata": {},
     "output_type": "display_data"
    },
    {
     "data": {
      "text/plain": [
       "\u001b[1m<\u001b[0m\u001b[1;95mpycaret.classification.oop.ClassificationExperiment\u001b[0m\u001b[39m object at \u001b[0m\u001b[1;36m0x376c34130\u001b[0m\u001b[1m>\u001b[0m"
      ]
     },
     "execution_count": 4,
     "metadata": {},
     "output_type": "execute_result"
    }
   ],
   "source": [
    "experiment = ClassificationExperiment()\n",
    "experiment.setup(\n",
    "    data=model_input_table,\n",
    "    target=\"shot_made_flag\",\n",
    "    train_size=0.8,\n",
    "    session_id=42,\n",
    ")"
   ]
  },
  {
   "cell_type": "code",
   "execution_count": 14,
   "metadata": {},
   "outputs": [],
   "source": [
    "X_train = experiment.get_config('X_train')\n",
    "X_test = experiment.get_config('X_test')\n",
    "y_train = experiment.get_config('y_train')\n",
    "y_test = experiment.get_config('y_test')"
   ]
  },
  {
   "cell_type": "code",
   "execution_count": 17,
   "metadata": {},
   "outputs": [
    {
     "data": {
      "text/html": [
       "<pre style=\"white-space:pre;overflow-x:auto;line-height:normal;font-family:Menlo,'DejaVu Sans Mono',consolas,'Courier New',monospace\"></pre>\n"
      ],
      "text/plain": []
     },
     "metadata": {},
     "output_type": "display_data"
    },
    {
     "data": {
      "text/html": [
       "<div>\n",
       "<style scoped>\n",
       "    .dataframe tbody tr th:only-of-type {\n",
       "        vertical-align: middle;\n",
       "    }\n",
       "\n",
       "    .dataframe tbody tr th {\n",
       "        vertical-align: top;\n",
       "    }\n",
       "\n",
       "    .dataframe thead th {\n",
       "        text-align: right;\n",
       "    }\n",
       "</style>\n",
       "<table border=\"1\" class=\"dataframe\">\n",
       "  <thead>\n",
       "    <tr style=\"text-align: right;\">\n",
       "      <th></th>\n",
       "      <th>lat</th>\n",
       "      <th>lng</th>\n",
       "      <th>minutes_remaining</th>\n",
       "      <th>period</th>\n",
       "      <th>playoffs</th>\n",
       "      <th>shot_distance</th>\n",
       "      <th>shot_made_flag</th>\n",
       "    </tr>\n",
       "  </thead>\n",
       "  <tbody>\n",
       "    <tr>\n",
       "      <th>7006</th>\n",
       "      <td>34.034302</td>\n",
       "      <td>-118.128799</td>\n",
       "      <td>1</td>\n",
       "      <td>2</td>\n",
       "      <td>0</td>\n",
       "      <td>14</td>\n",
       "      <td>0</td>\n",
       "    </tr>\n",
       "    <tr>\n",
       "      <th>20760</th>\n",
       "      <td>33.972301</td>\n",
       "      <td>-118.080803</td>\n",
       "      <td>0</td>\n",
       "      <td>3</td>\n",
       "      <td>0</td>\n",
       "      <td>20</td>\n",
       "      <td>0</td>\n",
       "    </tr>\n",
       "    <tr>\n",
       "      <th>15143</th>\n",
       "      <td>33.871300</td>\n",
       "      <td>-118.172798</td>\n",
       "      <td>11</td>\n",
       "      <td>3</td>\n",
       "      <td>0</td>\n",
       "      <td>19</td>\n",
       "      <td>0</td>\n",
       "    </tr>\n",
       "    <tr>\n",
       "      <th>10506</th>\n",
       "      <td>34.044300</td>\n",
       "      <td>-118.269798</td>\n",
       "      <td>11</td>\n",
       "      <td>2</td>\n",
       "      <td>0</td>\n",
       "      <td>0</td>\n",
       "      <td>1</td>\n",
       "    </tr>\n",
       "    <tr>\n",
       "      <th>21377</th>\n",
       "      <td>33.854301</td>\n",
       "      <td>-118.269798</td>\n",
       "      <td>11</td>\n",
       "      <td>3</td>\n",
       "      <td>0</td>\n",
       "      <td>19</td>\n",
       "      <td>0</td>\n",
       "    </tr>\n",
       "  </tbody>\n",
       "</table>\n",
       "</div>"
      ],
      "text/plain": [
       "\n",
       "             lat         lng  minutes_remaining  period  playoffs  \\\n",
       "\u001b[1;36m7006\u001b[0m   \u001b[1;36m34.034302\u001b[0m \u001b[1;36m-118.128799\u001b[0m                  \u001b[1;36m1\u001b[0m       \u001b[1;36m2\u001b[0m         \u001b[1;36m0\u001b[0m   \n",
       "\u001b[1;36m20760\u001b[0m  \u001b[1;36m33.972301\u001b[0m \u001b[1;36m-118.080803\u001b[0m                  \u001b[1;36m0\u001b[0m       \u001b[1;36m3\u001b[0m         \u001b[1;36m0\u001b[0m   \n",
       "\u001b[1;36m15143\u001b[0m  \u001b[1;36m33.871300\u001b[0m \u001b[1;36m-118.172798\u001b[0m                 \u001b[1;36m11\u001b[0m       \u001b[1;36m3\u001b[0m         \u001b[1;36m0\u001b[0m   \n",
       "\u001b[1;36m10506\u001b[0m  \u001b[1;36m34.044300\u001b[0m \u001b[1;36m-118.269798\u001b[0m                 \u001b[1;36m11\u001b[0m       \u001b[1;36m2\u001b[0m         \u001b[1;36m0\u001b[0m   \n",
       "\u001b[1;36m21377\u001b[0m  \u001b[1;36m33.854301\u001b[0m \u001b[1;36m-118.269798\u001b[0m                 \u001b[1;36m11\u001b[0m       \u001b[1;36m3\u001b[0m         \u001b[1;36m0\u001b[0m   \n",
       "\n",
       "       shot_distance  shot_made_flag  \n",
       "\u001b[1;36m7006\u001b[0m              \u001b[1;36m14\u001b[0m               \u001b[1;36m0\u001b[0m  \n",
       "\u001b[1;36m20760\u001b[0m             \u001b[1;36m20\u001b[0m               \u001b[1;36m0\u001b[0m  \n",
       "\u001b[1;36m15143\u001b[0m             \u001b[1;36m19\u001b[0m               \u001b[1;36m0\u001b[0m  \n",
       "\u001b[1;36m10506\u001b[0m              \u001b[1;36m0\u001b[0m               \u001b[1;36m1\u001b[0m  \n",
       "\u001b[1;36m21377\u001b[0m             \u001b[1;36m19\u001b[0m               \u001b[1;36m0\u001b[0m  "
      ]
     },
     "execution_count": 17,
     "metadata": {},
     "output_type": "execute_result"
    }
   ],
   "source": [
    "train_data = pd.concat([X_train, y_train], axis=1)\n",
    "train_data.head()"
   ]
  },
  {
   "cell_type": "code",
   "execution_count": 18,
   "metadata": {},
   "outputs": [
    {
     "data": {
      "text/html": [
       "<pre style=\"white-space:pre;overflow-x:auto;line-height:normal;font-family:Menlo,'DejaVu Sans Mono',consolas,'Courier New',monospace\"></pre>\n"
      ],
      "text/plain": []
     },
     "metadata": {},
     "output_type": "display_data"
    },
    {
     "data": {
      "text/html": [
       "<div>\n",
       "<style scoped>\n",
       "    .dataframe tbody tr th:only-of-type {\n",
       "        vertical-align: middle;\n",
       "    }\n",
       "\n",
       "    .dataframe tbody tr th {\n",
       "        vertical-align: top;\n",
       "    }\n",
       "\n",
       "    .dataframe thead th {\n",
       "        text-align: right;\n",
       "    }\n",
       "</style>\n",
       "<table border=\"1\" class=\"dataframe\">\n",
       "  <thead>\n",
       "    <tr style=\"text-align: right;\">\n",
       "      <th></th>\n",
       "      <th>lat</th>\n",
       "      <th>lng</th>\n",
       "      <th>minutes_remaining</th>\n",
       "      <th>period</th>\n",
       "      <th>playoffs</th>\n",
       "      <th>shot_distance</th>\n",
       "      <th>shot_made_flag</th>\n",
       "    </tr>\n",
       "  </thead>\n",
       "  <tbody>\n",
       "    <tr>\n",
       "      <th>30558</th>\n",
       "      <td>33.888302</td>\n",
       "      <td>-118.382797</td>\n",
       "      <td>11</td>\n",
       "      <td>3</td>\n",
       "      <td>1</td>\n",
       "      <td>19</td>\n",
       "      <td>0</td>\n",
       "    </tr>\n",
       "    <tr>\n",
       "      <th>520</th>\n",
       "      <td>34.021301</td>\n",
       "      <td>-118.159798</td>\n",
       "      <td>2</td>\n",
       "      <td>3</td>\n",
       "      <td>0</td>\n",
       "      <td>11</td>\n",
       "      <td>0</td>\n",
       "    </tr>\n",
       "    <tr>\n",
       "      <th>25613</th>\n",
       "      <td>33.983299</td>\n",
       "      <td>-118.120796</td>\n",
       "      <td>10</td>\n",
       "      <td>2</td>\n",
       "      <td>0</td>\n",
       "      <td>16</td>\n",
       "      <td>0</td>\n",
       "    </tr>\n",
       "    <tr>\n",
       "      <th>15368</th>\n",
       "      <td>34.044300</td>\n",
       "      <td>-118.269798</td>\n",
       "      <td>0</td>\n",
       "      <td>4</td>\n",
       "      <td>0</td>\n",
       "      <td>0</td>\n",
       "      <td>1</td>\n",
       "    </tr>\n",
       "    <tr>\n",
       "      <th>9175</th>\n",
       "      <td>34.044300</td>\n",
       "      <td>-118.269798</td>\n",
       "      <td>0</td>\n",
       "      <td>1</td>\n",
       "      <td>0</td>\n",
       "      <td>0</td>\n",
       "      <td>0</td>\n",
       "    </tr>\n",
       "  </tbody>\n",
       "</table>\n",
       "</div>"
      ],
      "text/plain": [
       "\n",
       "             lat         lng  minutes_remaining  period  playoffs  \\\n",
       "\u001b[1;36m30558\u001b[0m  \u001b[1;36m33.888302\u001b[0m \u001b[1;36m-118.382797\u001b[0m                 \u001b[1;36m11\u001b[0m       \u001b[1;36m3\u001b[0m         \u001b[1;36m1\u001b[0m   \n",
       "\u001b[1;36m520\u001b[0m    \u001b[1;36m34.021301\u001b[0m \u001b[1;36m-118.159798\u001b[0m                  \u001b[1;36m2\u001b[0m       \u001b[1;36m3\u001b[0m         \u001b[1;36m0\u001b[0m   \n",
       "\u001b[1;36m25613\u001b[0m  \u001b[1;36m33.983299\u001b[0m \u001b[1;36m-118.120796\u001b[0m                 \u001b[1;36m10\u001b[0m       \u001b[1;36m2\u001b[0m         \u001b[1;36m0\u001b[0m   \n",
       "\u001b[1;36m15368\u001b[0m  \u001b[1;36m34.044300\u001b[0m \u001b[1;36m-118.269798\u001b[0m                  \u001b[1;36m0\u001b[0m       \u001b[1;36m4\u001b[0m         \u001b[1;36m0\u001b[0m   \n",
       "\u001b[1;36m9175\u001b[0m   \u001b[1;36m34.044300\u001b[0m \u001b[1;36m-118.269798\u001b[0m                  \u001b[1;36m0\u001b[0m       \u001b[1;36m1\u001b[0m         \u001b[1;36m0\u001b[0m   \n",
       "\n",
       "       shot_distance  shot_made_flag  \n",
       "\u001b[1;36m30558\u001b[0m             \u001b[1;36m19\u001b[0m               \u001b[1;36m0\u001b[0m  \n",
       "\u001b[1;36m520\u001b[0m               \u001b[1;36m11\u001b[0m               \u001b[1;36m0\u001b[0m  \n",
       "\u001b[1;36m25613\u001b[0m             \u001b[1;36m16\u001b[0m               \u001b[1;36m0\u001b[0m  \n",
       "\u001b[1;36m15368\u001b[0m              \u001b[1;36m0\u001b[0m               \u001b[1;36m1\u001b[0m  \n",
       "\u001b[1;36m9175\u001b[0m               \u001b[1;36m0\u001b[0m               \u001b[1;36m0\u001b[0m  "
      ]
     },
     "execution_count": 18,
     "metadata": {},
     "output_type": "execute_result"
    }
   ],
   "source": [
    "test_data = pd.concat([X_test, y_test], axis=1)\n",
    "test_data.head()"
   ]
  },
  {
   "cell_type": "code",
   "execution_count": 11,
   "metadata": {},
   "outputs": [
    {
     "data": {
      "text/html": [
       "<pre style=\"white-space:pre;overflow-x:auto;line-height:normal;font-family:Menlo,'DejaVu Sans Mono',consolas,'Courier New',monospace\"></pre>\n"
      ],
      "text/plain": []
     },
     "metadata": {},
     "output_type": "display_data"
    },
    {
     "data": {
      "text/plain": [
       "\n",
       "\u001b[1;36m7006\u001b[0m     \u001b[1;36m0\u001b[0m\n",
       "\u001b[1;36m20760\u001b[0m    \u001b[1;36m0\u001b[0m\n",
       "\u001b[1;36m15143\u001b[0m    \u001b[1;36m0\u001b[0m\n",
       "\u001b[1;36m10506\u001b[0m    \u001b[1;36m1\u001b[0m\n",
       "\u001b[1;36m21377\u001b[0m    \u001b[1;36m0\u001b[0m\n",
       "        ..\n",
       "\u001b[1;36m29740\u001b[0m    \u001b[1;36m0\u001b[0m\n",
       "\u001b[1;36m23272\u001b[0m    \u001b[1;36m1\u001b[0m\n",
       "\u001b[1;36m6023\u001b[0m     \u001b[1;36m1\u001b[0m\n",
       "\u001b[1;36m1104\u001b[0m     \u001b[1;36m1\u001b[0m\n",
       "\u001b[1;36m27185\u001b[0m    \u001b[1;36m1\u001b[0m\n",
       "Name: shot_made_flag, Length: \u001b[1;36m16228\u001b[0m, dtype: Int8"
      ]
     },
     "execution_count": 11,
     "metadata": {},
     "output_type": "execute_result"
    }
   ],
   "source": [
    "experiment.get_config('y_train')"
   ]
  },
  {
   "cell_type": "code",
   "execution_count": 12,
   "metadata": {},
   "outputs": [
    {
     "data": {
      "text/html": [
       "<pre style=\"white-space:pre;overflow-x:auto;line-height:normal;font-family:Menlo,'DejaVu Sans Mono',consolas,'Courier New',monospace\"></pre>\n"
      ],
      "text/plain": []
     },
     "metadata": {},
     "output_type": "display_data"
    },
    {
     "data": {
      "text/html": [
       "<div>\n",
       "<style scoped>\n",
       "    .dataframe tbody tr th:only-of-type {\n",
       "        vertical-align: middle;\n",
       "    }\n",
       "\n",
       "    .dataframe tbody tr th {\n",
       "        vertical-align: top;\n",
       "    }\n",
       "\n",
       "    .dataframe thead th {\n",
       "        text-align: right;\n",
       "    }\n",
       "</style>\n",
       "<table border=\"1\" class=\"dataframe\">\n",
       "  <thead>\n",
       "    <tr style=\"text-align: right;\">\n",
       "      <th></th>\n",
       "      <th>lat</th>\n",
       "      <th>lng</th>\n",
       "      <th>minutes_remaining</th>\n",
       "      <th>period</th>\n",
       "      <th>playoffs</th>\n",
       "      <th>shot_distance</th>\n",
       "    </tr>\n",
       "  </thead>\n",
       "  <tbody>\n",
       "    <tr>\n",
       "      <th>30558</th>\n",
       "      <td>33.888302</td>\n",
       "      <td>-118.382797</td>\n",
       "      <td>11</td>\n",
       "      <td>3</td>\n",
       "      <td>1</td>\n",
       "      <td>19</td>\n",
       "    </tr>\n",
       "    <tr>\n",
       "      <th>520</th>\n",
       "      <td>34.021301</td>\n",
       "      <td>-118.159798</td>\n",
       "      <td>2</td>\n",
       "      <td>3</td>\n",
       "      <td>0</td>\n",
       "      <td>11</td>\n",
       "    </tr>\n",
       "    <tr>\n",
       "      <th>25613</th>\n",
       "      <td>33.983299</td>\n",
       "      <td>-118.120796</td>\n",
       "      <td>10</td>\n",
       "      <td>2</td>\n",
       "      <td>0</td>\n",
       "      <td>16</td>\n",
       "    </tr>\n",
       "    <tr>\n",
       "      <th>15368</th>\n",
       "      <td>34.044300</td>\n",
       "      <td>-118.269798</td>\n",
       "      <td>0</td>\n",
       "      <td>4</td>\n",
       "      <td>0</td>\n",
       "      <td>0</td>\n",
       "    </tr>\n",
       "    <tr>\n",
       "      <th>9175</th>\n",
       "      <td>34.044300</td>\n",
       "      <td>-118.269798</td>\n",
       "      <td>0</td>\n",
       "      <td>1</td>\n",
       "      <td>0</td>\n",
       "      <td>0</td>\n",
       "    </tr>\n",
       "    <tr>\n",
       "      <th>...</th>\n",
       "      <td>...</td>\n",
       "      <td>...</td>\n",
       "      <td>...</td>\n",
       "      <td>...</td>\n",
       "      <td>...</td>\n",
       "      <td>...</td>\n",
       "    </tr>\n",
       "    <tr>\n",
       "      <th>323</th>\n",
       "      <td>34.031300</td>\n",
       "      <td>-118.298798</td>\n",
       "      <td>11</td>\n",
       "      <td>2</td>\n",
       "      <td>0</td>\n",
       "      <td>3</td>\n",
       "    </tr>\n",
       "    <tr>\n",
       "      <th>1043</th>\n",
       "      <td>34.042301</td>\n",
       "      <td>-118.184799</td>\n",
       "      <td>6</td>\n",
       "      <td>1</td>\n",
       "      <td>0</td>\n",
       "      <td>8</td>\n",
       "    </tr>\n",
       "    <tr>\n",
       "      <th>23222</th>\n",
       "      <td>34.044300</td>\n",
       "      <td>-118.269798</td>\n",
       "      <td>3</td>\n",
       "      <td>4</td>\n",
       "      <td>0</td>\n",
       "      <td>0</td>\n",
       "    </tr>\n",
       "    <tr>\n",
       "      <th>14718</th>\n",
       "      <td>33.934299</td>\n",
       "      <td>-118.377800</td>\n",
       "      <td>5</td>\n",
       "      <td>1</td>\n",
       "      <td>0</td>\n",
       "      <td>15</td>\n",
       "    </tr>\n",
       "    <tr>\n",
       "      <th>24021</th>\n",
       "      <td>33.850300</td>\n",
       "      <td>-118.281799</td>\n",
       "      <td>0</td>\n",
       "      <td>1</td>\n",
       "      <td>0</td>\n",
       "      <td>19</td>\n",
       "    </tr>\n",
       "  </tbody>\n",
       "</table>\n",
       "<p>4057 rows × 6 columns</p>\n",
       "</div>"
      ],
      "text/plain": [
       "\n",
       "             lat         lng  minutes_remaining  period  playoffs  \\\n",
       "\u001b[1;36m30558\u001b[0m  \u001b[1;36m33.888302\u001b[0m \u001b[1;36m-118.382797\u001b[0m                 \u001b[1;36m11\u001b[0m       \u001b[1;36m3\u001b[0m         \u001b[1;36m1\u001b[0m   \n",
       "\u001b[1;36m520\u001b[0m    \u001b[1;36m34.021301\u001b[0m \u001b[1;36m-118.159798\u001b[0m                  \u001b[1;36m2\u001b[0m       \u001b[1;36m3\u001b[0m         \u001b[1;36m0\u001b[0m   \n",
       "\u001b[1;36m25613\u001b[0m  \u001b[1;36m33.983299\u001b[0m \u001b[1;36m-118.120796\u001b[0m                 \u001b[1;36m10\u001b[0m       \u001b[1;36m2\u001b[0m         \u001b[1;36m0\u001b[0m   \n",
       "\u001b[1;36m15368\u001b[0m  \u001b[1;36m34.044300\u001b[0m \u001b[1;36m-118.269798\u001b[0m                  \u001b[1;36m0\u001b[0m       \u001b[1;36m4\u001b[0m         \u001b[1;36m0\u001b[0m   \n",
       "\u001b[1;36m9175\u001b[0m   \u001b[1;36m34.044300\u001b[0m \u001b[1;36m-118.269798\u001b[0m                  \u001b[1;36m0\u001b[0m       \u001b[1;36m1\u001b[0m         \u001b[1;36m0\u001b[0m   \n",
       "\u001b[33m...\u001b[0m          \u001b[33m...\u001b[0m         \u001b[33m...\u001b[0m                \u001b[33m...\u001b[0m     \u001b[33m...\u001b[0m       \u001b[33m...\u001b[0m   \n",
       "\u001b[1;36m323\u001b[0m    \u001b[1;36m34.031300\u001b[0m \u001b[1;36m-118.298798\u001b[0m                 \u001b[1;36m11\u001b[0m       \u001b[1;36m2\u001b[0m         \u001b[1;36m0\u001b[0m   \n",
       "\u001b[1;36m1043\u001b[0m   \u001b[1;36m34.042301\u001b[0m \u001b[1;36m-118.184799\u001b[0m                  \u001b[1;36m6\u001b[0m       \u001b[1;36m1\u001b[0m         \u001b[1;36m0\u001b[0m   \n",
       "\u001b[1;36m23222\u001b[0m  \u001b[1;36m34.044300\u001b[0m \u001b[1;36m-118.269798\u001b[0m                  \u001b[1;36m3\u001b[0m       \u001b[1;36m4\u001b[0m         \u001b[1;36m0\u001b[0m   \n",
       "\u001b[1;36m14718\u001b[0m  \u001b[1;36m33.934299\u001b[0m \u001b[1;36m-118.377800\u001b[0m                  \u001b[1;36m5\u001b[0m       \u001b[1;36m1\u001b[0m         \u001b[1;36m0\u001b[0m   \n",
       "\u001b[1;36m24021\u001b[0m  \u001b[1;36m33.850300\u001b[0m \u001b[1;36m-118.281799\u001b[0m                  \u001b[1;36m0\u001b[0m       \u001b[1;36m1\u001b[0m         \u001b[1;36m0\u001b[0m   \n",
       "\n",
       "       shot_distance  \n",
       "\u001b[1;36m30558\u001b[0m             \u001b[1;36m19\u001b[0m  \n",
       "\u001b[1;36m520\u001b[0m               \u001b[1;36m11\u001b[0m  \n",
       "\u001b[1;36m25613\u001b[0m             \u001b[1;36m16\u001b[0m  \n",
       "\u001b[1;36m15368\u001b[0m              \u001b[1;36m0\u001b[0m  \n",
       "\u001b[1;36m9175\u001b[0m               \u001b[1;36m0\u001b[0m  \n",
       "\u001b[33m...\u001b[0m              \u001b[33m...\u001b[0m  \n",
       "\u001b[1;36m323\u001b[0m                \u001b[1;36m3\u001b[0m  \n",
       "\u001b[1;36m1043\u001b[0m               \u001b[1;36m8\u001b[0m  \n",
       "\u001b[1;36m23222\u001b[0m              \u001b[1;36m0\u001b[0m  \n",
       "\u001b[1;36m14718\u001b[0m             \u001b[1;36m15\u001b[0m  \n",
       "\u001b[1;36m24021\u001b[0m             \u001b[1;36m19\u001b[0m  \n",
       "\n",
       "\u001b[1m[\u001b[0m\u001b[1;36m4057\u001b[0m rows x \u001b[1;36m6\u001b[0m columns\u001b[1m]\u001b[0m"
      ]
     },
     "execution_count": 12,
     "metadata": {},
     "output_type": "execute_result"
    }
   ],
   "source": [
    "experiment.get_config('X_test')"
   ]
  },
  {
   "cell_type": "code",
   "execution_count": 13,
   "metadata": {},
   "outputs": [
    {
     "data": {
      "text/html": [
       "<pre style=\"white-space:pre;overflow-x:auto;line-height:normal;font-family:Menlo,'DejaVu Sans Mono',consolas,'Courier New',monospace\"></pre>\n"
      ],
      "text/plain": []
     },
     "metadata": {},
     "output_type": "display_data"
    },
    {
     "data": {
      "text/plain": [
       "\n",
       "\u001b[1;36m30558\u001b[0m    \u001b[1;36m0\u001b[0m\n",
       "\u001b[1;36m520\u001b[0m      \u001b[1;36m0\u001b[0m\n",
       "\u001b[1;36m25613\u001b[0m    \u001b[1;36m0\u001b[0m\n",
       "\u001b[1;36m15368\u001b[0m    \u001b[1;36m1\u001b[0m\n",
       "\u001b[1;36m9175\u001b[0m     \u001b[1;36m0\u001b[0m\n",
       "        ..\n",
       "\u001b[1;36m323\u001b[0m      \u001b[1;36m0\u001b[0m\n",
       "\u001b[1;36m1043\u001b[0m     \u001b[1;36m0\u001b[0m\n",
       "\u001b[1;36m23222\u001b[0m    \u001b[1;36m1\u001b[0m\n",
       "\u001b[1;36m14718\u001b[0m    \u001b[1;36m1\u001b[0m\n",
       "\u001b[1;36m24021\u001b[0m    \u001b[1;36m0\u001b[0m\n",
       "Name: shot_made_flag, Length: \u001b[1;36m4057\u001b[0m, dtype: Int8"
      ]
     },
     "execution_count": 13,
     "metadata": {},
     "output_type": "execute_result"
    }
   ],
   "source": [
    "experiment.get_config('y_test')"
   ]
  },
  {
   "cell_type": "code",
   "execution_count": 5,
   "metadata": {},
   "outputs": [
    {
     "data": {
      "text/html": [
       "<pre style=\"white-space:pre;overflow-x:auto;line-height:normal;font-family:Menlo,'DejaVu Sans Mono',consolas,'Courier New',monospace\"></pre>\n"
      ],
      "text/plain": []
     },
     "metadata": {},
     "output_type": "display_data"
    },
    {
     "data": {
      "text/plain": [
       "\n",
       "Name                                                          Log Loss\n",
       "Display Name                                                  Log Loss\n",
       "Score Function       <pycaret.internal.metrics.EncodedDecodedLabels\u001b[33m...\u001b[0m\n",
       "Scorer               \u001b[1;35mmake_scorer\u001b[0m\u001b[1m(\u001b[0mlog_loss, \u001b[33mgreater_is_better\u001b[0m=\u001b[3;91mFalse\u001b[0m,\u001b[33m...\u001b[0m\n",
       "Target                                                            pred\n",
       "Args                                                                \u001b[1m{\u001b[0m\u001b[1m}\u001b[0m\n",
       "Greater is Better                                                \u001b[3;91mFalse\u001b[0m\n",
       "Multiclass                                                        \u001b[3;92mTrue\u001b[0m\n",
       "Custom                                                            \u001b[3;92mTrue\u001b[0m\n",
       "Name: logloss, dtype: object"
      ]
     },
     "execution_count": 5,
     "metadata": {},
     "output_type": "execute_result"
    }
   ],
   "source": [
    "from sklearn.metrics import log_loss\n",
    "experiment.add_metric('logloss', 'Log Loss', log_loss, greater_is_better=False)"
   ]
  },
  {
   "cell_type": "code",
   "execution_count": 6,
   "metadata": {},
   "outputs": [
    {
     "data": {
      "text/html": [
       "<pre style=\"white-space:pre;overflow-x:auto;line-height:normal;font-family:Menlo,'DejaVu Sans Mono',consolas,'Courier New',monospace\"></pre>\n"
      ],
      "text/plain": []
     },
     "metadata": {},
     "output_type": "display_data"
    },
    {
     "data": {
      "text/html": [],
      "text/plain": [
       "\u001b[1m<\u001b[0m\u001b[1;95mIPython.core.display.HTML\u001b[0m\u001b[39m object\u001b[0m\u001b[1m>\u001b[0m"
      ]
     },
     "metadata": {},
     "output_type": "display_data"
    },
    {
     "data": {
      "text/html": [
       "<pre style=\"white-space:pre;overflow-x:auto;line-height:normal;font-family:Menlo,'DejaVu Sans Mono',consolas,'Courier New',monospace\"></pre>\n"
      ],
      "text/plain": []
     },
     "metadata": {},
     "output_type": "display_data"
    },
    {
     "data": {
      "text/html": [
       "<style type=\"text/css\">\n",
       "#T_62cda_row10_col0, #T_62cda_row10_col1, #T_62cda_row10_col2, #T_62cda_row10_col3, #T_62cda_row10_col4, #T_62cda_row10_col5, #T_62cda_row10_col6, #T_62cda_row10_col7 {\n",
       "  background: yellow;\n",
       "}\n",
       "</style>\n",
       "<table id=\"T_62cda\">\n",
       "  <thead>\n",
       "    <tr>\n",
       "      <th class=\"blank level0\" >&nbsp;</th>\n",
       "      <th id=\"T_62cda_level0_col0\" class=\"col_heading level0 col0\" >Accuracy</th>\n",
       "      <th id=\"T_62cda_level0_col1\" class=\"col_heading level0 col1\" >AUC</th>\n",
       "      <th id=\"T_62cda_level0_col2\" class=\"col_heading level0 col2\" >Recall</th>\n",
       "      <th id=\"T_62cda_level0_col3\" class=\"col_heading level0 col3\" >Prec.</th>\n",
       "      <th id=\"T_62cda_level0_col4\" class=\"col_heading level0 col4\" >F1</th>\n",
       "      <th id=\"T_62cda_level0_col5\" class=\"col_heading level0 col5\" >Kappa</th>\n",
       "      <th id=\"T_62cda_level0_col6\" class=\"col_heading level0 col6\" >MCC</th>\n",
       "      <th id=\"T_62cda_level0_col7\" class=\"col_heading level0 col7\" >Log Loss</th>\n",
       "    </tr>\n",
       "    <tr>\n",
       "      <th class=\"index_name level0\" >Fold</th>\n",
       "      <th class=\"blank col0\" >&nbsp;</th>\n",
       "      <th class=\"blank col1\" >&nbsp;</th>\n",
       "      <th class=\"blank col2\" >&nbsp;</th>\n",
       "      <th class=\"blank col3\" >&nbsp;</th>\n",
       "      <th class=\"blank col4\" >&nbsp;</th>\n",
       "      <th class=\"blank col5\" >&nbsp;</th>\n",
       "      <th class=\"blank col6\" >&nbsp;</th>\n",
       "      <th class=\"blank col7\" >&nbsp;</th>\n",
       "    </tr>\n",
       "  </thead>\n",
       "  <tbody>\n",
       "    <tr>\n",
       "      <th id=\"T_62cda_level0_row0\" class=\"row_heading level0 row0\" >0</th>\n",
       "      <td id=\"T_62cda_row0_col0\" class=\"data row0 col0\" >0.5835</td>\n",
       "      <td id=\"T_62cda_row0_col1\" class=\"data row0 col1\" >0.6099</td>\n",
       "      <td id=\"T_62cda_row0_col2\" class=\"data row0 col2\" >0.5052</td>\n",
       "      <td id=\"T_62cda_row0_col3\" class=\"data row0 col3\" >0.5716</td>\n",
       "      <td id=\"T_62cda_row0_col4\" class=\"data row0 col4\" >0.5364</td>\n",
       "      <td id=\"T_62cda_row0_col5\" class=\"data row0 col5\" >0.1609</td>\n",
       "      <td id=\"T_62cda_row0_col6\" class=\"data row0 col6\" >0.1619</td>\n",
       "      <td id=\"T_62cda_row0_col7\" class=\"data row0 col7\" >15.0126</td>\n",
       "    </tr>\n",
       "    <tr>\n",
       "      <th id=\"T_62cda_level0_row1\" class=\"row_heading level0 row1\" >1</th>\n",
       "      <td id=\"T_62cda_row1_col0\" class=\"data row1 col0\" >0.5829</td>\n",
       "      <td id=\"T_62cda_row1_col1\" class=\"data row1 col1\" >0.6077</td>\n",
       "      <td id=\"T_62cda_row1_col2\" class=\"data row1 col2\" >0.5220</td>\n",
       "      <td id=\"T_62cda_row1_col3\" class=\"data row1 col3\" >0.5682</td>\n",
       "      <td id=\"T_62cda_row1_col4\" class=\"data row1 col4\" >0.5441</td>\n",
       "      <td id=\"T_62cda_row1_col5\" class=\"data row1 col5\" >0.1609</td>\n",
       "      <td id=\"T_62cda_row1_col6\" class=\"data row1 col6\" >0.1614</td>\n",
       "      <td id=\"T_62cda_row1_col7\" class=\"data row1 col7\" >15.0348</td>\n",
       "    </tr>\n",
       "    <tr>\n",
       "      <th id=\"T_62cda_level0_row2\" class=\"row_heading level0 row2\" >2</th>\n",
       "      <td id=\"T_62cda_row2_col0\" class=\"data row2 col0\" >0.5786</td>\n",
       "      <td id=\"T_62cda_row2_col1\" class=\"data row2 col1\" >0.6039</td>\n",
       "      <td id=\"T_62cda_row2_col2\" class=\"data row2 col2\" >0.5032</td>\n",
       "      <td id=\"T_62cda_row2_col3\" class=\"data row2 col3\" >0.5660</td>\n",
       "      <td id=\"T_62cda_row2_col4\" class=\"data row2 col4\" >0.5328</td>\n",
       "      <td id=\"T_62cda_row2_col5\" class=\"data row2 col5\" >0.1514</td>\n",
       "      <td id=\"T_62cda_row2_col6\" class=\"data row2 col6\" >0.1522</td>\n",
       "      <td id=\"T_62cda_row2_col7\" class=\"data row2 col7\" >15.1903</td>\n",
       "    </tr>\n",
       "    <tr>\n",
       "      <th id=\"T_62cda_level0_row3\" class=\"row_heading level0 row3\" >3</th>\n",
       "      <td id=\"T_62cda_row3_col0\" class=\"data row3 col0\" >0.5786</td>\n",
       "      <td id=\"T_62cda_row3_col1\" class=\"data row3 col1\" >0.5852</td>\n",
       "      <td id=\"T_62cda_row3_col2\" class=\"data row3 col2\" >0.4968</td>\n",
       "      <td id=\"T_62cda_row3_col3\" class=\"data row3 col3\" >0.5670</td>\n",
       "      <td id=\"T_62cda_row3_col4\" class=\"data row3 col4\" >0.5296</td>\n",
       "      <td id=\"T_62cda_row3_col5\" class=\"data row3 col5\" >0.1509</td>\n",
       "      <td id=\"T_62cda_row3_col6\" class=\"data row3 col6\" >0.1520</td>\n",
       "      <td id=\"T_62cda_row3_col7\" class=\"data row3 col7\" >15.1903</td>\n",
       "    </tr>\n",
       "    <tr>\n",
       "      <th id=\"T_62cda_level0_row4\" class=\"row_heading level0 row4\" >4</th>\n",
       "      <td id=\"T_62cda_row4_col0\" class=\"data row4 col0\" >0.5847</td>\n",
       "      <td id=\"T_62cda_row4_col1\" class=\"data row4 col1\" >0.6075</td>\n",
       "      <td id=\"T_62cda_row4_col2\" class=\"data row4 col2\" >0.4723</td>\n",
       "      <td id=\"T_62cda_row4_col3\" class=\"data row4 col3\" >0.5800</td>\n",
       "      <td id=\"T_62cda_row4_col4\" class=\"data row4 col4\" >0.5206</td>\n",
       "      <td id=\"T_62cda_row4_col5\" class=\"data row4 col5\" >0.1610</td>\n",
       "      <td id=\"T_62cda_row4_col6\" class=\"data row4 col6\" >0.1637</td>\n",
       "      <td id=\"T_62cda_row4_col7\" class=\"data row4 col7\" >14.9682</td>\n",
       "    </tr>\n",
       "    <tr>\n",
       "      <th id=\"T_62cda_level0_row5\" class=\"row_heading level0 row5\" >5</th>\n",
       "      <td id=\"T_62cda_row5_col0\" class=\"data row5 col0\" >0.5705</td>\n",
       "      <td id=\"T_62cda_row5_col1\" class=\"data row5 col1\" >0.5958</td>\n",
       "      <td id=\"T_62cda_row5_col2\" class=\"data row5 col2\" >0.4865</td>\n",
       "      <td id=\"T_62cda_row5_col3\" class=\"data row5 col3\" >0.5577</td>\n",
       "      <td id=\"T_62cda_row5_col4\" class=\"data row5 col4\" >0.5196</td>\n",
       "      <td id=\"T_62cda_row5_col5\" class=\"data row5 col5\" >0.1346</td>\n",
       "      <td id=\"T_62cda_row5_col6\" class=\"data row5 col6\" >0.1356</td>\n",
       "      <td id=\"T_62cda_row5_col7\" class=\"data row5 col7\" >15.4790</td>\n",
       "    </tr>\n",
       "    <tr>\n",
       "      <th id=\"T_62cda_level0_row6\" class=\"row_heading level0 row6\" >6</th>\n",
       "      <td id=\"T_62cda_row6_col0\" class=\"data row6 col0\" >0.5508</td>\n",
       "      <td id=\"T_62cda_row6_col1\" class=\"data row6 col1\" >0.5699</td>\n",
       "      <td id=\"T_62cda_row6_col2\" class=\"data row6 col2\" >0.4542</td>\n",
       "      <td id=\"T_62cda_row6_col3\" class=\"data row6 col3\" >0.5350</td>\n",
       "      <td id=\"T_62cda_row6_col4\" class=\"data row6 col4\" >0.4913</td>\n",
       "      <td id=\"T_62cda_row6_col5\" class=\"data row6 col5\" >0.0940</td>\n",
       "      <td id=\"T_62cda_row6_col6\" class=\"data row6 col6\" >0.0950</td>\n",
       "      <td id=\"T_62cda_row6_col7\" class=\"data row6 col7\" >16.1897</td>\n",
       "    </tr>\n",
       "    <tr>\n",
       "      <th id=\"T_62cda_level0_row7\" class=\"row_heading level0 row7\" >7</th>\n",
       "      <td id=\"T_62cda_row7_col0\" class=\"data row7 col0\" >0.6081</td>\n",
       "      <td id=\"T_62cda_row7_col1\" class=\"data row7 col1\" >0.6166</td>\n",
       "      <td id=\"T_62cda_row7_col2\" class=\"data row7 col2\" >0.5123</td>\n",
       "      <td id=\"T_62cda_row7_col3\" class=\"data row7 col3\" >0.6061</td>\n",
       "      <td id=\"T_62cda_row7_col4\" class=\"data row7 col4\" >0.5552</td>\n",
       "      <td id=\"T_62cda_row7_col5\" class=\"data row7 col5\" >0.2094</td>\n",
       "      <td id=\"T_62cda_row7_col6\" class=\"data row7 col6\" >0.2118</td>\n",
       "      <td id=\"T_62cda_row7_col7\" class=\"data row7 col7\" >14.1243</td>\n",
       "    </tr>\n",
       "    <tr>\n",
       "      <th id=\"T_62cda_level0_row8\" class=\"row_heading level0 row8\" >8</th>\n",
       "      <td id=\"T_62cda_row8_col0\" class=\"data row8 col0\" >0.5771</td>\n",
       "      <td id=\"T_62cda_row8_col1\" class=\"data row8 col1\" >0.6023</td>\n",
       "      <td id=\"T_62cda_row8_col2\" class=\"data row8 col2\" >0.4897</td>\n",
       "      <td id=\"T_62cda_row8_col3\" class=\"data row8 col3\" >0.5657</td>\n",
       "      <td id=\"T_62cda_row8_col4\" class=\"data row8 col4\" >0.5249</td>\n",
       "      <td id=\"T_62cda_row8_col5\" class=\"data row8 col5\" >0.1474</td>\n",
       "      <td id=\"T_62cda_row8_col6\" class=\"data row8 col6\" >0.1486</td>\n",
       "      <td id=\"T_62cda_row8_col7\" class=\"data row8 col7\" >15.2441</td>\n",
       "    </tr>\n",
       "    <tr>\n",
       "      <th id=\"T_62cda_level0_row9\" class=\"row_heading level0 row9\" >9</th>\n",
       "      <td id=\"T_62cda_row9_col0\" class=\"data row9 col0\" >0.5604</td>\n",
       "      <td id=\"T_62cda_row9_col1\" class=\"data row9 col1\" >0.5927</td>\n",
       "      <td id=\"T_62cda_row9_col2\" class=\"data row9 col2\" >0.4457</td>\n",
       "      <td id=\"T_62cda_row9_col3\" class=\"data row9 col3\" >0.5485</td>\n",
       "      <td id=\"T_62cda_row9_col4\" class=\"data row9 col4\" >0.4918</td>\n",
       "      <td id=\"T_62cda_row9_col5\" class=\"data row9 col5\" >0.1117</td>\n",
       "      <td id=\"T_62cda_row9_col6\" class=\"data row9 col6\" >0.1136</td>\n",
       "      <td id=\"T_62cda_row9_col7\" class=\"data row9 col7\" >15.8441</td>\n",
       "    </tr>\n",
       "    <tr>\n",
       "      <th id=\"T_62cda_level0_row10\" class=\"row_heading level0 row10\" >Mean</th>\n",
       "      <td id=\"T_62cda_row10_col0\" class=\"data row10 col0\" >0.5775</td>\n",
       "      <td id=\"T_62cda_row10_col1\" class=\"data row10 col1\" >0.5991</td>\n",
       "      <td id=\"T_62cda_row10_col2\" class=\"data row10 col2\" >0.4888</td>\n",
       "      <td id=\"T_62cda_row10_col3\" class=\"data row10 col3\" >0.5666</td>\n",
       "      <td id=\"T_62cda_row10_col4\" class=\"data row10 col4\" >0.5246</td>\n",
       "      <td id=\"T_62cda_row10_col5\" class=\"data row10 col5\" >0.1482</td>\n",
       "      <td id=\"T_62cda_row10_col6\" class=\"data row10 col6\" >0.1496</td>\n",
       "      <td id=\"T_62cda_row10_col7\" class=\"data row10 col7\" >15.2277</td>\n",
       "    </tr>\n",
       "    <tr>\n",
       "      <th id=\"T_62cda_level0_row11\" class=\"row_heading level0 row11\" >Std</th>\n",
       "      <td id=\"T_62cda_row11_col0\" class=\"data row11 col0\" >0.0145</td>\n",
       "      <td id=\"T_62cda_row11_col1\" class=\"data row11 col1\" >0.0130</td>\n",
       "      <td id=\"T_62cda_row11_col2\" class=\"data row11 col2\" >0.0235</td>\n",
       "      <td id=\"T_62cda_row11_col3\" class=\"data row11 col3\" >0.0178</td>\n",
       "      <td id=\"T_62cda_row11_col4\" class=\"data row11 col4\" >0.0194</td>\n",
       "      <td id=\"T_62cda_row11_col5\" class=\"data row11 col5\" >0.0295</td>\n",
       "      <td id=\"T_62cda_row11_col6\" class=\"data row11 col6\" >0.0297</td>\n",
       "      <td id=\"T_62cda_row11_col7\" class=\"data row11 col7\" >0.5234</td>\n",
       "    </tr>\n",
       "  </tbody>\n",
       "</table>\n"
      ],
      "text/plain": [
       "\u001b[1m<\u001b[0m\u001b[1;95mpandas.io.formats.style.Styler\u001b[0m\u001b[39m object at \u001b[0m\u001b[1;36m0x37c8a58a0\u001b[0m\u001b[1m>\u001b[0m"
      ]
     },
     "metadata": {},
     "output_type": "display_data"
    },
    {
     "data": {
      "text/html": [],
      "text/plain": [
       "\u001b[1m<\u001b[0m\u001b[1;95mIPython.core.display.HTML\u001b[0m\u001b[39m object\u001b[0m\u001b[1m>\u001b[0m"
      ]
     },
     "metadata": {},
     "output_type": "display_data"
    },
    {
     "data": {
      "text/html": [
       "<pre style=\"white-space:pre;overflow-x:auto;line-height:normal;font-family:Menlo,'DejaVu Sans Mono',consolas,'Courier New',monospace\"></pre>\n"
      ],
      "text/plain": []
     },
     "metadata": {},
     "output_type": "display_data"
    },
    {
     "data": {
      "text/html": [
       "<pre style=\"white-space:pre;overflow-x:auto;line-height:normal;font-family:Menlo,'DejaVu Sans Mono',consolas,'Courier New',monospace\"></pre>\n"
      ],
      "text/plain": []
     },
     "metadata": {},
     "output_type": "display_data"
    },
    {
     "data": {
      "text/html": [
       "<pre style=\"white-space:pre;overflow-x:auto;line-height:normal;font-family:Menlo,'DejaVu Sans Mono',consolas,'Courier New',monospace\"></pre>\n"
      ],
      "text/plain": []
     },
     "metadata": {},
     "output_type": "display_data"
    },
    {
     "data": {
      "text/html": [
       "<pre style=\"white-space:pre;overflow-x:auto;line-height:normal;font-family:Menlo,'DejaVu Sans Mono',consolas,'Courier New',monospace\"></pre>\n"
      ],
      "text/plain": []
     },
     "metadata": {},
     "output_type": "display_data"
    },
    {
     "data": {
      "text/html": [
       "<pre style=\"white-space:pre;overflow-x:auto;line-height:normal;font-family:Menlo,'DejaVu Sans Mono',consolas,'Courier New',monospace\"></pre>\n"
      ],
      "text/plain": []
     },
     "metadata": {},
     "output_type": "display_data"
    },
    {
     "data": {
      "text/html": [
       "<pre style=\"white-space:pre;overflow-x:auto;line-height:normal;font-family:Menlo,'DejaVu Sans Mono',consolas,'Courier New',monospace\"></pre>\n"
      ],
      "text/plain": []
     },
     "metadata": {},
     "output_type": "display_data"
    },
    {
     "data": {
      "text/html": [
       "<pre style=\"white-space:pre;overflow-x:auto;line-height:normal;font-family:Menlo,'DejaVu Sans Mono',consolas,'Courier New',monospace\"></pre>\n"
      ],
      "text/plain": []
     },
     "metadata": {},
     "output_type": "display_data"
    },
    {
     "data": {
      "text/html": [
       "<pre style=\"white-space:pre;overflow-x:auto;line-height:normal;font-family:Menlo,'DejaVu Sans Mono',consolas,'Courier New',monospace\"></pre>\n"
      ],
      "text/plain": []
     },
     "metadata": {},
     "output_type": "display_data"
    },
    {
     "data": {
      "text/html": [
       "<pre style=\"white-space:pre;overflow-x:auto;line-height:normal;font-family:Menlo,'DejaVu Sans Mono',consolas,'Courier New',monospace\"></pre>\n"
      ],
      "text/plain": []
     },
     "metadata": {},
     "output_type": "display_data"
    },
    {
     "data": {
      "text/html": [
       "<pre style=\"white-space:pre;overflow-x:auto;line-height:normal;font-family:Menlo,'DejaVu Sans Mono',consolas,'Courier New',monospace\"></pre>\n"
      ],
      "text/plain": []
     },
     "metadata": {},
     "output_type": "display_data"
    }
   ],
   "source": [
    "logistic_regression_model = experiment.create_model('lr')"
   ]
  },
  {
   "cell_type": "code",
   "execution_count": 7,
   "metadata": {},
   "outputs": [
    {
     "name": "stdout",
     "output_type": "stream",
     "text": [
      "Log Loss: 15.0126\n",
      "F1 Score: 0.5364\n"
     ]
    }
   ],
   "source": [
    "scoring_grid = experiment.pull()\n",
    "log_loss_score = scoring_grid['Log Loss'][0]\n",
    "f1_score = scoring_grid['F1'][0]\n",
    "\n",
    "print(f\"Log Loss: {log_loss_score}\")\n",
    "print(f\"F1 Score: {f1_score}\")"
   ]
  },
  {
   "cell_type": "code",
   "execution_count": 8,
   "metadata": {},
   "outputs": [
    {
     "data": {
      "application/vnd.jupyter.widget-view+json": {
       "model_id": "e062c2e72548401ca517fda7893c8b0f",
       "version_major": 2,
       "version_minor": 0
      },
      "text/plain": [
       "interactive(children=(ToggleButtons(description='Plot Type:', icons=('',), options=(('Pipeline Plot', 'pipelin…"
      ]
     },
     "metadata": {},
     "output_type": "display_data"
    }
   ],
   "source": [
    "experiment.evaluate_model(logistic_regression_model)"
   ]
  },
  {
   "cell_type": "code",
   "execution_count": 11,
   "metadata": {},
   "outputs": [
    {
     "data": {
      "text/html": [
       "<pre style=\"white-space:pre;overflow-x:auto;line-height:normal;font-family:Menlo,'DejaVu Sans Mono',consolas,'Courier New',monospace\"></pre>\n"
      ],
      "text/plain": []
     },
     "metadata": {},
     "output_type": "display_data"
    },
    {
     "data": {
      "text/html": [],
      "text/plain": [
       "\u001b[1m<\u001b[0m\u001b[1;95mIPython.core.display.HTML\u001b[0m\u001b[39m object\u001b[0m\u001b[1m>\u001b[0m"
      ]
     },
     "metadata": {},
     "output_type": "display_data"
    },
    {
     "data": {
      "text/html": [
       "<pre style=\"white-space:pre;overflow-x:auto;line-height:normal;font-family:Menlo,'DejaVu Sans Mono',consolas,'Courier New',monospace\"></pre>\n"
      ],
      "text/plain": []
     },
     "metadata": {},
     "output_type": "display_data"
    },
    {
     "data": {
      "image/png": "[encoded data removed]",
      "text/plain": [
       "\u001b[1m<\u001b[0m\u001b[1;95mFigure\u001b[0m\u001b[39m size 80\u001b[0m\u001b[1;36m0x500\u001b[0m\u001b[39m with \u001b[0m\u001b[1;36m1\u001b[0m\u001b[39m Axes\u001b[0m\u001b[1m>\u001b[0m"
      ]
     },
     "metadata": {},
     "output_type": "display_data"
    },
    {
     "data": {
      "text/html": [
       "<pre style=\"white-space:pre;overflow-x:auto;line-height:normal;font-family:Menlo,'DejaVu Sans Mono',consolas,'Courier New',monospace\"></pre>\n"
      ],
      "text/plain": []
     },
     "metadata": {},
     "output_type": "display_data"
    },
    {
     "data": {
      "text/html": [],
      "text/plain": [
       "\u001b[1m<\u001b[0m\u001b[1;95mIPython.core.display.HTML\u001b[0m\u001b[39m object\u001b[0m\u001b[1m>\u001b[0m"
      ]
     },
     "metadata": {},
     "output_type": "display_data"
    },
    {
     "data": {
      "text/html": [
       "<pre style=\"white-space:pre;overflow-x:auto;line-height:normal;font-family:Menlo,'DejaVu Sans Mono',consolas,'Courier New',monospace\"></pre>\n"
      ],
      "text/plain": []
     },
     "metadata": {},
     "output_type": "display_data"
    },
    {
     "data": {
      "image/png": "[encoded data removed]",
      "text/plain": [
       "\u001b[1m<\u001b[0m\u001b[1;95mFigure\u001b[0m\u001b[39m size 80\u001b[0m\u001b[1;36m0x550\u001b[0m\u001b[39m with \u001b[0m\u001b[1;36m1\u001b[0m\u001b[39m Axes\u001b[0m\u001b[1m>\u001b[0m"
      ]
     },
     "metadata": {},
     "output_type": "display_data"
    }
   ],
   "source": [
    "experiment.plot_model(logistic_regression_model, plot='feature')\n",
    "experiment.plot_model(logistic_regression_model, plot='confusion_matrix')"
   ]
  },
  {
   "cell_type": "code",
   "execution_count": 6,
   "metadata": {},
   "outputs": [
    {
     "data": {
      "text/html": [
       "<pre style=\"white-space:pre;overflow-x:auto;line-height:normal;font-family:Menlo,'DejaVu Sans Mono',consolas,'Courier New',monospace\"></pre>\n"
      ],
      "text/plain": []
     },
     "metadata": {},
     "output_type": "display_data"
    },
    {
     "data": {
      "text/html": [
       "<div>\n",
       "<style scoped>\n",
       "    .dataframe tbody tr th:only-of-type {\n",
       "        vertical-align: middle;\n",
       "    }\n",
       "\n",
       "    .dataframe tbody tr th {\n",
       "        vertical-align: top;\n",
       "    }\n",
       "\n",
       "    .dataframe thead th {\n",
       "        text-align: right;\n",
       "    }\n",
       "</style>\n",
       "<table border=\"1\" class=\"dataframe\">\n",
       "  <thead>\n",
       "    <tr style=\"text-align: right;\">\n",
       "      <th></th>\n",
       "      <th>Name</th>\n",
       "      <th>Display Name</th>\n",
       "      <th>Score Function</th>\n",
       "      <th>Scorer</th>\n",
       "      <th>Target</th>\n",
       "      <th>Args</th>\n",
       "      <th>Greater is Better</th>\n",
       "      <th>Multiclass</th>\n",
       "      <th>Custom</th>\n",
       "    </tr>\n",
       "    <tr>\n",
       "      <th>ID</th>\n",
       "      <th></th>\n",
       "      <th></th>\n",
       "      <th></th>\n",
       "      <th></th>\n",
       "      <th></th>\n",
       "      <th></th>\n",
       "      <th></th>\n",
       "      <th></th>\n",
       "      <th></th>\n",
       "    </tr>\n",
       "  </thead>\n",
       "  <tbody>\n",
       "    <tr>\n",
       "      <th>acc</th>\n",
       "      <td>Accuracy</td>\n",
       "      <td>Accuracy</td>\n",
       "      <td>&lt;function accuracy_score at 0x36d1b2710&gt;</td>\n",
       "      <td>accuracy</td>\n",
       "      <td>pred</td>\n",
       "      <td>{}</td>\n",
       "      <td>True</td>\n",
       "      <td>True</td>\n",
       "      <td>False</td>\n",
       "    </tr>\n",
       "    <tr>\n",
       "      <th>auc</th>\n",
       "      <td>AUC</td>\n",
       "      <td>AUC</td>\n",
       "      <td>&lt;pycaret.internal.metrics.BinaryMulticlassScor...</td>\n",
       "      <td>make_scorer(roc_auc_score, response_method=('d...</td>\n",
       "      <td>pred_proba</td>\n",
       "      <td>{'average': 'weighted', 'multi_class': 'ovr'}</td>\n",
       "      <td>True</td>\n",
       "      <td>True</td>\n",
       "      <td>False</td>\n",
       "    </tr>\n",
       "    <tr>\n",
       "      <th>recall</th>\n",
       "      <td>Recall</td>\n",
       "      <td>Recall</td>\n",
       "      <td>&lt;pycaret.internal.metrics.BinaryMulticlassScor...</td>\n",
       "      <td>make_scorer(recall_score, response_method='pre...</td>\n",
       "      <td>pred</td>\n",
       "      <td>{'average': 'weighted'}</td>\n",
       "      <td>True</td>\n",
       "      <td>True</td>\n",
       "      <td>False</td>\n",
       "    </tr>\n",
       "    <tr>\n",
       "      <th>precision</th>\n",
       "      <td>Precision</td>\n",
       "      <td>Prec.</td>\n",
       "      <td>&lt;pycaret.internal.metrics.BinaryMulticlassScor...</td>\n",
       "      <td>make_scorer(precision_score, response_method='...</td>\n",
       "      <td>pred</td>\n",
       "      <td>{'average': 'weighted'}</td>\n",
       "      <td>True</td>\n",
       "      <td>True</td>\n",
       "      <td>False</td>\n",
       "    </tr>\n",
       "    <tr>\n",
       "      <th>f1</th>\n",
       "      <td>F1</td>\n",
       "      <td>F1</td>\n",
       "      <td>&lt;pycaret.internal.metrics.BinaryMulticlassScor...</td>\n",
       "      <td>make_scorer(f1_score, response_method='predict...</td>\n",
       "      <td>pred</td>\n",
       "      <td>{'average': 'weighted'}</td>\n",
       "      <td>True</td>\n",
       "      <td>True</td>\n",
       "      <td>False</td>\n",
       "    </tr>\n",
       "    <tr>\n",
       "      <th>kappa</th>\n",
       "      <td>Kappa</td>\n",
       "      <td>Kappa</td>\n",
       "      <td>&lt;function cohen_kappa_score at 0x36d1b2a70&gt;</td>\n",
       "      <td>make_scorer(cohen_kappa_score, response_method...</td>\n",
       "      <td>pred</td>\n",
       "      <td>{}</td>\n",
       "      <td>True</td>\n",
       "      <td>True</td>\n",
       "      <td>False</td>\n",
       "    </tr>\n",
       "    <tr>\n",
       "      <th>mcc</th>\n",
       "      <td>MCC</td>\n",
       "      <td>MCC</td>\n",
       "      <td>&lt;function matthews_corrcoef at 0x36d1b2cb0&gt;</td>\n",
       "      <td>make_scorer(matthews_corrcoef, response_method...</td>\n",
       "      <td>pred</td>\n",
       "      <td>{}</td>\n",
       "      <td>True</td>\n",
       "      <td>True</td>\n",
       "      <td>False</td>\n",
       "    </tr>\n",
       "    <tr>\n",
       "      <th>logloss</th>\n",
       "      <td>Log Loss</td>\n",
       "      <td>Log Loss</td>\n",
       "      <td>&lt;pycaret.internal.metrics.EncodedDecodedLabels...</td>\n",
       "      <td>make_scorer(log_loss, greater_is_better=False,...</td>\n",
       "      <td>pred</td>\n",
       "      <td>{}</td>\n",
       "      <td>False</td>\n",
       "      <td>True</td>\n",
       "      <td>True</td>\n",
       "    </tr>\n",
       "  </tbody>\n",
       "</table>\n",
       "</div>"
      ],
      "text/plain": [
       "\n",
       "                Name Display Name  \\\n",
       "ID                                  \n",
       "acc         Accuracy     Accuracy   \n",
       "auc              AUC          AUC   \n",
       "recall        Recall       Recall   \n",
       "precision  Precision        Prec.   \n",
       "f1                F1           F1   \n",
       "kappa          Kappa        Kappa   \n",
       "mcc              MCC          MCC   \n",
       "logloss     Log Loss     Log Loss   \n",
       "\n",
       "                                              Score Function  \\\n",
       "ID                                                             \n",
       "acc                 \u001b[1m<\u001b[0m\u001b[1;95mfunction\u001b[0m\u001b[39m accuracy_score at \u001b[0m\u001b[1;36m0x36d1b2710\u001b[0m\u001b[39m>   \u001b[0m\n",
       "\u001b[39mauc        <pycaret.internal.metrics.BinaryMulticlassScor\u001b[0m\u001b[33m...\u001b[0m\u001b[39m   \u001b[0m\n",
       "\u001b[39mrecall     <pycaret.internal.metrics.BinaryMulticlassScor\u001b[0m\u001b[33m...\u001b[0m\u001b[39m   \u001b[0m\n",
       "\u001b[39mprecision  <pycaret.internal.metrics.BinaryMulticlassScor\u001b[0m\u001b[33m...\u001b[0m\u001b[39m   \u001b[0m\n",
       "\u001b[39mf1         <pycaret.internal.metrics.BinaryMulticlassScor\u001b[0m\u001b[33m...\u001b[0m\u001b[39m   \u001b[0m\n",
       "\u001b[39mkappa            <function cohen_kappa_score at \u001b[0m\u001b[1;36m0x36d1b2a70\u001b[0m\u001b[39m>   \u001b[0m\n",
       "\u001b[39mmcc              <function matthews_corrcoef at \u001b[0m\u001b[1;36m0x36d1b2cb0\u001b[0m\u001b[1m>\u001b[0m   \n",
       "logloss    <pycaret.internal.metrics.EncodedDecodedLabels\u001b[33m...\u001b[0m   \n",
       "\n",
       "                                                      Scorer      Target  \\\n",
       "ID                                                                         \n",
       "acc                                                 accuracy        pred   \n",
       "auc        \u001b[1;35mmake_scorer\u001b[0m\u001b[1m(\u001b[0mroc_auc_score, \u001b[33mresponse_method\u001b[0m=\u001b[1m(\u001b[0m'd\u001b[33m...\u001b[0m  pred_proba   \n",
       "recall     \u001b[1;35mmake_scorer\u001b[0m\u001b[1m(\u001b[0mrecall_score, \u001b[33mresponse_method\u001b[0m='pre\u001b[33m...\u001b[0m        pred   \n",
       "precision  \u001b[1;35mmake_scorer\u001b[0m\u001b[1m(\u001b[0mprecision_score, \u001b[33mresponse_method\u001b[0m='\u001b[33m...\u001b[0m        pred   \n",
       "f1         \u001b[1;35mmake_scorer\u001b[0m\u001b[1m(\u001b[0mf1_score, \u001b[33mresponse_method\u001b[0m='predict\u001b[33m...\u001b[0m        pred   \n",
       "kappa      \u001b[1;35mmake_scorer\u001b[0m\u001b[1m(\u001b[0mcohen_kappa_score, response_method\u001b[33m...\u001b[0m        pred   \n",
       "mcc        \u001b[1;35mmake_scorer\u001b[0m\u001b[1m(\u001b[0mmatthews_corrcoef, response_method\u001b[33m...\u001b[0m        pred   \n",
       "logloss    \u001b[1;35mmake_scorer\u001b[0m\u001b[1m(\u001b[0mlog_loss, \u001b[33mgreater_is_better\u001b[0m=\u001b[3;91mFalse\u001b[0m,\u001b[33m...\u001b[0m        pred   \n",
       "\n",
       "                                                    Args  Greater is Better  \\\n",
       "ID                                                                            \n",
       "acc                                                   \u001b[1m{\u001b[0m\u001b[1m}\u001b[0m               \u001b[3;92mTrue\u001b[0m   \n",
       "auc        \u001b[1m{\u001b[0m\u001b[32m'average'\u001b[0m: \u001b[32m'weighted'\u001b[0m, \u001b[32m'multi_class'\u001b[0m: \u001b[32m'ovr'\u001b[0m\u001b[1m}\u001b[0m               \u001b[3;92mTrue\u001b[0m   \n",
       "recall                           \u001b[1m{\u001b[0m\u001b[32m'average'\u001b[0m: \u001b[32m'weighted'\u001b[0m\u001b[1m}\u001b[0m               \u001b[3;92mTrue\u001b[0m   \n",
       "precision                        \u001b[1m{\u001b[0m\u001b[32m'average'\u001b[0m: \u001b[32m'weighted'\u001b[0m\u001b[1m}\u001b[0m               \u001b[3;92mTrue\u001b[0m   \n",
       "f1                               \u001b[1m{\u001b[0m\u001b[32m'average'\u001b[0m: \u001b[32m'weighted'\u001b[0m\u001b[1m}\u001b[0m               \u001b[3;92mTrue\u001b[0m   \n",
       "kappa                                                 \u001b[1m{\u001b[0m\u001b[1m}\u001b[0m               \u001b[3;92mTrue\u001b[0m   \n",
       "mcc                                                   \u001b[1m{\u001b[0m\u001b[1m}\u001b[0m               \u001b[3;92mTrue\u001b[0m   \n",
       "logloss                                               \u001b[1m{\u001b[0m\u001b[1m}\u001b[0m              \u001b[3;91mFalse\u001b[0m   \n",
       "\n",
       "           Multiclass  Custom  \n",
       "ID                             \n",
       "acc              \u001b[3;92mTrue\u001b[0m   \u001b[3;91mFalse\u001b[0m  \n",
       "auc              \u001b[3;92mTrue\u001b[0m   \u001b[3;91mFalse\u001b[0m  \n",
       "recall           \u001b[3;92mTrue\u001b[0m   \u001b[3;91mFalse\u001b[0m  \n",
       "precision        \u001b[3;92mTrue\u001b[0m   \u001b[3;91mFalse\u001b[0m  \n",
       "f1               \u001b[3;92mTrue\u001b[0m   \u001b[3;91mFalse\u001b[0m  \n",
       "kappa            \u001b[3;92mTrue\u001b[0m   \u001b[3;91mFalse\u001b[0m  \n",
       "mcc              \u001b[3;92mTrue\u001b[0m   \u001b[3;91mFalse\u001b[0m  \n",
       "logloss          \u001b[3;92mTrue\u001b[0m    \u001b[3;92mTrue\u001b[0m  "
      ]
     },
     "execution_count": 6,
     "metadata": {},
     "output_type": "execute_result"
    }
   ],
   "source": [
    "experiment.get_metrics()"
   ]
  },
  {
   "cell_type": "code",
   "execution_count": 9,
   "metadata": {},
   "outputs": [
    {
     "data": {
      "text/html": [
       "<pre style=\"white-space:pre;overflow-x:auto;line-height:normal;font-family:Menlo,'DejaVu Sans Mono',consolas,'Courier New',monospace\"></pre>\n"
      ],
      "text/plain": []
     },
     "metadata": {},
     "output_type": "display_data"
    },
    {
     "data": {
      "text/html": [],
      "text/plain": [
       "\u001b[1m<\u001b[0m\u001b[1;95mIPython.core.display.HTML\u001b[0m\u001b[39m object\u001b[0m\u001b[1m>\u001b[0m"
      ]
     },
     "metadata": {},
     "output_type": "display_data"
    },
    {
     "data": {
      "text/html": [
       "<pre style=\"white-space:pre;overflow-x:auto;line-height:normal;font-family:Menlo,'DejaVu Sans Mono',consolas,'Courier New',monospace\"></pre>\n"
      ],
      "text/plain": []
     },
     "metadata": {},
     "output_type": "display_data"
    },
    {
     "data": {
      "text/html": [
       "<style type=\"text/css\">\n",
       "#T_1350f th {\n",
       "  text-align: left;\n",
       "}\n",
       "#T_1350f_row0_col0, #T_1350f_row0_col2, #T_1350f_row0_col3, #T_1350f_row0_col5, #T_1350f_row1_col0, #T_1350f_row1_col1, #T_1350f_row1_col2, #T_1350f_row1_col3, #T_1350f_row1_col4, #T_1350f_row1_col5, #T_1350f_row1_col6, #T_1350f_row1_col7, #T_1350f_row2_col0, #T_1350f_row2_col1, #T_1350f_row2_col2, #T_1350f_row2_col3, #T_1350f_row2_col4, #T_1350f_row2_col5, #T_1350f_row2_col6, #T_1350f_row2_col7, #T_1350f_row3_col0, #T_1350f_row3_col1, #T_1350f_row3_col2, #T_1350f_row3_col3, #T_1350f_row3_col4, #T_1350f_row3_col5, #T_1350f_row3_col6, #T_1350f_row3_col7, #T_1350f_row4_col0, #T_1350f_row4_col1, #T_1350f_row4_col2, #T_1350f_row4_col3, #T_1350f_row4_col4, #T_1350f_row4_col5, #T_1350f_row4_col6, #T_1350f_row4_col7, #T_1350f_row5_col0, #T_1350f_row5_col1, #T_1350f_row5_col2, #T_1350f_row5_col3, #T_1350f_row5_col4, #T_1350f_row5_col5, #T_1350f_row5_col6, #T_1350f_row5_col7, #T_1350f_row6_col0, #T_1350f_row6_col1, #T_1350f_row6_col2, #T_1350f_row6_col3, #T_1350f_row6_col4, #T_1350f_row6_col5, #T_1350f_row6_col6, #T_1350f_row6_col7, #T_1350f_row7_col0, #T_1350f_row7_col1, #T_1350f_row7_col2, #T_1350f_row7_col3, #T_1350f_row7_col4, #T_1350f_row7_col5, #T_1350f_row7_col6, #T_1350f_row7_col7, #T_1350f_row8_col0, #T_1350f_row8_col1, #T_1350f_row8_col3, #T_1350f_row8_col4, #T_1350f_row8_col5, #T_1350f_row8_col6, #T_1350f_row8_col7, #T_1350f_row9_col0, #T_1350f_row9_col1, #T_1350f_row9_col2, #T_1350f_row9_col3, #T_1350f_row9_col4, #T_1350f_row9_col5, #T_1350f_row9_col6, #T_1350f_row9_col7, #T_1350f_row10_col0, #T_1350f_row10_col1, #T_1350f_row10_col2, #T_1350f_row10_col3, #T_1350f_row10_col4, #T_1350f_row10_col5, #T_1350f_row10_col6, #T_1350f_row10_col7, #T_1350f_row11_col0, #T_1350f_row11_col1, #T_1350f_row11_col2, #T_1350f_row11_col3, #T_1350f_row11_col4, #T_1350f_row11_col5, #T_1350f_row11_col6, #T_1350f_row11_col7, #T_1350f_row12_col0, #T_1350f_row12_col1, #T_1350f_row12_col2, #T_1350f_row12_col4, #T_1350f_row12_col6, #T_1350f_row12_col7, #T_1350f_row13_col0, #T_1350f_row13_col1, #T_1350f_row13_col2, #T_1350f_row13_col3, #T_1350f_row13_col4, #T_1350f_row13_col5, #T_1350f_row13_col6, #T_1350f_row13_col7, #T_1350f_row14_col0, #T_1350f_row14_col1, #T_1350f_row14_col2, #T_1350f_row14_col3, #T_1350f_row14_col4, #T_1350f_row14_col5, #T_1350f_row14_col6, #T_1350f_row14_col7, #T_1350f_row15_col0, #T_1350f_row15_col1, #T_1350f_row15_col2, #T_1350f_row15_col3, #T_1350f_row15_col4, #T_1350f_row15_col5, #T_1350f_row15_col6, #T_1350f_row15_col7 {\n",
       "  text-align: left;\n",
       "}\n",
       "#T_1350f_row0_col1, #T_1350f_row0_col4, #T_1350f_row0_col6, #T_1350f_row0_col7, #T_1350f_row8_col2, #T_1350f_row12_col3, #T_1350f_row12_col5 {\n",
       "  text-align: left;\n",
       "  background-color: yellow;\n",
       "}\n",
       "#T_1350f_row0_col8, #T_1350f_row1_col8, #T_1350f_row2_col8, #T_1350f_row3_col8, #T_1350f_row4_col8, #T_1350f_row5_col8, #T_1350f_row7_col8, #T_1350f_row9_col8, #T_1350f_row10_col8, #T_1350f_row11_col8, #T_1350f_row12_col8, #T_1350f_row13_col8, #T_1350f_row14_col8, #T_1350f_row15_col8 {\n",
       "  text-align: left;\n",
       "  background-color: lightgrey;\n",
       "}\n",
       "#T_1350f_row6_col8, #T_1350f_row8_col8 {\n",
       "  text-align: left;\n",
       "  background-color: yellow;\n",
       "  background-color: lightgrey;\n",
       "}\n",
       "</style>\n",
       "<table id=\"T_1350f\">\n",
       "  <thead>\n",
       "    <tr>\n",
       "      <th class=\"blank level0\" >&nbsp;</th>\n",
       "      <th id=\"T_1350f_level0_col0\" class=\"col_heading level0 col0\" >Model</th>\n",
       "      <th id=\"T_1350f_level0_col1\" class=\"col_heading level0 col1\" >Accuracy</th>\n",
       "      <th id=\"T_1350f_level0_col2\" class=\"col_heading level0 col2\" >AUC</th>\n",
       "      <th id=\"T_1350f_level0_col3\" class=\"col_heading level0 col3\" >Recall</th>\n",
       "      <th id=\"T_1350f_level0_col4\" class=\"col_heading level0 col4\" >Prec.</th>\n",
       "      <th id=\"T_1350f_level0_col5\" class=\"col_heading level0 col5\" >F1</th>\n",
       "      <th id=\"T_1350f_level0_col6\" class=\"col_heading level0 col6\" >Kappa</th>\n",
       "      <th id=\"T_1350f_level0_col7\" class=\"col_heading level0 col7\" >MCC</th>\n",
       "      <th id=\"T_1350f_level0_col8\" class=\"col_heading level0 col8\" >TT (Sec)</th>\n",
       "    </tr>\n",
       "  </thead>\n",
       "  <tbody>\n",
       "    <tr>\n",
       "      <th id=\"T_1350f_level0_row0\" class=\"row_heading level0 row0\" >ada</th>\n",
       "      <td id=\"T_1350f_row0_col0\" class=\"data row0 col0\" >Ada Boost Classifier</td>\n",
       "      <td id=\"T_1350f_row0_col1\" class=\"data row0 col1\" >0.5879</td>\n",
       "      <td id=\"T_1350f_row0_col2\" class=\"data row0 col2\" >0.5901</td>\n",
       "      <td id=\"T_1350f_row0_col3\" class=\"data row0 col3\" >0.3715</td>\n",
       "      <td id=\"T_1350f_row0_col4\" class=\"data row0 col4\" >0.6128</td>\n",
       "      <td id=\"T_1350f_row0_col5\" class=\"data row0 col5\" >0.4625</td>\n",
       "      <td id=\"T_1350f_row0_col6\" class=\"data row0 col6\" >0.1598</td>\n",
       "      <td id=\"T_1350f_row0_col7\" class=\"data row0 col7\" >0.1730</td>\n",
       "      <td id=\"T_1350f_row0_col8\" class=\"data row0 col8\" >0.0100</td>\n",
       "    </tr>\n",
       "    <tr>\n",
       "      <th id=\"T_1350f_level0_row1\" class=\"row_heading level0 row1\" >gbc</th>\n",
       "      <td id=\"T_1350f_row1_col0\" class=\"data row1 col0\" >Gradient Boosting Classifier</td>\n",
       "      <td id=\"T_1350f_row1_col1\" class=\"data row1 col1\" >0.5824</td>\n",
       "      <td id=\"T_1350f_row1_col2\" class=\"data row1 col2\" >0.5914</td>\n",
       "      <td id=\"T_1350f_row1_col3\" class=\"data row1 col3\" >0.3843</td>\n",
       "      <td id=\"T_1350f_row1_col4\" class=\"data row1 col4\" >0.5972</td>\n",
       "      <td id=\"T_1350f_row1_col5\" class=\"data row1 col5\" >0.4676</td>\n",
       "      <td id=\"T_1350f_row1_col6\" class=\"data row1 col6\" >0.1499</td>\n",
       "      <td id=\"T_1350f_row1_col7\" class=\"data row1 col7\" >0.1598</td>\n",
       "      <td id=\"T_1350f_row1_col8\" class=\"data row1 col8\" >0.0080</td>\n",
       "    </tr>\n",
       "    <tr>\n",
       "      <th id=\"T_1350f_level0_row2\" class=\"row_heading level0 row2\" >lightgbm</th>\n",
       "      <td id=\"T_1350f_row2_col0\" class=\"data row2 col0\" >Light Gradient Boosting Machine</td>\n",
       "      <td id=\"T_1350f_row2_col1\" class=\"data row2 col1\" >0.5769</td>\n",
       "      <td id=\"T_1350f_row2_col2\" class=\"data row2 col2\" >0.5918</td>\n",
       "      <td id=\"T_1350f_row2_col3\" class=\"data row2 col3\" >0.4680</td>\n",
       "      <td id=\"T_1350f_row2_col4\" class=\"data row2 col4\" >0.5690</td>\n",
       "      <td id=\"T_1350f_row2_col5\" class=\"data row2 col5\" >0.5135</td>\n",
       "      <td id=\"T_1350f_row2_col6\" class=\"data row2 col6\" >0.1454</td>\n",
       "      <td id=\"T_1350f_row2_col7\" class=\"data row2 col7\" >0.1476</td>\n",
       "      <td id=\"T_1350f_row2_col8\" class=\"data row2 col8\" >0.1090</td>\n",
       "    </tr>\n",
       "    <tr>\n",
       "      <th id=\"T_1350f_level0_row3\" class=\"row_heading level0 row3\" >catboost</th>\n",
       "      <td id=\"T_1350f_row3_col0\" class=\"data row3 col0\" >CatBoost Classifier</td>\n",
       "      <td id=\"T_1350f_row3_col1\" class=\"data row3 col1\" >0.5769</td>\n",
       "      <td id=\"T_1350f_row3_col2\" class=\"data row3 col2\" >0.5903</td>\n",
       "      <td id=\"T_1350f_row3_col3\" class=\"data row3 col3\" >0.4552</td>\n",
       "      <td id=\"T_1350f_row3_col4\" class=\"data row3 col4\" >0.5714</td>\n",
       "      <td id=\"T_1350f_row3_col5\" class=\"data row3 col5\" >0.5066</td>\n",
       "      <td id=\"T_1350f_row3_col6\" class=\"data row3 col6\" >0.1445</td>\n",
       "      <td id=\"T_1350f_row3_col7\" class=\"data row3 col7\" >0.1474</td>\n",
       "      <td id=\"T_1350f_row3_col8\" class=\"data row3 col8\" >0.1000</td>\n",
       "    </tr>\n",
       "    <tr>\n",
       "      <th id=\"T_1350f_level0_row4\" class=\"row_heading level0 row4\" >lr</th>\n",
       "      <td id=\"T_1350f_row4_col0\" class=\"data row4 col0\" >Logistic Regression</td>\n",
       "      <td id=\"T_1350f_row4_col1\" class=\"data row4 col1\" >0.5755</td>\n",
       "      <td id=\"T_1350f_row4_col2\" class=\"data row4 col2\" >0.5932</td>\n",
       "      <td id=\"T_1350f_row4_col3\" class=\"data row4 col3\" >0.4827</td>\n",
       "      <td id=\"T_1350f_row4_col4\" class=\"data row4 col4\" >0.5651</td>\n",
       "      <td id=\"T_1350f_row4_col5\" class=\"data row4 col5\" >0.5206</td>\n",
       "      <td id=\"T_1350f_row4_col6\" class=\"data row4 col6\" >0.1439</td>\n",
       "      <td id=\"T_1350f_row4_col7\" class=\"data row4 col7\" >0.1455</td>\n",
       "      <td id=\"T_1350f_row4_col8\" class=\"data row4 col8\" >0.0100</td>\n",
       "    </tr>\n",
       "    <tr>\n",
       "      <th id=\"T_1350f_level0_row5\" class=\"row_heading level0 row5\" >ridge</th>\n",
       "      <td id=\"T_1350f_row5_col0\" class=\"data row5 col0\" >Ridge Classifier</td>\n",
       "      <td id=\"T_1350f_row5_col1\" class=\"data row5 col1\" >0.5754</td>\n",
       "      <td id=\"T_1350f_row5_col2\" class=\"data row5 col2\" >0.0000</td>\n",
       "      <td id=\"T_1350f_row5_col3\" class=\"data row5 col3\" >0.4870</td>\n",
       "      <td id=\"T_1350f_row5_col4\" class=\"data row5 col4\" >0.5641</td>\n",
       "      <td id=\"T_1350f_row5_col5\" class=\"data row5 col5\" >0.5227</td>\n",
       "      <td id=\"T_1350f_row5_col6\" class=\"data row5 col6\" >0.1440</td>\n",
       "      <td id=\"T_1350f_row5_col7\" class=\"data row5 col7\" >0.1453</td>\n",
       "      <td id=\"T_1350f_row5_col8\" class=\"data row5 col8\" >0.0080</td>\n",
       "    </tr>\n",
       "    <tr>\n",
       "      <th id=\"T_1350f_level0_row6\" class=\"row_heading level0 row6\" >lda</th>\n",
       "      <td id=\"T_1350f_row6_col0\" class=\"data row6 col0\" >Linear Discriminant Analysis</td>\n",
       "      <td id=\"T_1350f_row6_col1\" class=\"data row6 col1\" >0.5753</td>\n",
       "      <td id=\"T_1350f_row6_col2\" class=\"data row6 col2\" >0.5948</td>\n",
       "      <td id=\"T_1350f_row6_col3\" class=\"data row6 col3\" >0.4873</td>\n",
       "      <td id=\"T_1350f_row6_col4\" class=\"data row6 col4\" >0.5639</td>\n",
       "      <td id=\"T_1350f_row6_col5\" class=\"data row6 col5\" >0.5227</td>\n",
       "      <td id=\"T_1350f_row6_col6\" class=\"data row6 col6\" >0.1437</td>\n",
       "      <td id=\"T_1350f_row6_col7\" class=\"data row6 col7\" >0.1450</td>\n",
       "      <td id=\"T_1350f_row6_col8\" class=\"data row6 col8\" >0.0070</td>\n",
       "    </tr>\n",
       "    <tr>\n",
       "      <th id=\"T_1350f_level0_row7\" class=\"row_heading level0 row7\" >nb</th>\n",
       "      <td id=\"T_1350f_row7_col0\" class=\"data row7 col0\" >Naive Bayes</td>\n",
       "      <td id=\"T_1350f_row7_col1\" class=\"data row7 col1\" >0.5738</td>\n",
       "      <td id=\"T_1350f_row7_col2\" class=\"data row7 col2\" >0.5914</td>\n",
       "      <td id=\"T_1350f_row7_col3\" class=\"data row7 col3\" >0.5060</td>\n",
       "      <td id=\"T_1350f_row7_col4\" class=\"data row7 col4\" >0.5594</td>\n",
       "      <td id=\"T_1350f_row7_col5\" class=\"data row7 col5\" >0.5313</td>\n",
       "      <td id=\"T_1350f_row7_col6\" class=\"data row7 col6\" >0.1424</td>\n",
       "      <td id=\"T_1350f_row7_col7\" class=\"data row7 col7\" >0.1430</td>\n",
       "      <td id=\"T_1350f_row7_col8\" class=\"data row7 col8\" >0.0090</td>\n",
       "    </tr>\n",
       "    <tr>\n",
       "      <th id=\"T_1350f_level0_row8\" class=\"row_heading level0 row8\" >qda</th>\n",
       "      <td id=\"T_1350f_row8_col0\" class=\"data row8 col0\" >Quadratic Discriminant Analysis</td>\n",
       "      <td id=\"T_1350f_row8_col1\" class=\"data row8 col1\" >0.5722</td>\n",
       "      <td id=\"T_1350f_row8_col2\" class=\"data row8 col2\" >0.5955</td>\n",
       "      <td id=\"T_1350f_row8_col3\" class=\"data row8 col3\" >0.5304</td>\n",
       "      <td id=\"T_1350f_row8_col4\" class=\"data row8 col4\" >0.5543</td>\n",
       "      <td id=\"T_1350f_row8_col5\" class=\"data row8 col5\" >0.5420</td>\n",
       "      <td id=\"T_1350f_row8_col6\" class=\"data row8 col6\" >0.1410</td>\n",
       "      <td id=\"T_1350f_row8_col7\" class=\"data row8 col7\" >0.1411</td>\n",
       "      <td id=\"T_1350f_row8_col8\" class=\"data row8 col8\" >0.0070</td>\n",
       "    </tr>\n",
       "    <tr>\n",
       "      <th id=\"T_1350f_level0_row9\" class=\"row_heading level0 row9\" >rf</th>\n",
       "      <td id=\"T_1350f_row9_col0\" class=\"data row9 col0\" >Random Forest Classifier</td>\n",
       "      <td id=\"T_1350f_row9_col1\" class=\"data row9 col1\" >0.5618</td>\n",
       "      <td id=\"T_1350f_row9_col2\" class=\"data row9 col2\" >0.5701</td>\n",
       "      <td id=\"T_1350f_row9_col3\" class=\"data row9 col3\" >0.5410</td>\n",
       "      <td id=\"T_1350f_row9_col4\" class=\"data row9 col4\" >0.5408</td>\n",
       "      <td id=\"T_1350f_row9_col5\" class=\"data row9 col5\" >0.5407</td>\n",
       "      <td id=\"T_1350f_row9_col6\" class=\"data row9 col6\" >0.1218</td>\n",
       "      <td id=\"T_1350f_row9_col7\" class=\"data row9 col7\" >0.1218</td>\n",
       "      <td id=\"T_1350f_row9_col8\" class=\"data row9 col8\" >0.0210</td>\n",
       "    </tr>\n",
       "    <tr>\n",
       "      <th id=\"T_1350f_level0_row10\" class=\"row_heading level0 row10\" >xgboost</th>\n",
       "      <td id=\"T_1350f_row10_col0\" class=\"data row10 col0\" >Extreme Gradient Boosting</td>\n",
       "      <td id=\"T_1350f_row10_col1\" class=\"data row10 col1\" >0.5586</td>\n",
       "      <td id=\"T_1350f_row10_col2\" class=\"data row10 col2\" >0.5746</td>\n",
       "      <td id=\"T_1350f_row10_col3\" class=\"data row10 col3\" >0.5460</td>\n",
       "      <td id=\"T_1350f_row10_col4\" class=\"data row10 col4\" >0.5371</td>\n",
       "      <td id=\"T_1350f_row10_col5\" class=\"data row10 col5\" >0.5415</td>\n",
       "      <td id=\"T_1350f_row10_col6\" class=\"data row10 col6\" >0.1161</td>\n",
       "      <td id=\"T_1350f_row10_col7\" class=\"data row10 col7\" >0.1161</td>\n",
       "      <td id=\"T_1350f_row10_col8\" class=\"data row10 col8\" >0.0350</td>\n",
       "    </tr>\n",
       "    <tr>\n",
       "      <th id=\"T_1350f_level0_row11\" class=\"row_heading level0 row11\" >et</th>\n",
       "      <td id=\"T_1350f_row11_col0\" class=\"data row11 col0\" >Extra Trees Classifier</td>\n",
       "      <td id=\"T_1350f_row11_col1\" class=\"data row11 col1\" >0.5529</td>\n",
       "      <td id=\"T_1350f_row11_col2\" class=\"data row11 col2\" >0.5624</td>\n",
       "      <td id=\"T_1350f_row11_col3\" class=\"data row11 col3\" >0.5519</td>\n",
       "      <td id=\"T_1350f_row11_col4\" class=\"data row11 col4\" >0.5302</td>\n",
       "      <td id=\"T_1350f_row11_col5\" class=\"data row11 col5\" >0.5407</td>\n",
       "      <td id=\"T_1350f_row11_col6\" class=\"data row11 col6\" >0.1054</td>\n",
       "      <td id=\"T_1350f_row11_col7\" class=\"data row11 col7\" >0.1056</td>\n",
       "      <td id=\"T_1350f_row11_col8\" class=\"data row11 col8\" >0.0360</td>\n",
       "    </tr>\n",
       "    <tr>\n",
       "      <th id=\"T_1350f_level0_row12\" class=\"row_heading level0 row12\" >dt</th>\n",
       "      <td id=\"T_1350f_row12_col0\" class=\"data row12 col0\" >Decision Tree Classifier</td>\n",
       "      <td id=\"T_1350f_row12_col1\" class=\"data row12 col1\" >0.5350</td>\n",
       "      <td id=\"T_1350f_row12_col2\" class=\"data row12 col2\" >0.5200</td>\n",
       "      <td id=\"T_1350f_row12_col3\" class=\"data row12 col3\" >0.5842</td>\n",
       "      <td id=\"T_1350f_row12_col4\" class=\"data row12 col4\" >0.5113</td>\n",
       "      <td id=\"T_1350f_row12_col5\" class=\"data row12 col5\" >0.5453</td>\n",
       "      <td id=\"T_1350f_row12_col6\" class=\"data row12 col6\" >0.0739</td>\n",
       "      <td id=\"T_1350f_row12_col7\" class=\"data row12 col7\" >0.0746</td>\n",
       "      <td id=\"T_1350f_row12_col8\" class=\"data row12 col8\" >0.0090</td>\n",
       "    </tr>\n",
       "    <tr>\n",
       "      <th id=\"T_1350f_level0_row13\" class=\"row_heading level0 row13\" >knn</th>\n",
       "      <td id=\"T_1350f_row13_col0\" class=\"data row13 col0\" >K Neighbors Classifier</td>\n",
       "      <td id=\"T_1350f_row13_col1\" class=\"data row13 col1\" >0.5329</td>\n",
       "      <td id=\"T_1350f_row13_col2\" class=\"data row13 col2\" >0.5431</td>\n",
       "      <td id=\"T_1350f_row13_col3\" class=\"data row13 col3\" >0.4936</td>\n",
       "      <td id=\"T_1350f_row13_col4\" class=\"data row13 col4\" >0.5107</td>\n",
       "      <td id=\"T_1350f_row13_col5\" class=\"data row13 col5\" >0.5018</td>\n",
       "      <td id=\"T_1350f_row13_col6\" class=\"data row13 col6\" >0.0625</td>\n",
       "      <td id=\"T_1350f_row13_col7\" class=\"data row13 col7\" >0.0625</td>\n",
       "      <td id=\"T_1350f_row13_col8\" class=\"data row13 col8\" >0.0120</td>\n",
       "    </tr>\n",
       "    <tr>\n",
       "      <th id=\"T_1350f_level0_row14\" class=\"row_heading level0 row14\" >svm</th>\n",
       "      <td id=\"T_1350f_row14_col0\" class=\"data row14 col0\" >SVM - Linear Kernel</td>\n",
       "      <td id=\"T_1350f_row14_col1\" class=\"data row14 col1\" >0.5238</td>\n",
       "      <td id=\"T_1350f_row14_col2\" class=\"data row14 col2\" >0.0000</td>\n",
       "      <td id=\"T_1350f_row14_col3\" class=\"data row14 col3\" >0.2811</td>\n",
       "      <td id=\"T_1350f_row14_col4\" class=\"data row14 col4\" >0.2743</td>\n",
       "      <td id=\"T_1350f_row14_col5\" class=\"data row14 col5\" >0.2348</td>\n",
       "      <td id=\"T_1350f_row14_col6\" class=\"data row14 col6\" >0.0273</td>\n",
       "      <td id=\"T_1350f_row14_col7\" class=\"data row14 col7\" >0.0341</td>\n",
       "      <td id=\"T_1350f_row14_col8\" class=\"data row14 col8\" >0.0130</td>\n",
       "    </tr>\n",
       "    <tr>\n",
       "      <th id=\"T_1350f_level0_row15\" class=\"row_heading level0 row15\" >dummy</th>\n",
       "      <td id=\"T_1350f_row15_col0\" class=\"data row15 col0\" >Dummy Classifier</td>\n",
       "      <td id=\"T_1350f_row15_col1\" class=\"data row15 col1\" >0.5226</td>\n",
       "      <td id=\"T_1350f_row15_col2\" class=\"data row15 col2\" >0.5000</td>\n",
       "      <td id=\"T_1350f_row15_col3\" class=\"data row15 col3\" >0.0000</td>\n",
       "      <td id=\"T_1350f_row15_col4\" class=\"data row15 col4\" >0.0000</td>\n",
       "      <td id=\"T_1350f_row15_col5\" class=\"data row15 col5\" >0.0000</td>\n",
       "      <td id=\"T_1350f_row15_col6\" class=\"data row15 col6\" >0.0000</td>\n",
       "      <td id=\"T_1350f_row15_col7\" class=\"data row15 col7\" >0.0000</td>\n",
       "      <td id=\"T_1350f_row15_col8\" class=\"data row15 col8\" >0.0110</td>\n",
       "    </tr>\n",
       "  </tbody>\n",
       "</table>\n"
      ],
      "text/plain": [
       "\u001b[1m<\u001b[0m\u001b[1;95mpandas.io.formats.style.Styler\u001b[0m\u001b[39m object at \u001b[0m\u001b[1;36m0x37bb966d0\u001b[0m\u001b[1m>\u001b[0m"
      ]
     },
     "metadata": {},
     "output_type": "display_data"
    },
    {
     "data": {
      "text/html": [],
      "text/plain": [
       "\u001b[1m<\u001b[0m\u001b[1;95mIPython.core.display.HTML\u001b[0m\u001b[39m object\u001b[0m\u001b[1m>\u001b[0m"
      ]
     },
     "metadata": {},
     "output_type": "display_data"
    },
    {
     "data": {
      "text/html": [
       "<pre style=\"white-space:pre;overflow-x:auto;line-height:normal;font-family:Menlo,'DejaVu Sans Mono',consolas,'Courier New',monospace\"></pre>\n"
      ],
      "text/plain": []
     },
     "metadata": {},
     "output_type": "display_data"
    },
    {
     "data": {
      "text/html": [
       "<pre style=\"white-space:pre;overflow-x:auto;line-height:normal;font-family:Menlo,'DejaVu Sans Mono',consolas,'Courier New',monospace\"></pre>\n"
      ],
      "text/plain": []
     },
     "metadata": {},
     "output_type": "display_data"
    },
    {
     "data": {
      "text/html": [
       "<pre style=\"white-space:pre;overflow-x:auto;line-height:normal;font-family:Menlo,'DejaVu Sans Mono',consolas,'Courier New',monospace\"></pre>\n"
      ],
      "text/plain": []
     },
     "metadata": {},
     "output_type": "display_data"
    },
    {
     "data": {
      "text/html": [
       "<pre style=\"white-space:pre;overflow-x:auto;line-height:normal;font-family:Menlo,'DejaVu Sans Mono',consolas,'Courier New',monospace\"></pre>\n"
      ],
      "text/plain": []
     },
     "metadata": {},
     "output_type": "display_data"
    },
    {
     "data": {
      "text/html": [
       "<pre style=\"white-space:pre;overflow-x:auto;line-height:normal;font-family:Menlo,'DejaVu Sans Mono',consolas,'Courier New',monospace\"></pre>\n"
      ],
      "text/plain": []
     },
     "metadata": {},
     "output_type": "display_data"
    },
    {
     "data": {
      "text/html": [
       "<pre style=\"white-space:pre;overflow-x:auto;line-height:normal;font-family:Menlo,'DejaVu Sans Mono',consolas,'Courier New',monospace\"></pre>\n"
      ],
      "text/plain": []
     },
     "metadata": {},
     "output_type": "display_data"
    },
    {
     "data": {
      "text/html": [
       "<pre style=\"white-space:pre;overflow-x:auto;line-height:normal;font-family:Menlo,'DejaVu Sans Mono',consolas,'Courier New',monospace\"></pre>\n"
      ],
      "text/plain": []
     },
     "metadata": {},
     "output_type": "display_data"
    },
    {
     "data": {
      "text/html": [
       "<pre style=\"white-space:pre;overflow-x:auto;line-height:normal;font-family:Menlo,'DejaVu Sans Mono',consolas,'Courier New',monospace\"></pre>\n"
      ],
      "text/plain": []
     },
     "metadata": {},
     "output_type": "display_data"
    },
    {
     "data": {
      "text/html": [
       "<pre style=\"white-space:pre;overflow-x:auto;line-height:normal;font-family:Menlo,'DejaVu Sans Mono',consolas,'Courier New',monospace\"></pre>\n"
      ],
      "text/plain": []
     },
     "metadata": {},
     "output_type": "display_data"
    },
    {
     "data": {
      "text/html": [
       "<pre style=\"white-space:pre;overflow-x:auto;line-height:normal;font-family:Menlo,'DejaVu Sans Mono',consolas,'Courier New',monospace\"></pre>\n"
      ],
      "text/plain": []
     },
     "metadata": {},
     "output_type": "display_data"
    },
    {
     "data": {
      "text/html": [
       "<pre style=\"white-space:pre;overflow-x:auto;line-height:normal;font-family:Menlo,'DejaVu Sans Mono',consolas,'Courier New',monospace\"></pre>\n"
      ],
      "text/plain": []
     },
     "metadata": {},
     "output_type": "display_data"
    },
    {
     "data": {
      "text/html": [
       "<pre style=\"white-space:pre;overflow-x:auto;line-height:normal;font-family:Menlo,'DejaVu Sans Mono',consolas,'Courier New',monospace\"></pre>\n"
      ],
      "text/plain": []
     },
     "metadata": {},
     "output_type": "display_data"
    },
    {
     "data": {
      "text/html": [
       "<pre style=\"white-space:pre;overflow-x:auto;line-height:normal;font-family:Menlo,'DejaVu Sans Mono',consolas,'Courier New',monospace\"></pre>\n"
      ],
      "text/plain": []
     },
     "metadata": {},
     "output_type": "display_data"
    },
    {
     "data": {
      "text/html": [
       "<pre style=\"white-space:pre;overflow-x:auto;line-height:normal;font-family:Menlo,'DejaVu Sans Mono',consolas,'Courier New',monospace\"></pre>\n"
      ],
      "text/plain": []
     },
     "metadata": {},
     "output_type": "display_data"
    },
    {
     "data": {
      "text/html": [
       "<pre style=\"white-space:pre;overflow-x:auto;line-height:normal;font-family:Menlo,'DejaVu Sans Mono',consolas,'Courier New',monospace\"></pre>\n"
      ],
      "text/plain": []
     },
     "metadata": {},
     "output_type": "display_data"
    },
    {
     "data": {
      "text/html": [
       "<pre style=\"white-space:pre;overflow-x:auto;line-height:normal;font-family:Menlo,'DejaVu Sans Mono',consolas,'Courier New',monospace\"></pre>\n"
      ],
      "text/plain": []
     },
     "metadata": {},
     "output_type": "display_data"
    },
    {
     "data": {
      "text/html": [
       "<pre style=\"white-space:pre;overflow-x:auto;line-height:normal;font-family:Menlo,'DejaVu Sans Mono',consolas,'Courier New',monospace\"></pre>\n"
      ],
      "text/plain": []
     },
     "metadata": {},
     "output_type": "display_data"
    },
    {
     "data": {
      "text/html": [
       "<pre style=\"white-space:pre;overflow-x:auto;line-height:normal;font-family:Menlo,'DejaVu Sans Mono',consolas,'Courier New',monospace\"></pre>\n"
      ],
      "text/plain": []
     },
     "metadata": {},
     "output_type": "display_data"
    },
    {
     "data": {
      "text/html": [
       "<pre style=\"white-space:pre;overflow-x:auto;line-height:normal;font-family:Menlo,'DejaVu Sans Mono',consolas,'Courier New',monospace\"></pre>\n"
      ],
      "text/plain": []
     },
     "metadata": {},
     "output_type": "display_data"
    },
    {
     "data": {
      "text/html": [
       "<pre style=\"white-space:pre;overflow-x:auto;line-height:normal;font-family:Menlo,'DejaVu Sans Mono',consolas,'Courier New',monospace\"></pre>\n"
      ],
      "text/plain": []
     },
     "metadata": {},
     "output_type": "display_data"
    },
    {
     "data": {
      "text/html": [
       "<pre style=\"white-space:pre;overflow-x:auto;line-height:normal;font-family:Menlo,'DejaVu Sans Mono',consolas,'Courier New',monospace\"></pre>\n"
      ],
      "text/plain": []
     },
     "metadata": {},
     "output_type": "display_data"
    },
    {
     "data": {
      "text/html": [
       "<pre style=\"white-space:pre;overflow-x:auto;line-height:normal;font-family:Menlo,'DejaVu Sans Mono',consolas,'Courier New',monospace\"></pre>\n"
      ],
      "text/plain": []
     },
     "metadata": {},
     "output_type": "display_data"
    },
    {
     "data": {
      "text/html": [
       "<pre style=\"white-space:pre;overflow-x:auto;line-height:normal;font-family:Menlo,'DejaVu Sans Mono',consolas,'Courier New',monospace\"></pre>\n"
      ],
      "text/plain": []
     },
     "metadata": {},
     "output_type": "display_data"
    },
    {
     "data": {
      "text/html": [
       "<pre style=\"white-space:pre;overflow-x:auto;line-height:normal;font-family:Menlo,'DejaVu Sans Mono',consolas,'Courier New',monospace\"></pre>\n"
      ],
      "text/plain": []
     },
     "metadata": {},
     "output_type": "display_data"
    },
    {
     "data": {
      "text/html": [
       "<pre style=\"white-space:pre;overflow-x:auto;line-height:normal;font-family:Menlo,'DejaVu Sans Mono',consolas,'Courier New',monospace\"></pre>\n"
      ],
      "text/plain": []
     },
     "metadata": {},
     "output_type": "display_data"
    },
    {
     "data": {
      "text/html": [
       "<pre style=\"white-space:pre;overflow-x:auto;line-height:normal;font-family:Menlo,'DejaVu Sans Mono',consolas,'Courier New',monospace\"></pre>\n"
      ],
      "text/plain": []
     },
     "metadata": {},
     "output_type": "display_data"
    },
    {
     "data": {
      "text/html": [
       "<pre style=\"white-space:pre;overflow-x:auto;line-height:normal;font-family:Menlo,'DejaVu Sans Mono',consolas,'Courier New',monospace\"></pre>\n"
      ],
      "text/plain": []
     },
     "metadata": {},
     "output_type": "display_data"
    },
    {
     "data": {
      "text/html": [
       "<pre style=\"white-space:pre;overflow-x:auto;line-height:normal;font-family:Menlo,'DejaVu Sans Mono',consolas,'Courier New',monospace\"></pre>\n"
      ],
      "text/plain": []
     },
     "metadata": {},
     "output_type": "display_data"
    },
    {
     "data": {
      "text/html": [
       "<pre style=\"white-space:pre;overflow-x:auto;line-height:normal;font-family:Menlo,'DejaVu Sans Mono',consolas,'Courier New',monospace\"></pre>\n"
      ],
      "text/plain": []
     },
     "metadata": {},
     "output_type": "display_data"
    },
    {
     "data": {
      "text/html": [
       "<pre style=\"white-space:pre;overflow-x:auto;line-height:normal;font-family:Menlo,'DejaVu Sans Mono',consolas,'Courier New',monospace\"></pre>\n"
      ],
      "text/plain": []
     },
     "metadata": {},
     "output_type": "display_data"
    },
    {
     "data": {
      "text/html": [
       "<pre style=\"white-space:pre;overflow-x:auto;line-height:normal;font-family:Menlo,'DejaVu Sans Mono',consolas,'Courier New',monospace\"></pre>\n"
      ],
      "text/plain": []
     },
     "metadata": {},
     "output_type": "display_data"
    },
    {
     "data": {
      "text/html": [
       "<pre style=\"white-space:pre;overflow-x:auto;line-height:normal;font-family:Menlo,'DejaVu Sans Mono',consolas,'Courier New',monospace\"></pre>\n"
      ],
      "text/plain": []
     },
     "metadata": {},
     "output_type": "display_data"
    },
    {
     "data": {
      "text/html": [
       "<pre style=\"white-space:pre;overflow-x:auto;line-height:normal;font-family:Menlo,'DejaVu Sans Mono',consolas,'Courier New',monospace\"></pre>\n"
      ],
      "text/plain": []
     },
     "metadata": {},
     "output_type": "display_data"
    },
    {
     "data": {
      "text/html": [
       "<pre style=\"white-space:pre;overflow-x:auto;line-height:normal;font-family:Menlo,'DejaVu Sans Mono',consolas,'Courier New',monospace\"></pre>\n"
      ],
      "text/plain": []
     },
     "metadata": {},
     "output_type": "display_data"
    },
    {
     "data": {
      "text/html": [
       "<pre style=\"white-space:pre;overflow-x:auto;line-height:normal;font-family:Menlo,'DejaVu Sans Mono',consolas,'Courier New',monospace\"></pre>\n"
      ],
      "text/plain": []
     },
     "metadata": {},
     "output_type": "display_data"
    },
    {
     "data": {
      "text/html": [
       "<pre style=\"white-space:pre;overflow-x:auto;line-height:normal;font-family:Menlo,'DejaVu Sans Mono',consolas,'Courier New',monospace\"></pre>\n"
      ],
      "text/plain": []
     },
     "metadata": {},
     "output_type": "display_data"
    },
    {
     "data": {
      "text/html": [
       "<pre style=\"white-space:pre;overflow-x:auto;line-height:normal;font-family:Menlo,'DejaVu Sans Mono',consolas,'Courier New',monospace\"></pre>\n"
      ],
      "text/plain": []
     },
     "metadata": {},
     "output_type": "display_data"
    },
    {
     "data": {
      "text/html": [
       "<pre style=\"white-space:pre;overflow-x:auto;line-height:normal;font-family:Menlo,'DejaVu Sans Mono',consolas,'Courier New',monospace\"></pre>\n"
      ],
      "text/plain": []
     },
     "metadata": {},
     "output_type": "display_data"
    },
    {
     "data": {
      "text/html": [
       "<pre style=\"white-space:pre;overflow-x:auto;line-height:normal;font-family:Menlo,'DejaVu Sans Mono',consolas,'Courier New',monospace\"></pre>\n"
      ],
      "text/plain": []
     },
     "metadata": {},
     "output_type": "display_data"
    },
    {
     "data": {
      "text/html": [
       "<pre style=\"white-space:pre;overflow-x:auto;line-height:normal;font-family:Menlo,'DejaVu Sans Mono',consolas,'Courier New',monospace\"></pre>\n"
      ],
      "text/plain": []
     },
     "metadata": {},
     "output_type": "display_data"
    },
    {
     "data": {
      "text/html": [
       "<pre style=\"white-space:pre;overflow-x:auto;line-height:normal;font-family:Menlo,'DejaVu Sans Mono',consolas,'Courier New',monospace\"></pre>\n"
      ],
      "text/plain": []
     },
     "metadata": {},
     "output_type": "display_data"
    },
    {
     "data": {
      "text/html": [
       "<pre style=\"white-space:pre;overflow-x:auto;line-height:normal;font-family:Menlo,'DejaVu Sans Mono',consolas,'Courier New',monospace\"></pre>\n"
      ],
      "text/plain": []
     },
     "metadata": {},
     "output_type": "display_data"
    },
    {
     "data": {
      "text/html": [
       "<pre style=\"white-space:pre;overflow-x:auto;line-height:normal;font-family:Menlo,'DejaVu Sans Mono',consolas,'Courier New',monospace\"></pre>\n"
      ],
      "text/plain": []
     },
     "metadata": {},
     "output_type": "display_data"
    },
    {
     "data": {
      "text/html": [
       "<pre style=\"white-space:pre;overflow-x:auto;line-height:normal;font-family:Menlo,'DejaVu Sans Mono',consolas,'Courier New',monospace\"></pre>\n"
      ],
      "text/plain": []
     },
     "metadata": {},
     "output_type": "display_data"
    },
    {
     "data": {
      "text/html": [
       "<pre style=\"white-space:pre;overflow-x:auto;line-height:normal;font-family:Menlo,'DejaVu Sans Mono',consolas,'Courier New',monospace\"></pre>\n"
      ],
      "text/plain": []
     },
     "metadata": {},
     "output_type": "display_data"
    },
    {
     "data": {
      "text/html": [
       "<pre style=\"white-space:pre;overflow-x:auto;line-height:normal;font-family:Menlo,'DejaVu Sans Mono',consolas,'Courier New',monospace\"></pre>\n"
      ],
      "text/plain": []
     },
     "metadata": {},
     "output_type": "display_data"
    },
    {
     "data": {
      "text/html": [
       "<pre style=\"white-space:pre;overflow-x:auto;line-height:normal;font-family:Menlo,'DejaVu Sans Mono',consolas,'Courier New',monospace\"></pre>\n"
      ],
      "text/plain": []
     },
     "metadata": {},
     "output_type": "display_data"
    },
    {
     "data": {
      "text/html": [
       "<pre style=\"white-space:pre;overflow-x:auto;line-height:normal;font-family:Menlo,'DejaVu Sans Mono',consolas,'Courier New',monospace\"></pre>\n"
      ],
      "text/plain": []
     },
     "metadata": {},
     "output_type": "display_data"
    },
    {
     "data": {
      "text/html": [
       "<pre style=\"white-space:pre;overflow-x:auto;line-height:normal;font-family:Menlo,'DejaVu Sans Mono',consolas,'Courier New',monospace\"></pre>\n"
      ],
      "text/plain": []
     },
     "metadata": {},
     "output_type": "display_data"
    },
    {
     "data": {
      "text/html": [
       "<pre style=\"white-space:pre;overflow-x:auto;line-height:normal;font-family:Menlo,'DejaVu Sans Mono',consolas,'Courier New',monospace\"></pre>\n"
      ],
      "text/plain": []
     },
     "metadata": {},
     "output_type": "display_data"
    },
    {
     "data": {
      "text/html": [
       "<pre style=\"white-space:pre;overflow-x:auto;line-height:normal;font-family:Menlo,'DejaVu Sans Mono',consolas,'Courier New',monospace\"></pre>\n"
      ],
      "text/plain": []
     },
     "metadata": {},
     "output_type": "display_data"
    },
    {
     "data": {
      "text/html": [
       "<pre style=\"white-space:pre;overflow-x:auto;line-height:normal;font-family:Menlo,'DejaVu Sans Mono',consolas,'Courier New',monospace\"></pre>\n"
      ],
      "text/plain": []
     },
     "metadata": {},
     "output_type": "display_data"
    },
    {
     "data": {
      "text/html": [
       "<pre style=\"white-space:pre;overflow-x:auto;line-height:normal;font-family:Menlo,'DejaVu Sans Mono',consolas,'Courier New',monospace\"></pre>\n"
      ],
      "text/plain": []
     },
     "metadata": {},
     "output_type": "display_data"
    },
    {
     "data": {
      "text/html": [
       "<pre style=\"white-space:pre;overflow-x:auto;line-height:normal;font-family:Menlo,'DejaVu Sans Mono',consolas,'Courier New',monospace\"></pre>\n"
      ],
      "text/plain": []
     },
     "metadata": {},
     "output_type": "display_data"
    },
    {
     "data": {
      "text/html": [
       "<pre style=\"white-space:pre;overflow-x:auto;line-height:normal;font-family:Menlo,'DejaVu Sans Mono',consolas,'Courier New',monospace\"></pre>\n"
      ],
      "text/plain": []
     },
     "metadata": {},
     "output_type": "display_data"
    },
    {
     "data": {
      "text/html": [
       "<pre style=\"white-space:pre;overflow-x:auto;line-height:normal;font-family:Menlo,'DejaVu Sans Mono',consolas,'Courier New',monospace\"></pre>\n"
      ],
      "text/plain": []
     },
     "metadata": {},
     "output_type": "display_data"
    },
    {
     "data": {
      "text/html": [
       "<pre style=\"white-space:pre;overflow-x:auto;line-height:normal;font-family:Menlo,'DejaVu Sans Mono',consolas,'Courier New',monospace\"></pre>\n"
      ],
      "text/plain": []
     },
     "metadata": {},
     "output_type": "display_data"
    },
    {
     "data": {
      "text/html": [
       "<pre style=\"white-space:pre;overflow-x:auto;line-height:normal;font-family:Menlo,'DejaVu Sans Mono',consolas,'Courier New',monospace\"></pre>\n"
      ],
      "text/plain": []
     },
     "metadata": {},
     "output_type": "display_data"
    },
    {
     "data": {
      "text/html": [
       "<pre style=\"white-space:pre;overflow-x:auto;line-height:normal;font-family:Menlo,'DejaVu Sans Mono',consolas,'Courier New',monospace\"></pre>\n"
      ],
      "text/plain": []
     },
     "metadata": {},
     "output_type": "display_data"
    },
    {
     "data": {
      "text/html": [
       "<pre style=\"white-space:pre;overflow-x:auto;line-height:normal;font-family:Menlo,'DejaVu Sans Mono',consolas,'Courier New',monospace\"></pre>\n"
      ],
      "text/plain": []
     },
     "metadata": {},
     "output_type": "display_data"
    },
    {
     "data": {
      "text/html": [
       "<pre style=\"white-space:pre;overflow-x:auto;line-height:normal;font-family:Menlo,'DejaVu Sans Mono',consolas,'Courier New',monospace\"></pre>\n"
      ],
      "text/plain": []
     },
     "metadata": {},
     "output_type": "display_data"
    },
    {
     "data": {
      "text/html": [
       "<pre style=\"white-space:pre;overflow-x:auto;line-height:normal;font-family:Menlo,'DejaVu Sans Mono',consolas,'Courier New',monospace\"></pre>\n"
      ],
      "text/plain": []
     },
     "metadata": {},
     "output_type": "display_data"
    },
    {
     "data": {
      "text/html": [
       "<pre style=\"white-space:pre;overflow-x:auto;line-height:normal;font-family:Menlo,'DejaVu Sans Mono',consolas,'Courier New',monospace\"></pre>\n"
      ],
      "text/plain": []
     },
     "metadata": {},
     "output_type": "display_data"
    },
    {
     "data": {
      "text/html": [
       "<pre style=\"white-space:pre;overflow-x:auto;line-height:normal;font-family:Menlo,'DejaVu Sans Mono',consolas,'Courier New',monospace\"></pre>\n"
      ],
      "text/plain": []
     },
     "metadata": {},
     "output_type": "display_data"
    },
    {
     "data": {
      "text/html": [
       "<pre style=\"white-space:pre;overflow-x:auto;line-height:normal;font-family:Menlo,'DejaVu Sans Mono',consolas,'Courier New',monospace\"></pre>\n"
      ],
      "text/plain": []
     },
     "metadata": {},
     "output_type": "display_data"
    },
    {
     "data": {
      "text/html": [
       "<pre style=\"white-space:pre;overflow-x:auto;line-height:normal;font-family:Menlo,'DejaVu Sans Mono',consolas,'Courier New',monospace\"></pre>\n"
      ],
      "text/plain": []
     },
     "metadata": {},
     "output_type": "display_data"
    },
    {
     "data": {
      "text/html": [
       "<pre style=\"white-space:pre;overflow-x:auto;line-height:normal;font-family:Menlo,'DejaVu Sans Mono',consolas,'Courier New',monospace\"></pre>\n"
      ],
      "text/plain": []
     },
     "metadata": {},
     "output_type": "display_data"
    },
    {
     "data": {
      "text/html": [
       "<pre style=\"white-space:pre;overflow-x:auto;line-height:normal;font-family:Menlo,'DejaVu Sans Mono',consolas,'Courier New',monospace\"></pre>\n"
      ],
      "text/plain": []
     },
     "metadata": {},
     "output_type": "display_data"
    },
    {
     "data": {
      "text/html": [
       "<pre style=\"white-space:pre;overflow-x:auto;line-height:normal;font-family:Menlo,'DejaVu Sans Mono',consolas,'Courier New',monospace\"></pre>\n"
      ],
      "text/plain": []
     },
     "metadata": {},
     "output_type": "display_data"
    },
    {
     "data": {
      "text/html": [
       "<pre style=\"white-space:pre;overflow-x:auto;line-height:normal;font-family:Menlo,'DejaVu Sans Mono',consolas,'Courier New',monospace\"></pre>\n"
      ],
      "text/plain": []
     },
     "metadata": {},
     "output_type": "display_data"
    },
    {
     "data": {
      "text/html": [
       "<pre style=\"white-space:pre;overflow-x:auto;line-height:normal;font-family:Menlo,'DejaVu Sans Mono',consolas,'Courier New',monospace\"></pre>\n"
      ],
      "text/plain": []
     },
     "metadata": {},
     "output_type": "display_data"
    },
    {
     "data": {
      "text/html": [
       "<pre style=\"white-space:pre;overflow-x:auto;line-height:normal;font-family:Menlo,'DejaVu Sans Mono',consolas,'Courier New',monospace\"></pre>\n"
      ],
      "text/plain": []
     },
     "metadata": {},
     "output_type": "display_data"
    },
    {
     "data": {
      "text/html": [
       "<pre style=\"white-space:pre;overflow-x:auto;line-height:normal;font-family:Menlo,'DejaVu Sans Mono',consolas,'Courier New',monospace\"></pre>\n"
      ],
      "text/plain": []
     },
     "metadata": {},
     "output_type": "display_data"
    },
    {
     "data": {
      "text/html": [
       "<pre style=\"white-space:pre;overflow-x:auto;line-height:normal;font-family:Menlo,'DejaVu Sans Mono',consolas,'Courier New',monospace\"></pre>\n"
      ],
      "text/plain": []
     },
     "metadata": {},
     "output_type": "display_data"
    },
    {
     "data": {
      "text/html": [
       "<pre style=\"white-space:pre;overflow-x:auto;line-height:normal;font-family:Menlo,'DejaVu Sans Mono',consolas,'Courier New',monospace\"></pre>\n"
      ],
      "text/plain": []
     },
     "metadata": {},
     "output_type": "display_data"
    },
    {
     "data": {
      "text/html": [
       "<pre style=\"white-space:pre;overflow-x:auto;line-height:normal;font-family:Menlo,'DejaVu Sans Mono',consolas,'Courier New',monospace\"></pre>\n"
      ],
      "text/plain": []
     },
     "metadata": {},
     "output_type": "display_data"
    },
    {
     "data": {
      "text/html": [
       "<pre style=\"white-space:pre;overflow-x:auto;line-height:normal;font-family:Menlo,'DejaVu Sans Mono',consolas,'Courier New',monospace\"></pre>\n"
      ],
      "text/plain": []
     },
     "metadata": {},
     "output_type": "display_data"
    },
    {
     "data": {
      "text/html": [
       "<pre style=\"white-space:pre;overflow-x:auto;line-height:normal;font-family:Menlo,'DejaVu Sans Mono',consolas,'Courier New',monospace\"></pre>\n"
      ],
      "text/plain": []
     },
     "metadata": {},
     "output_type": "display_data"
    },
    {
     "data": {
      "text/html": [
       "<pre style=\"white-space:pre;overflow-x:auto;line-height:normal;font-family:Menlo,'DejaVu Sans Mono',consolas,'Courier New',monospace\"></pre>\n"
      ],
      "text/plain": []
     },
     "metadata": {},
     "output_type": "display_data"
    },
    {
     "data": {
      "text/html": [
       "<pre style=\"white-space:pre;overflow-x:auto;line-height:normal;font-family:Menlo,'DejaVu Sans Mono',consolas,'Courier New',monospace\"></pre>\n"
      ],
      "text/plain": []
     },
     "metadata": {},
     "output_type": "display_data"
    },
    {
     "data": {
      "text/html": [
       "<pre style=\"white-space:pre;overflow-x:auto;line-height:normal;font-family:Menlo,'DejaVu Sans Mono',consolas,'Courier New',monospace\"></pre>\n"
      ],
      "text/plain": []
     },
     "metadata": {},
     "output_type": "display_data"
    },
    {
     "data": {
      "text/html": [
       "<pre style=\"white-space:pre;overflow-x:auto;line-height:normal;font-family:Menlo,'DejaVu Sans Mono',consolas,'Courier New',monospace\"></pre>\n"
      ],
      "text/plain": []
     },
     "metadata": {},
     "output_type": "display_data"
    },
    {
     "data": {
      "text/html": [
       "<pre style=\"white-space:pre;overflow-x:auto;line-height:normal;font-family:Menlo,'DejaVu Sans Mono',consolas,'Courier New',monospace\"></pre>\n"
      ],
      "text/plain": []
     },
     "metadata": {},
     "output_type": "display_data"
    },
    {
     "data": {
      "text/html": [
       "<pre style=\"white-space:pre;overflow-x:auto;line-height:normal;font-family:Menlo,'DejaVu Sans Mono',consolas,'Courier New',monospace\"></pre>\n"
      ],
      "text/plain": []
     },
     "metadata": {},
     "output_type": "display_data"
    },
    {
     "data": {
      "text/html": [
       "<pre style=\"white-space:pre;overflow-x:auto;line-height:normal;font-family:Menlo,'DejaVu Sans Mono',consolas,'Courier New',monospace\"></pre>\n"
      ],
      "text/plain": []
     },
     "metadata": {},
     "output_type": "display_data"
    },
    {
     "data": {
      "text/html": [
       "<pre style=\"white-space:pre;overflow-x:auto;line-height:normal;font-family:Menlo,'DejaVu Sans Mono',consolas,'Courier New',monospace\"></pre>\n"
      ],
      "text/plain": []
     },
     "metadata": {},
     "output_type": "display_data"
    },
    {
     "data": {
      "text/html": [
       "<pre style=\"white-space:pre;overflow-x:auto;line-height:normal;font-family:Menlo,'DejaVu Sans Mono',consolas,'Courier New',monospace\"></pre>\n"
      ],
      "text/plain": []
     },
     "metadata": {},
     "output_type": "display_data"
    },
    {
     "data": {
      "text/html": [
       "<pre style=\"white-space:pre;overflow-x:auto;line-height:normal;font-family:Menlo,'DejaVu Sans Mono',consolas,'Courier New',monospace\"></pre>\n"
      ],
      "text/plain": []
     },
     "metadata": {},
     "output_type": "display_data"
    },
    {
     "data": {
      "text/html": [
       "<pre style=\"white-space:pre;overflow-x:auto;line-height:normal;font-family:Menlo,'DejaVu Sans Mono',consolas,'Courier New',monospace\"></pre>\n"
      ],
      "text/plain": []
     },
     "metadata": {},
     "output_type": "display_data"
    },
    {
     "data": {
      "text/html": [
       "<pre style=\"white-space:pre;overflow-x:auto;line-height:normal;font-family:Menlo,'DejaVu Sans Mono',consolas,'Courier New',monospace\"></pre>\n"
      ],
      "text/plain": []
     },
     "metadata": {},
     "output_type": "display_data"
    },
    {
     "data": {
      "text/html": [
       "<pre style=\"white-space:pre;overflow-x:auto;line-height:normal;font-family:Menlo,'DejaVu Sans Mono',consolas,'Courier New',monospace\"></pre>\n"
      ],
      "text/plain": []
     },
     "metadata": {},
     "output_type": "display_data"
    },
    {
     "data": {
      "text/html": [
       "<pre style=\"white-space:pre;overflow-x:auto;line-height:normal;font-family:Menlo,'DejaVu Sans Mono',consolas,'Courier New',monospace\"></pre>\n"
      ],
      "text/plain": []
     },
     "metadata": {},
     "output_type": "display_data"
    },
    {
     "data": {
      "text/html": [
       "<pre style=\"white-space:pre;overflow-x:auto;line-height:normal;font-family:Menlo,'DejaVu Sans Mono',consolas,'Courier New',monospace\"></pre>\n"
      ],
      "text/plain": []
     },
     "metadata": {},
     "output_type": "display_data"
    },
    {
     "data": {
      "text/html": [
       "<pre style=\"white-space:pre;overflow-x:auto;line-height:normal;font-family:Menlo,'DejaVu Sans Mono',consolas,'Courier New',monospace\"></pre>\n"
      ],
      "text/plain": []
     },
     "metadata": {},
     "output_type": "display_data"
    },
    {
     "data": {
      "text/html": [
       "<pre style=\"white-space:pre;overflow-x:auto;line-height:normal;font-family:Menlo,'DejaVu Sans Mono',consolas,'Courier New',monospace\"></pre>\n"
      ],
      "text/plain": []
     },
     "metadata": {},
     "output_type": "display_data"
    },
    {
     "data": {
      "text/html": [
       "<pre style=\"white-space:pre;overflow-x:auto;line-height:normal;font-family:Menlo,'DejaVu Sans Mono',consolas,'Courier New',monospace\"></pre>\n"
      ],
      "text/plain": []
     },
     "metadata": {},
     "output_type": "display_data"
    },
    {
     "data": {
      "text/html": [
       "<pre style=\"white-space:pre;overflow-x:auto;line-height:normal;font-family:Menlo,'DejaVu Sans Mono',consolas,'Courier New',monospace\"></pre>\n"
      ],
      "text/plain": []
     },
     "metadata": {},
     "output_type": "display_data"
    },
    {
     "data": {
      "text/html": [
       "<pre style=\"white-space:pre;overflow-x:auto;line-height:normal;font-family:Menlo,'DejaVu Sans Mono',consolas,'Courier New',monospace\"></pre>\n"
      ],
      "text/plain": []
     },
     "metadata": {},
     "output_type": "display_data"
    },
    {
     "data": {
      "text/html": [
       "<pre style=\"white-space:pre;overflow-x:auto;line-height:normal;font-family:Menlo,'DejaVu Sans Mono',consolas,'Courier New',monospace\"></pre>\n"
      ],
      "text/plain": []
     },
     "metadata": {},
     "output_type": "display_data"
    },
    {
     "data": {
      "text/html": [
       "<pre style=\"white-space:pre;overflow-x:auto;line-height:normal;font-family:Menlo,'DejaVu Sans Mono',consolas,'Courier New',monospace\"></pre>\n"
      ],
      "text/plain": []
     },
     "metadata": {},
     "output_type": "display_data"
    },
    {
     "data": {
      "text/html": [
       "<pre style=\"white-space:pre;overflow-x:auto;line-height:normal;font-family:Menlo,'DejaVu Sans Mono',consolas,'Courier New',monospace\"></pre>\n"
      ],
      "text/plain": []
     },
     "metadata": {},
     "output_type": "display_data"
    },
    {
     "data": {
      "text/html": [
       "<pre style=\"white-space:pre;overflow-x:auto;line-height:normal;font-family:Menlo,'DejaVu Sans Mono',consolas,'Courier New',monospace\"></pre>\n"
      ],
      "text/plain": []
     },
     "metadata": {},
     "output_type": "display_data"
    },
    {
     "data": {
      "text/html": [
       "<pre style=\"white-space:pre;overflow-x:auto;line-height:normal;font-family:Menlo,'DejaVu Sans Mono',consolas,'Courier New',monospace\"></pre>\n"
      ],
      "text/plain": []
     },
     "metadata": {},
     "output_type": "display_data"
    },
    {
     "name": "stderr",
     "output_type": "stream",
     "text": [
      "2025/04/05 00:34:52 WARNING mlflow.utils.environment: Failed to resolve installed pip version. ``pip`` will be added to conda.yaml environment spec without a version specifier.\n"
     ]
    },
    {
     "data": {
      "text/html": [
       "<pre style=\"white-space:pre;overflow-x:auto;line-height:normal;font-family:Menlo,'DejaVu Sans Mono',consolas,'Courier New',monospace\"></pre>\n"
      ],
      "text/plain": []
     },
     "metadata": {},
     "output_type": "display_data"
    },
    {
     "name": "stderr",
     "output_type": "stream",
     "text": [
      "2025/04/05 00:34:52 WARNING mlflow.utils.environment: Failed to resolve installed pip version. ``pip`` will be added to conda.yaml environment spec without a version specifier.\n"
     ]
    },
    {
     "data": {
      "text/html": [
       "<pre style=\"white-space:pre;overflow-x:auto;line-height:normal;font-family:Menlo,'DejaVu Sans Mono',consolas,'Courier New',monospace\"></pre>\n"
      ],
      "text/plain": []
     },
     "metadata": {},
     "output_type": "display_data"
    },
    {
     "name": "stderr",
     "output_type": "stream",
     "text": [
      "2025/04/05 00:34:52 WARNING mlflow.utils.environment: Failed to resolve installed pip version. ``pip`` will be added to conda.yaml environment spec without a version specifier.\n"
     ]
    },
    {
     "data": {
      "text/html": [
       "<pre style=\"white-space:pre;overflow-x:auto;line-height:normal;font-family:Menlo,'DejaVu Sans Mono',consolas,'Courier New',monospace\"></pre>\n"
      ],
      "text/plain": []
     },
     "metadata": {},
     "output_type": "display_data"
    },
    {
     "name": "stderr",
     "output_type": "stream",
     "text": [
      "2025/04/05 00:34:52 WARNING mlflow.utils.environment: Failed to resolve installed pip version. ``pip`` will be added to conda.yaml environment spec without a version specifier.\n"
     ]
    },
    {
     "data": {
      "text/html": [
       "<pre style=\"white-space:pre;overflow-x:auto;line-height:normal;font-family:Menlo,'DejaVu Sans Mono',consolas,'Courier New',monospace\"></pre>\n"
      ],
      "text/plain": []
     },
     "metadata": {},
     "output_type": "display_data"
    },
    {
     "name": "stderr",
     "output_type": "stream",
     "text": [
      "2025/04/05 00:34:52 WARNING mlflow.utils.environment: Failed to resolve installed pip version. ``pip`` will be added to conda.yaml environment spec without a version specifier.\n"
     ]
    },
    {
     "data": {
      "text/html": [
       "<pre style=\"white-space:pre;overflow-x:auto;line-height:normal;font-family:Menlo,'DejaVu Sans Mono',consolas,'Courier New',monospace\"></pre>\n"
      ],
      "text/plain": []
     },
     "metadata": {},
     "output_type": "display_data"
    },
    {
     "name": "stderr",
     "output_type": "stream",
     "text": [
      "2025/04/05 00:34:52 WARNING mlflow.utils.environment: Failed to resolve installed pip version. ``pip`` will be added to conda.yaml environment spec without a version specifier.\n"
     ]
    },
    {
     "data": {
      "text/html": [
       "<pre style=\"white-space:pre;overflow-x:auto;line-height:normal;font-family:Menlo,'DejaVu Sans Mono',consolas,'Courier New',monospace\"></pre>\n"
      ],
      "text/plain": []
     },
     "metadata": {},
     "output_type": "display_data"
    },
    {
     "name": "stderr",
     "output_type": "stream",
     "text": [
      "2025/04/05 00:34:52 WARNING mlflow.utils.environment: Failed to resolve installed pip version. ``pip`` will be added to conda.yaml environment spec without a version specifier.\n"
     ]
    },
    {
     "data": {
      "text/html": [
       "<pre style=\"white-space:pre;overflow-x:auto;line-height:normal;font-family:Menlo,'DejaVu Sans Mono',consolas,'Courier New',monospace\"></pre>\n"
      ],
      "text/plain": []
     },
     "metadata": {},
     "output_type": "display_data"
    },
    {
     "name": "stderr",
     "output_type": "stream",
     "text": [
      "2025/04/05 00:34:52 WARNING mlflow.utils.environment: Failed to resolve installed pip version. ``pip`` will be added to conda.yaml environment spec without a version specifier.\n"
     ]
    },
    {
     "data": {
      "text/html": [
       "<pre style=\"white-space:pre;overflow-x:auto;line-height:normal;font-family:Menlo,'DejaVu Sans Mono',consolas,'Courier New',monospace\"></pre>\n"
      ],
      "text/plain": []
     },
     "metadata": {},
     "output_type": "display_data"
    },
    {
     "name": "stderr",
     "output_type": "stream",
     "text": [
      "2025/04/05 00:34:52 WARNING mlflow.utils.environment: Failed to resolve installed pip version. ``pip`` will be added to conda.yaml environment spec without a version specifier.\n"
     ]
    },
    {
     "data": {
      "text/html": [
       "<pre style=\"white-space:pre;overflow-x:auto;line-height:normal;font-family:Menlo,'DejaVu Sans Mono',consolas,'Courier New',monospace\"></pre>\n"
      ],
      "text/plain": []
     },
     "metadata": {},
     "output_type": "display_data"
    },
    {
     "name": "stderr",
     "output_type": "stream",
     "text": [
      "2025/04/05 00:34:52 WARNING mlflow.utils.environment: Failed to resolve installed pip version. ``pip`` will be added to conda.yaml environment spec without a version specifier.\n"
     ]
    },
    {
     "data": {
      "text/html": [
       "<pre style=\"white-space:pre;overflow-x:auto;line-height:normal;font-family:Menlo,'DejaVu Sans Mono',consolas,'Courier New',monospace\"></pre>\n"
      ],
      "text/plain": []
     },
     "metadata": {},
     "output_type": "display_data"
    },
    {
     "name": "stderr",
     "output_type": "stream",
     "text": [
      "2025/04/05 00:34:52 WARNING mlflow.utils.environment: Failed to resolve installed pip version. ``pip`` will be added to conda.yaml environment spec without a version specifier.\n"
     ]
    },
    {
     "data": {
      "text/html": [
       "<pre style=\"white-space:pre;overflow-x:auto;line-height:normal;font-family:Menlo,'DejaVu Sans Mono',consolas,'Courier New',monospace\"></pre>\n"
      ],
      "text/plain": []
     },
     "metadata": {},
     "output_type": "display_data"
    },
    {
     "name": "stderr",
     "output_type": "stream",
     "text": [
      "2025/04/05 00:34:53 WARNING mlflow.utils.environment: Failed to resolve installed pip version. ``pip`` will be added to conda.yaml environment spec without a version specifier.\n"
     ]
    },
    {
     "data": {
      "text/html": [
       "<pre style=\"white-space:pre;overflow-x:auto;line-height:normal;font-family:Menlo,'DejaVu Sans Mono',consolas,'Courier New',monospace\"></pre>\n"
      ],
      "text/plain": []
     },
     "metadata": {},
     "output_type": "display_data"
    },
    {
     "name": "stderr",
     "output_type": "stream",
     "text": [
      "2025/04/05 00:34:53 WARNING mlflow.utils.environment: Failed to resolve installed pip version. ``pip`` will be added to conda.yaml environment spec without a version specifier.\n"
     ]
    },
    {
     "data": {
      "text/html": [
       "<pre style=\"white-space:pre;overflow-x:auto;line-height:normal;font-family:Menlo,'DejaVu Sans Mono',consolas,'Courier New',monospace\"></pre>\n"
      ],
      "text/plain": []
     },
     "metadata": {},
     "output_type": "display_data"
    },
    {
     "name": "stderr",
     "output_type": "stream",
     "text": [
      "2025/04/05 00:34:53 WARNING mlflow.utils.environment: Failed to resolve installed pip version. ``pip`` will be added to conda.yaml environment spec without a version specifier.\n"
     ]
    },
    {
     "data": {
      "text/html": [
       "<pre style=\"white-space:pre;overflow-x:auto;line-height:normal;font-family:Menlo,'DejaVu Sans Mono',consolas,'Courier New',monospace\"></pre>\n"
      ],
      "text/plain": []
     },
     "metadata": {},
     "output_type": "display_data"
    },
    {
     "name": "stderr",
     "output_type": "stream",
     "text": [
      "2025/04/05 00:34:53 WARNING mlflow.utils.environment: Failed to resolve installed pip version. ``pip`` will be added to conda.yaml environment spec without a version specifier.\n"
     ]
    },
    {
     "data": {
      "text/html": [
       "<pre style=\"white-space:pre;overflow-x:auto;line-height:normal;font-family:Menlo,'DejaVu Sans Mono',consolas,'Courier New',monospace\"></pre>\n"
      ],
      "text/plain": []
     },
     "metadata": {},
     "output_type": "display_data"
    },
    {
     "name": "stderr",
     "output_type": "stream",
     "text": [
      "2025/04/05 00:34:53 WARNING mlflow.utils.environment: Failed to resolve installed pip version. ``pip`` will be added to conda.yaml environment spec without a version specifier.\n"
     ]
    },
    {
     "data": {
      "text/html": [
       "<pre style=\"white-space:pre;overflow-x:auto;line-height:normal;font-family:Menlo,'DejaVu Sans Mono',consolas,'Courier New',monospace\"></pre>\n"
      ],
      "text/plain": []
     },
     "metadata": {},
     "output_type": "display_data"
    },
    {
     "data": {
      "text/html": [
       "<pre style=\"white-space:pre;overflow-x:auto;line-height:normal;font-family:Menlo,'DejaVu Sans Mono',consolas,'Courier New',monospace\"></pre>\n"
      ],
      "text/plain": []
     },
     "metadata": {},
     "output_type": "display_data"
    },
    {
     "data": {
      "text/html": [
       "<pre style=\"white-space:pre;overflow-x:auto;line-height:normal;font-family:Menlo,'DejaVu Sans Mono',consolas,'Courier New',monospace\"></pre>\n"
      ],
      "text/plain": []
     },
     "metadata": {},
     "output_type": "display_data"
    },
    {
     "data": {
      "text/html": [
       "<style>#sk-container-id-2 {color: black;background-color: white;}#sk-container-id-2 pre{padding: 0;}#sk-container-id-2 div.sk-toggleable {background-color: white;}#sk-container-id-2 label.sk-toggleable__label {cursor: pointer;display: block;width: 100%;margin-bottom: 0;padding: 0.3em;box-sizing: border-box;text-align: center;}#sk-container-id-2 label.sk-toggleable__label-arrow:before {content: \"▸\";float: left;margin-right: 0.25em;color: #696969;}#sk-container-id-2 label.sk-toggleable__label-arrow:hover:before {color: black;}#sk-container-id-2 div.sk-estimator:hover label.sk-toggleable__label-arrow:before {color: black;}#sk-container-id-2 div.sk-toggleable__content {max-height: 0;max-width: 0;overflow: hidden;text-align: left;background-color: #f0f8ff;}#sk-container-id-2 div.sk-toggleable__content pre {margin: 0.2em;color: black;border-radius: 0.25em;background-color: #f0f8ff;}#sk-container-id-2 input.sk-toggleable__control:checked~div.sk-toggleable__content {max-height: 200px;max-width: 100%;overflow: auto;}#sk-container-id-2 input.sk-toggleable__control:checked~label.sk-toggleable__label-arrow:before {content: \"▾\";}#sk-container-id-2 div.sk-estimator input.sk-toggleable__control:checked~label.sk-toggleable__label {background-color: #d4ebff;}#sk-container-id-2 div.sk-label input.sk-toggleable__control:checked~label.sk-toggleable__label {background-color: #d4ebff;}#sk-container-id-2 input.sk-hidden--visually {border: 0;clip: rect(1px 1px 1px 1px);clip: rect(1px, 1px, 1px, 1px);height: 1px;margin: -1px;overflow: hidden;padding: 0;position: absolute;width: 1px;}#sk-container-id-2 div.sk-estimator {font-family: monospace;background-color: #f0f8ff;border: 1px dotted black;border-radius: 0.25em;box-sizing: border-box;margin-bottom: 0.5em;}#sk-container-id-2 div.sk-estimator:hover {background-color: #d4ebff;}#sk-container-id-2 div.sk-parallel-item::after {content: \"\";width: 100%;border-bottom: 1px solid gray;flex-grow: 1;}#sk-container-id-2 div.sk-label:hover label.sk-toggleable__label {background-color: #d4ebff;}#sk-container-id-2 div.sk-serial::before {content: \"\";position: absolute;border-left: 1px solid gray;box-sizing: border-box;top: 0;bottom: 0;left: 50%;z-index: 0;}#sk-container-id-2 div.sk-serial {display: flex;flex-direction: column;align-items: center;background-color: white;padding-right: 0.2em;padding-left: 0.2em;position: relative;}#sk-container-id-2 div.sk-item {position: relative;z-index: 1;}#sk-container-id-2 div.sk-parallel {display: flex;align-items: stretch;justify-content: center;background-color: white;position: relative;}#sk-container-id-2 div.sk-item::before, #sk-container-id-2 div.sk-parallel-item::before {content: \"\";position: absolute;border-left: 1px solid gray;box-sizing: border-box;top: 0;bottom: 0;left: 50%;z-index: -1;}#sk-container-id-2 div.sk-parallel-item {display: flex;flex-direction: column;z-index: 1;position: relative;background-color: white;}#sk-container-id-2 div.sk-parallel-item:first-child::after {align-self: flex-end;width: 50%;}#sk-container-id-2 div.sk-parallel-item:last-child::after {align-self: flex-start;width: 50%;}#sk-container-id-2 div.sk-parallel-item:only-child::after {width: 0;}#sk-container-id-2 div.sk-dashed-wrapped {border: 1px dashed gray;margin: 0 0.4em 0.5em 0.4em;box-sizing: border-box;padding-bottom: 0.4em;background-color: white;}#sk-container-id-2 div.sk-label label {font-family: monospace;font-weight: bold;display: inline-block;line-height: 1.2em;}#sk-container-id-2 div.sk-label-container {text-align: center;}#sk-container-id-2 div.sk-container {/* jupyter's `normalize.less` sets `[hidden] { display: none; }` but bootstrap.min.css set `[hidden] { display: none !important; }` so we also need the `!important` here to be able to override the default hidden behavior on the sphinx rendered scikit-learn.org. See: https://github.com/scikit-learn/scikit-learn/issues/21755 */display: inline-block !important;position: relative;}#sk-container-id-2 div.sk-text-repr-fallback {display: none;}</style><div id=\"sk-container-id-2\" class=\"sk-top-container\"><div class=\"sk-text-repr-fallback\"><pre>AdaBoostClassifier(algorithm=&#x27;SAMME.R&#x27;, base_estimator=&#x27;deprecated&#x27;,\n",
       "                   estimator=None, learning_rate=1.0, n_estimators=50,\n",
       "                   random_state=42)</pre><b>In a Jupyter environment, please rerun this cell to show the HTML representation or trust the notebook. <br />On GitHub, the HTML representation is unable to render, please try loading this page with nbviewer.org.</b></div><div class=\"sk-container\" hidden><div class=\"sk-item\"><div class=\"sk-estimator sk-toggleable\"><input class=\"sk-toggleable__control sk-hidden--visually\" id=\"sk-estimator-id-2\" type=\"checkbox\" checked><label for=\"sk-estimator-id-2\" class=\"sk-toggleable__label sk-toggleable__label-arrow\">AdaBoostClassifier</label><div class=\"sk-toggleable__content\"><pre>AdaBoostClassifier(algorithm=&#x27;SAMME.R&#x27;, base_estimator=&#x27;deprecated&#x27;,\n",
       "                   estimator=None, learning_rate=1.0, n_estimators=50,\n",
       "                   random_state=42)</pre></div></div></div></div></div>"
      ],
      "text/plain": [
       "AdaBoostClassifier(algorithm='SAMME.R', base_estimator='deprecated',\n",
       "                   estimator=None, learning_rate=1.0, n_estimators=50,\n",
       "                   random_state=42)"
      ]
     },
     "execution_count": 9,
     "metadata": {},
     "output_type": "execute_result"
    }
   ],
   "source": [
    "experiment.compare_models()"
   ]
  },
  {
   "cell_type": "code",
   "execution_count": 5,
   "metadata": {},
   "outputs": [],
   "source": [
    "features = [\n",
    "    'lat',\n",
    "    'lng',\n",
    "    'minutes_remaining',\n",
    "    'period',\n",
    "    'playoffs',\n",
    "    'shot_distance',\n",
    "]"
   ]
  },
  {
   "cell_type": "code",
   "execution_count": 6,
   "metadata": {},
   "outputs": [],
   "source": []
  },
  {
   "cell_type": "code",
   "execution_count": 7,
   "metadata": {},
   "outputs": [
    {
     "data": {
      "text/html": [
       "<pre style=\"white-space:pre;overflow-x:auto;line-height:normal;font-family:Menlo,'DejaVu Sans Mono',consolas,'Courier New',monospace\"></pre>\n"
      ],
      "text/plain": []
     },
     "metadata": {},
     "output_type": "display_data"
    },
    {
     "data": {
      "text/html": [
       "<div>\n",
       "<style scoped>\n",
       "    .dataframe tbody tr th:only-of-type {\n",
       "        vertical-align: middle;\n",
       "    }\n",
       "\n",
       "    .dataframe tbody tr th {\n",
       "        vertical-align: top;\n",
       "    }\n",
       "\n",
       "    .dataframe thead th {\n",
       "        text-align: right;\n",
       "    }\n",
       "</style>\n",
       "<table border=\"1\" class=\"dataframe\">\n",
       "  <thead>\n",
       "    <tr style=\"text-align: right;\">\n",
       "      <th></th>\n",
       "      <th>lat</th>\n",
       "      <th>lng</th>\n",
       "      <th>minutes_remaining</th>\n",
       "      <th>period</th>\n",
       "      <th>playoffs</th>\n",
       "      <th>shot_distance</th>\n",
       "    </tr>\n",
       "  </thead>\n",
       "  <tbody>\n",
       "    <tr>\n",
       "      <th>1</th>\n",
       "      <td>34.0443</td>\n",
       "      <td>-118.4268</td>\n",
       "      <td>10</td>\n",
       "      <td>1</td>\n",
       "      <td>0</td>\n",
       "      <td>15</td>\n",
       "    </tr>\n",
       "    <tr>\n",
       "      <th>2</th>\n",
       "      <td>33.9093</td>\n",
       "      <td>-118.3708</td>\n",
       "      <td>7</td>\n",
       "      <td>1</td>\n",
       "      <td>0</td>\n",
       "      <td>16</td>\n",
       "    </tr>\n",
       "    <tr>\n",
       "      <th>3</th>\n",
       "      <td>33.8693</td>\n",
       "      <td>-118.1318</td>\n",
       "      <td>6</td>\n",
       "      <td>1</td>\n",
       "      <td>0</td>\n",
       "      <td>22</td>\n",
       "    </tr>\n",
       "    <tr>\n",
       "      <th>4</th>\n",
       "      <td>34.0443</td>\n",
       "      <td>-118.2698</td>\n",
       "      <td>6</td>\n",
       "      <td>2</td>\n",
       "      <td>0</td>\n",
       "      <td>0</td>\n",
       "    </tr>\n",
       "    <tr>\n",
       "      <th>5</th>\n",
       "      <td>34.0553</td>\n",
       "      <td>-118.4148</td>\n",
       "      <td>9</td>\n",
       "      <td>3</td>\n",
       "      <td>0</td>\n",
       "      <td>14</td>\n",
       "    </tr>\n",
       "  </tbody>\n",
       "</table>\n",
       "</div>"
      ],
      "text/plain": [
       "\n",
       "       lat       lng  minutes_remaining  period  playoffs  shot_distance\n",
       "\u001b[1;36m1\u001b[0m  \u001b[1;36m34.0443\u001b[0m \u001b[1;36m-118.4268\u001b[0m                 \u001b[1;36m10\u001b[0m       \u001b[1;36m1\u001b[0m         \u001b[1;36m0\u001b[0m             \u001b[1;36m15\u001b[0m\n",
       "\u001b[1;36m2\u001b[0m  \u001b[1;36m33.9093\u001b[0m \u001b[1;36m-118.3708\u001b[0m                  \u001b[1;36m7\u001b[0m       \u001b[1;36m1\u001b[0m         \u001b[1;36m0\u001b[0m             \u001b[1;36m16\u001b[0m\n",
       "\u001b[1;36m3\u001b[0m  \u001b[1;36m33.8693\u001b[0m \u001b[1;36m-118.1318\u001b[0m                  \u001b[1;36m6\u001b[0m       \u001b[1;36m1\u001b[0m         \u001b[1;36m0\u001b[0m             \u001b[1;36m22\u001b[0m\n",
       "\u001b[1;36m4\u001b[0m  \u001b[1;36m34.0443\u001b[0m \u001b[1;36m-118.2698\u001b[0m                  \u001b[1;36m6\u001b[0m       \u001b[1;36m2\u001b[0m         \u001b[1;36m0\u001b[0m              \u001b[1;36m0\u001b[0m\n",
       "\u001b[1;36m5\u001b[0m  \u001b[1;36m34.0553\u001b[0m \u001b[1;36m-118.4148\u001b[0m                  \u001b[1;36m9\u001b[0m       \u001b[1;36m3\u001b[0m         \u001b[1;36m0\u001b[0m             \u001b[1;36m14\u001b[0m"
      ]
     },
     "execution_count": 7,
     "metadata": {},
     "output_type": "execute_result"
    }
   ],
   "source": []
  },
  {
   "cell_type": "code",
   "execution_count": 8,
   "metadata": {},
   "outputs": [
    {
     "data": {
      "text/html": [
       "<pre style=\"white-space:pre;overflow-x:auto;line-height:normal;font-family:Menlo,'DejaVu Sans Mono',consolas,'Courier New',monospace\"></pre>\n"
      ],
      "text/plain": []
     },
     "metadata": {},
     "output_type": "display_data"
    },
    {
     "data": {
      "text/plain": [
       "\n",
       "\u001b[1;36m1\u001b[0m    \u001b[1;36m0\u001b[0m\n",
       "\u001b[1;36m2\u001b[0m    \u001b[1;36m1\u001b[0m\n",
       "\u001b[1;36m3\u001b[0m    \u001b[1;36m0\u001b[0m\n",
       "\u001b[1;36m4\u001b[0m    \u001b[1;36m1\u001b[0m\n",
       "\u001b[1;36m5\u001b[0m    \u001b[1;36m0\u001b[0m\n",
       "Name: shot_made_flag, dtype: Int8"
      ]
     },
     "execution_count": 8,
     "metadata": {},
     "output_type": "execute_result"
    }
   ],
   "source": [
    "y.head()"
   ]
  }
 ],
 "metadata": {
  "kernelspec": {
   "display_name": ".venv",
   "language": "python",
   "name": "python3"
  },
  "language_info": {
   "codemirror_mode": {
    "name": "ipython",
    "version": 3
   },
   "file_extension": ".py",
   "mimetype": "text/x-python",
   "name": "python",
   "nbconvert_exporter": "python",
   "pygments_lexer": "ipython3",
   "version": "3.10.16"
  }
 },
 "nbformat": 4,
 "nbformat_minor": 2
}
