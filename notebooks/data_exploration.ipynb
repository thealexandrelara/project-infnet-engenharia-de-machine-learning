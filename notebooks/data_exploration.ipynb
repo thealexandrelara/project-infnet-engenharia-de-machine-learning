{
 "cells": [
  {
   "cell_type": "code",
   "execution_count": 1,
   "metadata": {},
   "outputs": [
    {
     "data": {
      "text/html": [
       "<pre style=\"white-space:pre;overflow-x:auto;line-height:normal;font-family:Menlo,'DejaVu Sans Mono',consolas,'Courier New',monospace\"><span style=\"color: #7fbfbf; text-decoration-color: #7fbfbf\">[04/03/25 20:43:31] </span><span style=\"color: #000080; text-decoration-color: #000080\">INFO    </span> Using                                                                  <a href=\"file:///Users/alexandrelara/Documents/storage/c/code/project-infnet-engenharia-de-machine-learning/.venv/lib/python3.13/site-packages/kedro/framework/project/__init__.py\" target=\"_blank\"><span style=\"color: #7f7f7f; text-decoration-color: #7f7f7f\">__init__.py</span></a><span style=\"color: #7f7f7f; text-decoration-color: #7f7f7f\">:</span><a href=\"file:///Users/alexandrelara/Documents/storage/c/code/project-infnet-engenharia-de-machine-learning/.venv/lib/python3.13/site-packages/kedro/framework/project/__init__.py#270\" target=\"_blank\"><span style=\"color: #7f7f7f; text-decoration-color: #7f7f7f\">270</span></a>\n",
       "<span style=\"color: #7fbfbf; text-decoration-color: #7fbfbf\">                    </span>         <span style=\"color: #008000; text-decoration-color: #008000\">'/Users/alexandrelara/Documents/storage/c/code/project-infnet-engenhar</span> <span style=\"color: #7f7f7f; text-decoration-color: #7f7f7f\">               </span>\n",
       "<span style=\"color: #7fbfbf; text-decoration-color: #7fbfbf\">                    </span>         <span style=\"color: #008000; text-decoration-color: #008000\">ia-de-machine-learning/.venv/lib/python3.13/site-packages/kedro/framew</span> <span style=\"color: #7f7f7f; text-decoration-color: #7f7f7f\">               </span>\n",
       "<span style=\"color: #7fbfbf; text-decoration-color: #7fbfbf\">                    </span>         <span style=\"color: #008000; text-decoration-color: #008000\">ork/project/rich_logging.yml'</span> as logging configuration.                <span style=\"color: #7f7f7f; text-decoration-color: #7f7f7f\">               </span>\n",
       "</pre>\n"
      ],
      "text/plain": [
       "\u001b[2;36m[04/03/25 20:43:31]\u001b[0m\u001b[2;36m \u001b[0m\u001b[34mINFO    \u001b[0m Using                                                                  \u001b]8;id=226611;file:///Users/alexandrelara/Documents/storage/c/code/project-infnet-engenharia-de-machine-learning/.venv/lib/python3.13/site-packages/kedro/framework/project/__init__.py\u001b\\\u001b[2m__init__.py\u001b[0m\u001b]8;;\u001b\\\u001b[2m:\u001b[0m\u001b]8;id=114039;file:///Users/alexandrelara/Documents/storage/c/code/project-infnet-engenharia-de-machine-learning/.venv/lib/python3.13/site-packages/kedro/framework/project/__init__.py#270\u001b\\\u001b[2m270\u001b[0m\u001b]8;;\u001b\\\n",
       "\u001b[2;36m                    \u001b[0m         \u001b[32m'/Users/alexandrelara/Documents/storage/c/code/project-infnet-engenhar\u001b[0m \u001b[2m               \u001b[0m\n",
       "\u001b[2;36m                    \u001b[0m         \u001b[32mia-de-machine-learning/.venv/lib/python3.13/site-packages/kedro/framew\u001b[0m \u001b[2m               \u001b[0m\n",
       "\u001b[2;36m                    \u001b[0m         \u001b[32mork/project/rich_logging.yml'\u001b[0m as logging configuration.                \u001b[2m               \u001b[0m\n"
      ]
     },
     "metadata": {},
     "output_type": "display_data"
    },
    {
     "data": {
      "text/html": [
       "<pre style=\"white-space:pre;overflow-x:auto;line-height:normal;font-family:Menlo,'DejaVu Sans Mono',consolas,'Courier New',monospace\"><span style=\"color: #7fbfbf; text-decoration-color: #7fbfbf\">                    </span><span style=\"color: #000080; text-decoration-color: #000080\">INFO    </span> Registered line magic <span style=\"color: #008000; text-decoration-color: #008000\">'%reload_kedro'</span>                                   <a href=\"file:///Users/alexandrelara/Documents/storage/c/code/project-infnet-engenharia-de-machine-learning/.venv/lib/python3.13/site-packages/kedro/ipython/__init__.py\" target=\"_blank\"><span style=\"color: #7f7f7f; text-decoration-color: #7f7f7f\">__init__.py</span></a><span style=\"color: #7f7f7f; text-decoration-color: #7f7f7f\">:</span><a href=\"file:///Users/alexandrelara/Documents/storage/c/code/project-infnet-engenharia-de-machine-learning/.venv/lib/python3.13/site-packages/kedro/ipython/__init__.py#63\" target=\"_blank\"><span style=\"color: #7f7f7f; text-decoration-color: #7f7f7f\">63</span></a>\n",
       "</pre>\n"
      ],
      "text/plain": [
       "\u001b[2;36m                   \u001b[0m\u001b[2;36m \u001b[0m\u001b[34mINFO    \u001b[0m Registered line magic \u001b[32m'%reload_kedro'\u001b[0m                                   \u001b]8;id=601993;file:///Users/alexandrelara/Documents/storage/c/code/project-infnet-engenharia-de-machine-learning/.venv/lib/python3.13/site-packages/kedro/ipython/__init__.py\u001b\\\u001b[2m__init__.py\u001b[0m\u001b]8;;\u001b\\\u001b[2m:\u001b[0m\u001b]8;id=443287;file:///Users/alexandrelara/Documents/storage/c/code/project-infnet-engenharia-de-machine-learning/.venv/lib/python3.13/site-packages/kedro/ipython/__init__.py#63\u001b\\\u001b[2m63\u001b[0m\u001b]8;;\u001b\\\n"
      ]
     },
     "metadata": {},
     "output_type": "display_data"
    },
    {
     "data": {
      "text/html": [
       "<pre style=\"white-space:pre;overflow-x:auto;line-height:normal;font-family:Menlo,'DejaVu Sans Mono',consolas,'Courier New',monospace\"><span style=\"color: #7fbfbf; text-decoration-color: #7fbfbf\">                    </span><span style=\"color: #000080; text-decoration-color: #000080\">INFO    </span> Registered line magic <span style=\"color: #008000; text-decoration-color: #008000\">'%load_node'</span>                                      <a href=\"file:///Users/alexandrelara/Documents/storage/c/code/project-infnet-engenharia-de-machine-learning/.venv/lib/python3.13/site-packages/kedro/ipython/__init__.py\" target=\"_blank\"><span style=\"color: #7f7f7f; text-decoration-color: #7f7f7f\">__init__.py</span></a><span style=\"color: #7f7f7f; text-decoration-color: #7f7f7f\">:</span><a href=\"file:///Users/alexandrelara/Documents/storage/c/code/project-infnet-engenharia-de-machine-learning/.venv/lib/python3.13/site-packages/kedro/ipython/__init__.py#65\" target=\"_blank\"><span style=\"color: #7f7f7f; text-decoration-color: #7f7f7f\">65</span></a>\n",
       "</pre>\n"
      ],
      "text/plain": [
       "\u001b[2;36m                   \u001b[0m\u001b[2;36m \u001b[0m\u001b[34mINFO    \u001b[0m Registered line magic \u001b[32m'%load_node'\u001b[0m                                      \u001b]8;id=650084;file:///Users/alexandrelara/Documents/storage/c/code/project-infnet-engenharia-de-machine-learning/.venv/lib/python3.13/site-packages/kedro/ipython/__init__.py\u001b\\\u001b[2m__init__.py\u001b[0m\u001b]8;;\u001b\\\u001b[2m:\u001b[0m\u001b]8;id=440189;file:///Users/alexandrelara/Documents/storage/c/code/project-infnet-engenharia-de-machine-learning/.venv/lib/python3.13/site-packages/kedro/ipython/__init__.py#65\u001b\\\u001b[2m65\u001b[0m\u001b]8;;\u001b\\\n"
      ]
     },
     "metadata": {},
     "output_type": "display_data"
    },
    {
     "data": {
      "text/html": [
       "<pre style=\"white-space:pre;overflow-x:auto;line-height:normal;font-family:Menlo,'DejaVu Sans Mono',consolas,'Courier New',monospace\"><span style=\"color: #7fbfbf; text-decoration-color: #7fbfbf\">                    </span><span style=\"color: #000080; text-decoration-color: #000080\">INFO    </span> Resolved project path as:                                              <a href=\"file:///Users/alexandrelara/Documents/storage/c/code/project-infnet-engenharia-de-machine-learning/.venv/lib/python3.13/site-packages/kedro/ipython/__init__.py\" target=\"_blank\"><span style=\"color: #7f7f7f; text-decoration-color: #7f7f7f\">__init__.py</span></a><span style=\"color: #7f7f7f; text-decoration-color: #7f7f7f\">:</span><a href=\"file:///Users/alexandrelara/Documents/storage/c/code/project-infnet-engenharia-de-machine-learning/.venv/lib/python3.13/site-packages/kedro/ipython/__init__.py#180\" target=\"_blank\"><span style=\"color: #7f7f7f; text-decoration-color: #7f7f7f\">180</span></a>\n",
       "<span style=\"color: #7fbfbf; text-decoration-color: #7fbfbf\">                    </span>         <span style=\"color: #800080; text-decoration-color: #800080\">/Users/alexandrelara/Documents/storage/c/code/</span><span style=\"color: #ff00ff; text-decoration-color: #ff00ff\">project-infnet-engenhari</span> <span style=\"color: #7f7f7f; text-decoration-color: #7f7f7f\">               </span>\n",
       "<span style=\"color: #7fbfbf; text-decoration-color: #7fbfbf\">                    </span>         <span style=\"color: #ff00ff; text-decoration-color: #ff00ff\">a-de-machine-learning.</span>                                                 <span style=\"color: #7f7f7f; text-decoration-color: #7f7f7f\">               </span>\n",
       "<span style=\"color: #7fbfbf; text-decoration-color: #7fbfbf\">                    </span>         To set a different path, run <span style=\"color: #008000; text-decoration-color: #008000\">'%reload_kedro &lt;project_root&gt;'</span>            <span style=\"color: #7f7f7f; text-decoration-color: #7f7f7f\">               </span>\n",
       "</pre>\n"
      ],
      "text/plain": [
       "\u001b[2;36m                   \u001b[0m\u001b[2;36m \u001b[0m\u001b[34mINFO    \u001b[0m Resolved project path as:                                              \u001b]8;id=175213;file:///Users/alexandrelara/Documents/storage/c/code/project-infnet-engenharia-de-machine-learning/.venv/lib/python3.13/site-packages/kedro/ipython/__init__.py\u001b\\\u001b[2m__init__.py\u001b[0m\u001b]8;;\u001b\\\u001b[2m:\u001b[0m\u001b]8;id=326572;file:///Users/alexandrelara/Documents/storage/c/code/project-infnet-engenharia-de-machine-learning/.venv/lib/python3.13/site-packages/kedro/ipython/__init__.py#180\u001b\\\u001b[2m180\u001b[0m\u001b]8;;\u001b\\\n",
       "\u001b[2;36m                    \u001b[0m         \u001b[35m/Users/alexandrelara/Documents/storage/c/code/\u001b[0m\u001b[95mproject-infnet-engenhari\u001b[0m \u001b[2m               \u001b[0m\n",
       "\u001b[2;36m                    \u001b[0m         \u001b[95ma-de-machine-learning.\u001b[0m                                                 \u001b[2m               \u001b[0m\n",
       "\u001b[2;36m                    \u001b[0m         To set a different path, run \u001b[32m'%reload_kedro \u001b[0m\u001b[32m<\u001b[0m\u001b[32mproject_root\u001b[0m\u001b[32m>\u001b[0m\u001b[32m'\u001b[0m            \u001b[2m               \u001b[0m\n"
      ]
     },
     "metadata": {},
     "output_type": "display_data"
    },
    {
     "data": {
      "text/html": [
       "<pre style=\"white-space:pre;overflow-x:auto;line-height:normal;font-family:Menlo,'DejaVu Sans Mono',consolas,'Courier New',monospace\"><span style=\"color: #7fbfbf; text-decoration-color: #7fbfbf\">                    </span><span style=\"color: #808000; text-decoration-color: #808000\">WARNING </span> <span style=\"color: #800080; text-decoration-color: #800080\">/Users/alexandrelara/Documents/storage/c/code/project-infnet-engenhari</span> <a href=\"file:///Users/alexandrelara/.local/share/uv/python/cpython-3.13.0-macos-aarch64-none/lib/python3.13/warnings.py\" target=\"_blank\"><span style=\"color: #7f7f7f; text-decoration-color: #7f7f7f\">warnings.py</span></a><span style=\"color: #7f7f7f; text-decoration-color: #7f7f7f\">:</span><a href=\"file:///Users/alexandrelara/.local/share/uv/python/cpython-3.13.0-macos-aarch64-none/lib/python3.13/warnings.py#110\" target=\"_blank\"><span style=\"color: #7f7f7f; text-decoration-color: #7f7f7f\">110</span></a>\n",
       "<span style=\"color: #7fbfbf; text-decoration-color: #7fbfbf\">                    </span>         <span style=\"color: #800080; text-decoration-color: #800080\">a-de-machine-learning/.venv/lib/python3.13/site-packages/kedro/io/</span><span style=\"color: #ff00ff; text-decoration-color: #ff00ff\">data</span> <span style=\"color: #7f7f7f; text-decoration-color: #7f7f7f\">               </span>\n",
       "<span style=\"color: #7fbfbf; text-decoration-color: #7fbfbf\">                    </span>         <span style=\"color: #ff00ff; text-decoration-color: #ff00ff\">_catalog.py</span>:<span style=\"color: #008080; text-decoration-color: #008080; font-weight: bold\">165</span>: KedroDeprecationWarning: `DataCatalog` has been       <span style=\"color: #7f7f7f; text-decoration-color: #7f7f7f\">               </span>\n",
       "<span style=\"color: #7fbfbf; text-decoration-color: #7fbfbf\">                    </span>         deprecated and will be replaced by `KedroDataCatalog`, in Kedro        <span style=\"color: #7f7f7f; text-decoration-color: #7f7f7f\">               </span>\n",
       "<span style=\"color: #7fbfbf; text-decoration-color: #7fbfbf\">                    </span>         <span style=\"color: #008080; text-decoration-color: #008080; font-weight: bold\">1.0</span>.<span style=\"color: #008080; text-decoration-color: #008080; font-weight: bold\">0.</span>Currently some `KedroDataCatalog` APIs have been retained for    <span style=\"color: #7f7f7f; text-decoration-color: #7f7f7f\">               </span>\n",
       "<span style=\"color: #7fbfbf; text-decoration-color: #7fbfbf\">                    </span>         compatibility with `DataCatalog`, including the `datasets` property    <span style=\"color: #7f7f7f; text-decoration-color: #7f7f7f\">               </span>\n",
       "<span style=\"color: #7fbfbf; text-decoration-color: #7fbfbf\">                    </span>         and the `get_datasets`, `_get_datasets`, `add`,` list`,                <span style=\"color: #7f7f7f; text-decoration-color: #7f7f7f\">               </span>\n",
       "<span style=\"color: #7fbfbf; text-decoration-color: #7fbfbf\">                    </span>         `add_feed_dict`, and `shallow_copy` methods. These will be removed or  <span style=\"color: #7f7f7f; text-decoration-color: #7f7f7f\">               </span>\n",
       "<span style=\"color: #7fbfbf; text-decoration-color: #7fbfbf\">                    </span>         replaced with updated alternatives in Kedro <span style=\"color: #008080; text-decoration-color: #008080; font-weight: bold\">1.0</span>.<span style=\"color: #008080; text-decoration-color: #008080; font-weight: bold\">0</span>. For more details,   <span style=\"color: #7f7f7f; text-decoration-color: #7f7f7f\">               </span>\n",
       "<span style=\"color: #7fbfbf; text-decoration-color: #7fbfbf\">                    </span>         refer to the documentation:                                            <span style=\"color: #7f7f7f; text-decoration-color: #7f7f7f\">               </span>\n",
       "<span style=\"color: #7fbfbf; text-decoration-color: #7fbfbf\">                    </span>         <span style=\"color: #0000ff; text-decoration-color: #0000ff; text-decoration: underline\">https://docs.kedro.org/en/stable/data/index.html#kedrodatacatalog-expe</span> <span style=\"color: #7f7f7f; text-decoration-color: #7f7f7f\">               </span>\n",
       "<span style=\"color: #7fbfbf; text-decoration-color: #7fbfbf\">                    </span>         <span style=\"color: #0000ff; text-decoration-color: #0000ff; text-decoration: underline\">rimental-feature</span>                                                       <span style=\"color: #7f7f7f; text-decoration-color: #7f7f7f\">               </span>\n",
       "<span style=\"color: #7fbfbf; text-decoration-color: #7fbfbf\">                    </span>           <span style=\"color: #800080; text-decoration-color: #800080; font-weight: bold\">warnings.warn</span><span style=\"font-weight: bold\">(</span>                                                       <span style=\"color: #7f7f7f; text-decoration-color: #7f7f7f\">               </span>\n",
       "<span style=\"color: #7fbfbf; text-decoration-color: #7fbfbf\">                    </span>                                                                                <span style=\"color: #7f7f7f; text-decoration-color: #7f7f7f\">               </span>\n",
       "</pre>\n"
      ],
      "text/plain": [
       "\u001b[2;36m                   \u001b[0m\u001b[2;36m \u001b[0m\u001b[33mWARNING \u001b[0m \u001b[35m/Users/alexandrelara/Documents/storage/c/code/project-infnet-engenhari\u001b[0m \u001b]8;id=961136;file:///Users/alexandrelara/.local/share/uv/python/cpython-3.13.0-macos-aarch64-none/lib/python3.13/warnings.py\u001b\\\u001b[2mwarnings.py\u001b[0m\u001b]8;;\u001b\\\u001b[2m:\u001b[0m\u001b]8;id=332368;file:///Users/alexandrelara/.local/share/uv/python/cpython-3.13.0-macos-aarch64-none/lib/python3.13/warnings.py#110\u001b\\\u001b[2m110\u001b[0m\u001b]8;;\u001b\\\n",
       "\u001b[2;36m                    \u001b[0m         \u001b[35ma-de-machine-learning/.venv/lib/python3.13/site-packages/kedro/io/\u001b[0m\u001b[95mdata\u001b[0m \u001b[2m               \u001b[0m\n",
       "\u001b[2;36m                    \u001b[0m         \u001b[95m_catalog.py\u001b[0m:\u001b[1;36m165\u001b[0m: KedroDeprecationWarning: `DataCatalog` has been       \u001b[2m               \u001b[0m\n",
       "\u001b[2;36m                    \u001b[0m         deprecated and will be replaced by `KedroDataCatalog`, in Kedro        \u001b[2m               \u001b[0m\n",
       "\u001b[2;36m                    \u001b[0m         \u001b[1;36m1.0\u001b[0m.\u001b[1;36m0.\u001b[0mCurrently some `KedroDataCatalog` APIs have been retained for    \u001b[2m               \u001b[0m\n",
       "\u001b[2;36m                    \u001b[0m         compatibility with `DataCatalog`, including the `datasets` property    \u001b[2m               \u001b[0m\n",
       "\u001b[2;36m                    \u001b[0m         and the `get_datasets`, `_get_datasets`, `add`,` list`,                \u001b[2m               \u001b[0m\n",
       "\u001b[2;36m                    \u001b[0m         `add_feed_dict`, and `shallow_copy` methods. These will be removed or  \u001b[2m               \u001b[0m\n",
       "\u001b[2;36m                    \u001b[0m         replaced with updated alternatives in Kedro \u001b[1;36m1.0\u001b[0m.\u001b[1;36m0\u001b[0m. For more details,   \u001b[2m               \u001b[0m\n",
       "\u001b[2;36m                    \u001b[0m         refer to the documentation:                                            \u001b[2m               \u001b[0m\n",
       "\u001b[2;36m                    \u001b[0m         \u001b[4;94mhttps://docs.kedro.org/en/stable/data/index.html#kedrodatacatalog-expe\u001b[0m \u001b[2m               \u001b[0m\n",
       "\u001b[2;36m                    \u001b[0m         \u001b[4;94mrimental-feature\u001b[0m                                                       \u001b[2m               \u001b[0m\n",
       "\u001b[2;36m                    \u001b[0m           \u001b[1;35mwarnings.warn\u001b[0m\u001b[1m(\u001b[0m                                                       \u001b[2m               \u001b[0m\n",
       "\u001b[2;36m                    \u001b[0m                                                                                \u001b[2m               \u001b[0m\n"
      ]
     },
     "metadata": {},
     "output_type": "display_data"
    },
    {
     "data": {
      "text/html": [
       "<pre style=\"white-space:pre;overflow-x:auto;line-height:normal;font-family:Menlo,'DejaVu Sans Mono',consolas,'Courier New',monospace\"><span style=\"color: #7fbfbf; text-decoration-color: #7fbfbf\">[04/03/25 20:43:32] </span><span style=\"color: #808000; text-decoration-color: #808000\">WARNING </span> <span style=\"color: #800080; text-decoration-color: #800080\">/Users/alexandrelara/Documents/storage/c/code/project-infnet-engenhari</span> <a href=\"file:///Users/alexandrelara/.local/share/uv/python/cpython-3.13.0-macos-aarch64-none/lib/python3.13/warnings.py\" target=\"_blank\"><span style=\"color: #7f7f7f; text-decoration-color: #7f7f7f\">warnings.py</span></a><span style=\"color: #7f7f7f; text-decoration-color: #7f7f7f\">:</span><a href=\"file:///Users/alexandrelara/.local/share/uv/python/cpython-3.13.0-macos-aarch64-none/lib/python3.13/warnings.py#110\" target=\"_blank\"><span style=\"color: #7f7f7f; text-decoration-color: #7f7f7f\">110</span></a>\n",
       "<span style=\"color: #7fbfbf; text-decoration-color: #7fbfbf\">                    </span>         <span style=\"color: #800080; text-decoration-color: #800080\">a-de-machine-learning/.venv/lib/python3.13/site-packages/kedro/io/</span><span style=\"color: #ff00ff; text-decoration-color: #ff00ff\">data</span> <span style=\"color: #7f7f7f; text-decoration-color: #7f7f7f\">               </span>\n",
       "<span style=\"color: #7fbfbf; text-decoration-color: #7fbfbf\">                    </span>         <span style=\"color: #ff00ff; text-decoration-color: #ff00ff\">_catalog.py</span>:<span style=\"color: #008080; text-decoration-color: #008080; font-weight: bold\">165</span>: KedroDeprecationWarning: `DataCatalog` has been       <span style=\"color: #7f7f7f; text-decoration-color: #7f7f7f\">               </span>\n",
       "<span style=\"color: #7fbfbf; text-decoration-color: #7fbfbf\">                    </span>         deprecated and will be replaced by `KedroDataCatalog`, in Kedro        <span style=\"color: #7f7f7f; text-decoration-color: #7f7f7f\">               </span>\n",
       "<span style=\"color: #7fbfbf; text-decoration-color: #7fbfbf\">                    </span>         <span style=\"color: #008080; text-decoration-color: #008080; font-weight: bold\">1.0</span>.<span style=\"color: #008080; text-decoration-color: #008080; font-weight: bold\">0.</span>Currently some `KedroDataCatalog` APIs have been retained for    <span style=\"color: #7f7f7f; text-decoration-color: #7f7f7f\">               </span>\n",
       "<span style=\"color: #7fbfbf; text-decoration-color: #7fbfbf\">                    </span>         compatibility with `DataCatalog`, including the `datasets` property    <span style=\"color: #7f7f7f; text-decoration-color: #7f7f7f\">               </span>\n",
       "<span style=\"color: #7fbfbf; text-decoration-color: #7fbfbf\">                    </span>         and the `get_datasets`, `_get_datasets`, `add`,` list`,                <span style=\"color: #7f7f7f; text-decoration-color: #7f7f7f\">               </span>\n",
       "<span style=\"color: #7fbfbf; text-decoration-color: #7fbfbf\">                    </span>         `add_feed_dict`, and `shallow_copy` methods. These will be removed or  <span style=\"color: #7f7f7f; text-decoration-color: #7f7f7f\">               </span>\n",
       "<span style=\"color: #7fbfbf; text-decoration-color: #7fbfbf\">                    </span>         replaced with updated alternatives in Kedro <span style=\"color: #008080; text-decoration-color: #008080; font-weight: bold\">1.0</span>.<span style=\"color: #008080; text-decoration-color: #008080; font-weight: bold\">0</span>. For more details,   <span style=\"color: #7f7f7f; text-decoration-color: #7f7f7f\">               </span>\n",
       "<span style=\"color: #7fbfbf; text-decoration-color: #7fbfbf\">                    </span>         refer to the documentation:                                            <span style=\"color: #7f7f7f; text-decoration-color: #7f7f7f\">               </span>\n",
       "<span style=\"color: #7fbfbf; text-decoration-color: #7fbfbf\">                    </span>         <span style=\"color: #0000ff; text-decoration-color: #0000ff; text-decoration: underline\">https://docs.kedro.org/en/stable/data/index.html#kedrodatacatalog-expe</span> <span style=\"color: #7f7f7f; text-decoration-color: #7f7f7f\">               </span>\n",
       "<span style=\"color: #7fbfbf; text-decoration-color: #7fbfbf\">                    </span>         <span style=\"color: #0000ff; text-decoration-color: #0000ff; text-decoration: underline\">rimental-feature</span>                                                       <span style=\"color: #7f7f7f; text-decoration-color: #7f7f7f\">               </span>\n",
       "<span style=\"color: #7fbfbf; text-decoration-color: #7fbfbf\">                    </span>           <span style=\"color: #800080; text-decoration-color: #800080; font-weight: bold\">warnings.warn</span><span style=\"font-weight: bold\">(</span>                                                       <span style=\"color: #7f7f7f; text-decoration-color: #7f7f7f\">               </span>\n",
       "<span style=\"color: #7fbfbf; text-decoration-color: #7fbfbf\">                    </span>                                                                                <span style=\"color: #7f7f7f; text-decoration-color: #7f7f7f\">               </span>\n",
       "</pre>\n"
      ],
      "text/plain": [
       "\u001b[2;36m[04/03/25 20:43:32]\u001b[0m\u001b[2;36m \u001b[0m\u001b[33mWARNING \u001b[0m \u001b[35m/Users/alexandrelara/Documents/storage/c/code/project-infnet-engenhari\u001b[0m \u001b]8;id=279552;file:///Users/alexandrelara/.local/share/uv/python/cpython-3.13.0-macos-aarch64-none/lib/python3.13/warnings.py\u001b\\\u001b[2mwarnings.py\u001b[0m\u001b]8;;\u001b\\\u001b[2m:\u001b[0m\u001b]8;id=290677;file:///Users/alexandrelara/.local/share/uv/python/cpython-3.13.0-macos-aarch64-none/lib/python3.13/warnings.py#110\u001b\\\u001b[2m110\u001b[0m\u001b]8;;\u001b\\\n",
       "\u001b[2;36m                    \u001b[0m         \u001b[35ma-de-machine-learning/.venv/lib/python3.13/site-packages/kedro/io/\u001b[0m\u001b[95mdata\u001b[0m \u001b[2m               \u001b[0m\n",
       "\u001b[2;36m                    \u001b[0m         \u001b[95m_catalog.py\u001b[0m:\u001b[1;36m165\u001b[0m: KedroDeprecationWarning: `DataCatalog` has been       \u001b[2m               \u001b[0m\n",
       "\u001b[2;36m                    \u001b[0m         deprecated and will be replaced by `KedroDataCatalog`, in Kedro        \u001b[2m               \u001b[0m\n",
       "\u001b[2;36m                    \u001b[0m         \u001b[1;36m1.0\u001b[0m.\u001b[1;36m0.\u001b[0mCurrently some `KedroDataCatalog` APIs have been retained for    \u001b[2m               \u001b[0m\n",
       "\u001b[2;36m                    \u001b[0m         compatibility with `DataCatalog`, including the `datasets` property    \u001b[2m               \u001b[0m\n",
       "\u001b[2;36m                    \u001b[0m         and the `get_datasets`, `_get_datasets`, `add`,` list`,                \u001b[2m               \u001b[0m\n",
       "\u001b[2;36m                    \u001b[0m         `add_feed_dict`, and `shallow_copy` methods. These will be removed or  \u001b[2m               \u001b[0m\n",
       "\u001b[2;36m                    \u001b[0m         replaced with updated alternatives in Kedro \u001b[1;36m1.0\u001b[0m.\u001b[1;36m0\u001b[0m. For more details,   \u001b[2m               \u001b[0m\n",
       "\u001b[2;36m                    \u001b[0m         refer to the documentation:                                            \u001b[2m               \u001b[0m\n",
       "\u001b[2;36m                    \u001b[0m         \u001b[4;94mhttps://docs.kedro.org/en/stable/data/index.html#kedrodatacatalog-expe\u001b[0m \u001b[2m               \u001b[0m\n",
       "\u001b[2;36m                    \u001b[0m         \u001b[4;94mrimental-feature\u001b[0m                                                       \u001b[2m               \u001b[0m\n",
       "\u001b[2;36m                    \u001b[0m           \u001b[1;35mwarnings.warn\u001b[0m\u001b[1m(\u001b[0m                                                       \u001b[2m               \u001b[0m\n",
       "\u001b[2;36m                    \u001b[0m                                                                                \u001b[2m               \u001b[0m\n"
      ]
     },
     "metadata": {},
     "output_type": "display_data"
    },
    {
     "data": {
      "text/html": [
       "<pre style=\"white-space:pre;overflow-x:auto;line-height:normal;font-family:Menlo,'DejaVu Sans Mono',consolas,'Courier New',monospace\"><span style=\"color: #7fbfbf; text-decoration-color: #7fbfbf\">                    </span><span style=\"color: #000080; text-decoration-color: #000080\">INFO    </span> Kedro project project-infnet-engenharia-de-machine-learning            <a href=\"file:///Users/alexandrelara/Documents/storage/c/code/project-infnet-engenharia-de-machine-learning/.venv/lib/python3.13/site-packages/kedro/ipython/__init__.py\" target=\"_blank\"><span style=\"color: #7f7f7f; text-decoration-color: #7f7f7f\">__init__.py</span></a><span style=\"color: #7f7f7f; text-decoration-color: #7f7f7f\">:</span><a href=\"file:///Users/alexandrelara/Documents/storage/c/code/project-infnet-engenharia-de-machine-learning/.venv/lib/python3.13/site-packages/kedro/ipython/__init__.py#146\" target=\"_blank\"><span style=\"color: #7f7f7f; text-decoration-color: #7f7f7f\">146</span></a>\n",
       "</pre>\n"
      ],
      "text/plain": [
       "\u001b[2;36m                   \u001b[0m\u001b[2;36m \u001b[0m\u001b[34mINFO    \u001b[0m Kedro project project-infnet-engenharia-de-machine-learning            \u001b]8;id=378806;file:///Users/alexandrelara/Documents/storage/c/code/project-infnet-engenharia-de-machine-learning/.venv/lib/python3.13/site-packages/kedro/ipython/__init__.py\u001b\\\u001b[2m__init__.py\u001b[0m\u001b]8;;\u001b\\\u001b[2m:\u001b[0m\u001b]8;id=272989;file:///Users/alexandrelara/Documents/storage/c/code/project-infnet-engenharia-de-machine-learning/.venv/lib/python3.13/site-packages/kedro/ipython/__init__.py#146\u001b\\\u001b[2m146\u001b[0m\u001b]8;;\u001b\\\n"
      ]
     },
     "metadata": {},
     "output_type": "display_data"
    },
    {
     "data": {
      "text/html": [
       "<pre style=\"white-space:pre;overflow-x:auto;line-height:normal;font-family:Menlo,'DejaVu Sans Mono',consolas,'Courier New',monospace\"><span style=\"color: #7fbfbf; text-decoration-color: #7fbfbf\">                    </span><span style=\"color: #000080; text-decoration-color: #000080\">INFO    </span> Defined global variable <span style=\"color: #008000; text-decoration-color: #008000\">'context'</span>, <span style=\"color: #008000; text-decoration-color: #008000\">'session'</span>, <span style=\"color: #008000; text-decoration-color: #008000\">'catalog'</span> and            <a href=\"file:///Users/alexandrelara/Documents/storage/c/code/project-infnet-engenharia-de-machine-learning/.venv/lib/python3.13/site-packages/kedro/ipython/__init__.py\" target=\"_blank\"><span style=\"color: #7f7f7f; text-decoration-color: #7f7f7f\">__init__.py</span></a><span style=\"color: #7f7f7f; text-decoration-color: #7f7f7f\">:</span><a href=\"file:///Users/alexandrelara/Documents/storage/c/code/project-infnet-engenharia-de-machine-learning/.venv/lib/python3.13/site-packages/kedro/ipython/__init__.py#147\" target=\"_blank\"><span style=\"color: #7f7f7f; text-decoration-color: #7f7f7f\">147</span></a>\n",
       "<span style=\"color: #7fbfbf; text-decoration-color: #7fbfbf\">                    </span>         <span style=\"color: #008000; text-decoration-color: #008000\">'pipelines'</span>                                                            <span style=\"color: #7f7f7f; text-decoration-color: #7f7f7f\">               </span>\n",
       "</pre>\n"
      ],
      "text/plain": [
       "\u001b[2;36m                   \u001b[0m\u001b[2;36m \u001b[0m\u001b[34mINFO    \u001b[0m Defined global variable \u001b[32m'context'\u001b[0m, \u001b[32m'session'\u001b[0m, \u001b[32m'catalog'\u001b[0m and            \u001b]8;id=356403;file:///Users/alexandrelara/Documents/storage/c/code/project-infnet-engenharia-de-machine-learning/.venv/lib/python3.13/site-packages/kedro/ipython/__init__.py\u001b\\\u001b[2m__init__.py\u001b[0m\u001b]8;;\u001b\\\u001b[2m:\u001b[0m\u001b]8;id=287112;file:///Users/alexandrelara/Documents/storage/c/code/project-infnet-engenharia-de-machine-learning/.venv/lib/python3.13/site-packages/kedro/ipython/__init__.py#147\u001b\\\u001b[2m147\u001b[0m\u001b]8;;\u001b\\\n",
       "\u001b[2;36m                    \u001b[0m         \u001b[32m'pipelines'\u001b[0m                                                            \u001b[2m               \u001b[0m\n"
      ]
     },
     "metadata": {},
     "output_type": "display_data"
    },
    {
     "data": {
      "text/html": [
       "<pre style=\"white-space:pre;overflow-x:auto;line-height:normal;font-family:Menlo,'DejaVu Sans Mono',consolas,'Courier New',monospace\"><span style=\"color: #7fbfbf; text-decoration-color: #7fbfbf\">                    </span><span style=\"color: #000080; text-decoration-color: #000080\">INFO    </span> Registered line magic <span style=\"color: #008000; text-decoration-color: #008000\">'run_viz'</span>                                        <a href=\"file:///Users/alexandrelara/Documents/storage/c/code/project-infnet-engenharia-de-machine-learning/.venv/lib/python3.13/site-packages/kedro/ipython/__init__.py\" target=\"_blank\"><span style=\"color: #7f7f7f; text-decoration-color: #7f7f7f\">__init__.py</span></a><span style=\"color: #7f7f7f; text-decoration-color: #7f7f7f\">:</span><a href=\"file:///Users/alexandrelara/Documents/storage/c/code/project-infnet-engenharia-de-machine-learning/.venv/lib/python3.13/site-packages/kedro/ipython/__init__.py#153\" target=\"_blank\"><span style=\"color: #7f7f7f; text-decoration-color: #7f7f7f\">153</span></a>\n",
       "</pre>\n"
      ],
      "text/plain": [
       "\u001b[2;36m                   \u001b[0m\u001b[2;36m \u001b[0m\u001b[34mINFO    \u001b[0m Registered line magic \u001b[32m'run_viz'\u001b[0m                                        \u001b]8;id=444536;file:///Users/alexandrelara/Documents/storage/c/code/project-infnet-engenharia-de-machine-learning/.venv/lib/python3.13/site-packages/kedro/ipython/__init__.py\u001b\\\u001b[2m__init__.py\u001b[0m\u001b]8;;\u001b\\\u001b[2m:\u001b[0m\u001b]8;id=798254;file:///Users/alexandrelara/Documents/storage/c/code/project-infnet-engenharia-de-machine-learning/.venv/lib/python3.13/site-packages/kedro/ipython/__init__.py#153\u001b\\\u001b[2m153\u001b[0m\u001b]8;;\u001b\\\n"
      ]
     },
     "metadata": {},
     "output_type": "display_data"
    }
   ],
   "source": [
    "%load_ext kedro.ipython"
   ]
  },
  {
   "cell_type": "code",
   "execution_count": 11,
   "metadata": {},
   "outputs": [
    {
     "data": {
      "text/html": [
       "<pre style=\"white-space:pre;overflow-x:auto;line-height:normal;font-family:Menlo,'DejaVu Sans Mono',consolas,'Courier New',monospace\"><span style=\"color: #7fbfbf; text-decoration-color: #7fbfbf\">[04/03/25 21:01:58] </span><span style=\"color: #000080; text-decoration-color: #000080\">INFO    </span> Loading data from <span style=\"color: #ff8700; text-decoration-color: #ff8700\">dataset_kobe_dev</span> <span style=\"font-weight: bold\">(</span>ParquetDataset<span style=\"font-weight: bold\">)</span><span style=\"color: #808000; text-decoration-color: #808000\">...</span>             <a href=\"file:///Users/alexandrelara/Documents/storage/c/code/project-infnet-engenharia-de-machine-learning/.venv/lib/python3.13/site-packages/kedro/io/data_catalog.py\" target=\"_blank\"><span style=\"color: #7f7f7f; text-decoration-color: #7f7f7f\">data_catalog.py</span></a><span style=\"color: #7f7f7f; text-decoration-color: #7f7f7f\">:</span><a href=\"file:///Users/alexandrelara/Documents/storage/c/code/project-infnet-engenharia-de-machine-learning/.venv/lib/python3.13/site-packages/kedro/io/data_catalog.py#401\" target=\"_blank\"><span style=\"color: #7f7f7f; text-decoration-color: #7f7f7f\">401</span></a>\n",
       "</pre>\n"
      ],
      "text/plain": [
       "\u001b[2;36m[04/03/25 21:01:58]\u001b[0m\u001b[2;36m \u001b[0m\u001b[34mINFO    \u001b[0m Loading data from \u001b[38;5;208mdataset_kobe_dev\u001b[0m \u001b[1m(\u001b[0mParquetDataset\u001b[1m)\u001b[0m\u001b[33m...\u001b[0m             \u001b]8;id=255314;file:///Users/alexandrelara/Documents/storage/c/code/project-infnet-engenharia-de-machine-learning/.venv/lib/python3.13/site-packages/kedro/io/data_catalog.py\u001b\\\u001b[2mdata_catalog.py\u001b[0m\u001b]8;;\u001b\\\u001b[2m:\u001b[0m\u001b]8;id=982193;file:///Users/alexandrelara/Documents/storage/c/code/project-infnet-engenharia-de-machine-learning/.venv/lib/python3.13/site-packages/kedro/io/data_catalog.py#401\u001b\\\u001b[2m401\u001b[0m\u001b]8;;\u001b\\\n"
      ]
     },
     "metadata": {},
     "output_type": "display_data"
    },
    {
     "data": {
      "text/html": [
       "<pre style=\"white-space:pre;overflow-x:auto;line-height:normal;font-family:Menlo,'DejaVu Sans Mono',consolas,'Courier New',monospace\"></pre>\n"
      ],
      "text/plain": []
     },
     "metadata": {},
     "output_type": "display_data"
    },
    {
     "data": {
      "text/html": [
       "<div>\n",
       "<style scoped>\n",
       "    .dataframe tbody tr th:only-of-type {\n",
       "        vertical-align: middle;\n",
       "    }\n",
       "\n",
       "    .dataframe tbody tr th {\n",
       "        vertical-align: top;\n",
       "    }\n",
       "\n",
       "    .dataframe thead th {\n",
       "        text-align: right;\n",
       "    }\n",
       "</style>\n",
       "<table border=\"1\" class=\"dataframe\">\n",
       "  <thead>\n",
       "    <tr style=\"text-align: right;\">\n",
       "      <th></th>\n",
       "      <th>action_type</th>\n",
       "      <th>combined_shot_type</th>\n",
       "      <th>game_event_id</th>\n",
       "      <th>game_id</th>\n",
       "      <th>lat</th>\n",
       "      <th>loc_x</th>\n",
       "      <th>loc_y</th>\n",
       "      <th>lon</th>\n",
       "      <th>minutes_remaining</th>\n",
       "      <th>period</th>\n",
       "      <th>...</th>\n",
       "      <th>shot_type</th>\n",
       "      <th>shot_zone_area</th>\n",
       "      <th>shot_zone_basic</th>\n",
       "      <th>shot_zone_range</th>\n",
       "      <th>team_id</th>\n",
       "      <th>team_name</th>\n",
       "      <th>game_date</th>\n",
       "      <th>matchup</th>\n",
       "      <th>opponent</th>\n",
       "      <th>shot_id</th>\n",
       "    </tr>\n",
       "  </thead>\n",
       "  <tbody>\n",
       "    <tr>\n",
       "      <th>0</th>\n",
       "      <td>Jump Shot</td>\n",
       "      <td>Jump Shot</td>\n",
       "      <td>10</td>\n",
       "      <td>20000012</td>\n",
       "      <td>33.9723</td>\n",
       "      <td>167</td>\n",
       "      <td>72</td>\n",
       "      <td>-118.1028</td>\n",
       "      <td>10</td>\n",
       "      <td>1</td>\n",
       "      <td>...</td>\n",
       "      <td>2PT Field Goal</td>\n",
       "      <td>Right Side(R)</td>\n",
       "      <td>Mid-Range</td>\n",
       "      <td>16-24 ft.</td>\n",
       "      <td>1610612747</td>\n",
       "      <td>Los Angeles Lakers</td>\n",
       "      <td>2000-10-31</td>\n",
       "      <td>LAL @ POR</td>\n",
       "      <td>POR</td>\n",
       "      <td>1</td>\n",
       "    </tr>\n",
       "    <tr>\n",
       "      <th>1</th>\n",
       "      <td>Jump Shot</td>\n",
       "      <td>Jump Shot</td>\n",
       "      <td>12</td>\n",
       "      <td>20000012</td>\n",
       "      <td>34.0443</td>\n",
       "      <td>-157</td>\n",
       "      <td>0</td>\n",
       "      <td>-118.4268</td>\n",
       "      <td>10</td>\n",
       "      <td>1</td>\n",
       "      <td>...</td>\n",
       "      <td>2PT Field Goal</td>\n",
       "      <td>Left Side(L)</td>\n",
       "      <td>Mid-Range</td>\n",
       "      <td>8-16 ft.</td>\n",
       "      <td>1610612747</td>\n",
       "      <td>Los Angeles Lakers</td>\n",
       "      <td>2000-10-31</td>\n",
       "      <td>LAL @ POR</td>\n",
       "      <td>POR</td>\n",
       "      <td>2</td>\n",
       "    </tr>\n",
       "    <tr>\n",
       "      <th>2</th>\n",
       "      <td>Jump Shot</td>\n",
       "      <td>Jump Shot</td>\n",
       "      <td>35</td>\n",
       "      <td>20000012</td>\n",
       "      <td>33.9093</td>\n",
       "      <td>-101</td>\n",
       "      <td>135</td>\n",
       "      <td>-118.3708</td>\n",
       "      <td>7</td>\n",
       "      <td>1</td>\n",
       "      <td>...</td>\n",
       "      <td>2PT Field Goal</td>\n",
       "      <td>Left Side Center(LC)</td>\n",
       "      <td>Mid-Range</td>\n",
       "      <td>16-24 ft.</td>\n",
       "      <td>1610612747</td>\n",
       "      <td>Los Angeles Lakers</td>\n",
       "      <td>2000-10-31</td>\n",
       "      <td>LAL @ POR</td>\n",
       "      <td>POR</td>\n",
       "      <td>3</td>\n",
       "    </tr>\n",
       "    <tr>\n",
       "      <th>3</th>\n",
       "      <td>Jump Shot</td>\n",
       "      <td>Jump Shot</td>\n",
       "      <td>43</td>\n",
       "      <td>20000012</td>\n",
       "      <td>33.8693</td>\n",
       "      <td>138</td>\n",
       "      <td>175</td>\n",
       "      <td>-118.1318</td>\n",
       "      <td>6</td>\n",
       "      <td>1</td>\n",
       "      <td>...</td>\n",
       "      <td>2PT Field Goal</td>\n",
       "      <td>Right Side Center(RC)</td>\n",
       "      <td>Mid-Range</td>\n",
       "      <td>16-24 ft.</td>\n",
       "      <td>1610612747</td>\n",
       "      <td>Los Angeles Lakers</td>\n",
       "      <td>2000-10-31</td>\n",
       "      <td>LAL @ POR</td>\n",
       "      <td>POR</td>\n",
       "      <td>4</td>\n",
       "    </tr>\n",
       "    <tr>\n",
       "      <th>4</th>\n",
       "      <td>Driving Dunk Shot</td>\n",
       "      <td>Dunk</td>\n",
       "      <td>155</td>\n",
       "      <td>20000012</td>\n",
       "      <td>34.0443</td>\n",
       "      <td>0</td>\n",
       "      <td>0</td>\n",
       "      <td>-118.2698</td>\n",
       "      <td>6</td>\n",
       "      <td>2</td>\n",
       "      <td>...</td>\n",
       "      <td>2PT Field Goal</td>\n",
       "      <td>Center(C)</td>\n",
       "      <td>Restricted Area</td>\n",
       "      <td>Less Than 8 ft.</td>\n",
       "      <td>1610612747</td>\n",
       "      <td>Los Angeles Lakers</td>\n",
       "      <td>2000-10-31</td>\n",
       "      <td>LAL @ POR</td>\n",
       "      <td>POR</td>\n",
       "      <td>5</td>\n",
       "    </tr>\n",
       "  </tbody>\n",
       "</table>\n",
       "<p>5 rows × 25 columns</p>\n",
       "</div>"
      ],
      "text/plain": [
       "\n",
       "         action_type combined_shot_type  game_event_id   game_id      lat  \\\n",
       "\u001b[1;36m0\u001b[0m          Jump Shot          Jump Shot             \u001b[1;36m10\u001b[0m  \u001b[1;36m20000012\u001b[0m  \u001b[1;36m33.9723\u001b[0m   \n",
       "\u001b[1;36m1\u001b[0m          Jump Shot          Jump Shot             \u001b[1;36m12\u001b[0m  \u001b[1;36m20000012\u001b[0m  \u001b[1;36m34.0443\u001b[0m   \n",
       "\u001b[1;36m2\u001b[0m          Jump Shot          Jump Shot             \u001b[1;36m35\u001b[0m  \u001b[1;36m20000012\u001b[0m  \u001b[1;36m33.9093\u001b[0m   \n",
       "\u001b[1;36m3\u001b[0m          Jump Shot          Jump Shot             \u001b[1;36m43\u001b[0m  \u001b[1;36m20000012\u001b[0m  \u001b[1;36m33.8693\u001b[0m   \n",
       "\u001b[1;36m4\u001b[0m  Driving Dunk Shot               Dunk            \u001b[1;36m155\u001b[0m  \u001b[1;36m20000012\u001b[0m  \u001b[1;36m34.0443\u001b[0m   \n",
       "\n",
       "   loc_x  loc_y       lon  minutes_remaining  period  \u001b[33m...\u001b[0m       shot_type  \\\n",
       "\u001b[1;36m0\u001b[0m    \u001b[1;36m167\u001b[0m     \u001b[1;36m72\u001b[0m \u001b[1;36m-118.1028\u001b[0m                 \u001b[1;36m10\u001b[0m       \u001b[1;36m1\u001b[0m  \u001b[33m...\u001b[0m  2PT Field Goal   \n",
       "\u001b[1;36m1\u001b[0m   \u001b[1;36m-157\u001b[0m      \u001b[1;36m0\u001b[0m \u001b[1;36m-118.4268\u001b[0m                 \u001b[1;36m10\u001b[0m       \u001b[1;36m1\u001b[0m  \u001b[33m...\u001b[0m  2PT Field Goal   \n",
       "\u001b[1;36m2\u001b[0m   \u001b[1;36m-101\u001b[0m    \u001b[1;36m135\u001b[0m \u001b[1;36m-118.3708\u001b[0m                  \u001b[1;36m7\u001b[0m       \u001b[1;36m1\u001b[0m  \u001b[33m...\u001b[0m  2PT Field Goal   \n",
       "\u001b[1;36m3\u001b[0m    \u001b[1;36m138\u001b[0m    \u001b[1;36m175\u001b[0m \u001b[1;36m-118.1318\u001b[0m                  \u001b[1;36m6\u001b[0m       \u001b[1;36m1\u001b[0m  \u001b[33m...\u001b[0m  2PT Field Goal   \n",
       "\u001b[1;36m4\u001b[0m      \u001b[1;36m0\u001b[0m      \u001b[1;36m0\u001b[0m \u001b[1;36m-118.2698\u001b[0m                  \u001b[1;36m6\u001b[0m       \u001b[1;36m2\u001b[0m  \u001b[33m...\u001b[0m  2PT Field Goal   \n",
       "\n",
       "          shot_zone_area  shot_zone_basic  shot_zone_range     team_id  \\\n",
       "\u001b[1;36m0\u001b[0m          Right \u001b[1;35mSide\u001b[0m\u001b[1m(\u001b[0mR\u001b[1m)\u001b[0m        Mid-Range        \u001b[1;36m16\u001b[0m-\u001b[1;36m24\u001b[0m ft.  \u001b[1;36m1610612747\u001b[0m   \n",
       "\u001b[1;36m1\u001b[0m           Left \u001b[1;35mSide\u001b[0m\u001b[1m(\u001b[0mL\u001b[1m)\u001b[0m        Mid-Range         \u001b[1;36m8\u001b[0m-\u001b[1;36m16\u001b[0m ft.  \u001b[1;36m1610612747\u001b[0m   \n",
       "\u001b[1;36m2\u001b[0m   Left Side \u001b[1;35mCenter\u001b[0m\u001b[1m(\u001b[0mLC\u001b[1m)\u001b[0m        Mid-Range        \u001b[1;36m16\u001b[0m-\u001b[1;36m24\u001b[0m ft.  \u001b[1;36m1610612747\u001b[0m   \n",
       "\u001b[1;36m3\u001b[0m  Right Side \u001b[1;35mCenter\u001b[0m\u001b[1m(\u001b[0mRC\u001b[1m)\u001b[0m        Mid-Range        \u001b[1;36m16\u001b[0m-\u001b[1;36m24\u001b[0m ft.  \u001b[1;36m1610612747\u001b[0m   \n",
       "\u001b[1;36m4\u001b[0m              \u001b[1;35mCenter\u001b[0m\u001b[1m(\u001b[0mC\u001b[1m)\u001b[0m  Restricted Area  Less Than \u001b[1;36m8\u001b[0m ft.  \u001b[1;36m1610612747\u001b[0m   \n",
       "\n",
       "            team_name   game_date    matchup opponent  shot_id  \n",
       "\u001b[1;36m0\u001b[0m  Los Angeles Lakers  \u001b[1;36m2000\u001b[0m-\u001b[1;36m10\u001b[0m-\u001b[1;36m31\u001b[0m  LAL @ POR      POR        \u001b[1;36m1\u001b[0m  \n",
       "\u001b[1;36m1\u001b[0m  Los Angeles Lakers  \u001b[1;36m2000\u001b[0m-\u001b[1;36m10\u001b[0m-\u001b[1;36m31\u001b[0m  LAL @ POR      POR        \u001b[1;36m2\u001b[0m  \n",
       "\u001b[1;36m2\u001b[0m  Los Angeles Lakers  \u001b[1;36m2000\u001b[0m-\u001b[1;36m10\u001b[0m-\u001b[1;36m31\u001b[0m  LAL @ POR      POR        \u001b[1;36m3\u001b[0m  \n",
       "\u001b[1;36m3\u001b[0m  Los Angeles Lakers  \u001b[1;36m2000\u001b[0m-\u001b[1;36m10\u001b[0m-\u001b[1;36m31\u001b[0m  LAL @ POR      POR        \u001b[1;36m4\u001b[0m  \n",
       "\u001b[1;36m4\u001b[0m  Los Angeles Lakers  \u001b[1;36m2000\u001b[0m-\u001b[1;36m10\u001b[0m-\u001b[1;36m31\u001b[0m  LAL @ POR      POR        \u001b[1;36m5\u001b[0m  \n",
       "\n",
       "\u001b[1m[\u001b[0m\u001b[1;36m5\u001b[0m rows x \u001b[1;36m25\u001b[0m columns\u001b[1m]\u001b[0m"
      ]
     },
     "execution_count": 11,
     "metadata": {},
     "output_type": "execute_result"
    }
   ],
   "source": [
    "kobe_shots = catalog.load('dataset_kobe_dev')\n",
    "kobe_shots.head()"
   ]
  },
  {
   "cell_type": "code",
   "execution_count": 12,
   "metadata": {},
   "outputs": [
    {
     "data": {
      "text/html": [
       "<pre style=\"white-space:pre;overflow-x:auto;line-height:normal;font-family:Menlo,'DejaVu Sans Mono',consolas,'Courier New',monospace\"></pre>\n"
      ],
      "text/plain": []
     },
     "metadata": {},
     "output_type": "display_data"
    },
    {
     "data": {
      "text/plain": [
       "\n",
       "action_type            object\n",
       "combined_shot_type     object\n",
       "game_event_id           int64\n",
       "game_id                 int64\n",
       "lat                   float64\n",
       "loc_x                   int64\n",
       "loc_y                   int64\n",
       "lon                   float64\n",
       "minutes_remaining       int64\n",
       "period                  int64\n",
       "playoffs                int64\n",
       "season                 object\n",
       "seconds_remaining       int64\n",
       "shot_distance           int64\n",
       "shot_made_flag        float64\n",
       "shot_type              object\n",
       "shot_zone_area         object\n",
       "shot_zone_basic        object\n",
       "shot_zone_range        object\n",
       "team_id                 int64\n",
       "team_name              object\n",
       "game_date              object\n",
       "matchup                object\n",
       "opponent               object\n",
       "shot_id                 int64\n",
       "dtype: object"
      ]
     },
     "execution_count": 12,
     "metadata": {},
     "output_type": "execute_result"
    }
   ],
   "source": [
    "kobe_df.dtypes"
   ]
  },
  {
   "cell_type": "code",
   "execution_count": 13,
   "metadata": {},
   "outputs": [
    {
     "data": {
      "text/html": [
       "<pre style=\"white-space:pre;overflow-x:auto;line-height:normal;font-family:Menlo,'DejaVu Sans Mono',consolas,'Courier New',monospace\"></pre>\n"
      ],
      "text/plain": []
     },
     "metadata": {},
     "output_type": "display_data"
    },
    {
     "data": {
      "text/html": [
       "<div>\n",
       "<style scoped>\n",
       "    .dataframe tbody tr th:only-of-type {\n",
       "        vertical-align: middle;\n",
       "    }\n",
       "\n",
       "    .dataframe tbody tr th {\n",
       "        vertical-align: top;\n",
       "    }\n",
       "\n",
       "    .dataframe thead th {\n",
       "        text-align: right;\n",
       "    }\n",
       "</style>\n",
       "<table border=\"1\" class=\"dataframe\">\n",
       "  <thead>\n",
       "    <tr style=\"text-align: right;\">\n",
       "      <th></th>\n",
       "      <th>game_event_id</th>\n",
       "      <th>game_id</th>\n",
       "      <th>lat</th>\n",
       "      <th>loc_x</th>\n",
       "      <th>loc_y</th>\n",
       "      <th>lon</th>\n",
       "      <th>minutes_remaining</th>\n",
       "      <th>period</th>\n",
       "      <th>playoffs</th>\n",
       "      <th>seconds_remaining</th>\n",
       "      <th>shot_distance</th>\n",
       "      <th>shot_made_flag</th>\n",
       "      <th>team_id</th>\n",
       "      <th>shot_id</th>\n",
       "    </tr>\n",
       "  </thead>\n",
       "  <tbody>\n",
       "    <tr>\n",
       "      <th>count</th>\n",
       "      <td>24271.000000</td>\n",
       "      <td>2.427100e+04</td>\n",
       "      <td>24271.000000</td>\n",
       "      <td>24271.000000</td>\n",
       "      <td>24271.000000</td>\n",
       "      <td>24271.000000</td>\n",
       "      <td>24271.000000</td>\n",
       "      <td>24271.000000</td>\n",
       "      <td>24271.000000</td>\n",
       "      <td>24271.000000</td>\n",
       "      <td>24271.000000</td>\n",
       "      <td>20285.000000</td>\n",
       "      <td>2.427100e+04</td>\n",
       "      <td>24271.000000</td>\n",
       "    </tr>\n",
       "    <tr>\n",
       "      <th>mean</th>\n",
       "      <td>240.571464</td>\n",
       "      <td>2.483294e+07</td>\n",
       "      <td>33.980603</td>\n",
       "      <td>7.407935</td>\n",
       "      <td>63.697417</td>\n",
       "      <td>-118.262392</td>\n",
       "      <td>5.091591</td>\n",
       "      <td>2.470520</td>\n",
       "      <td>0.149026</td>\n",
       "      <td>28.758271</td>\n",
       "      <td>10.222076</td>\n",
       "      <td>0.477348</td>\n",
       "      <td>1.610613e+09</td>\n",
       "      <td>15160.124593</td>\n",
       "    </tr>\n",
       "    <tr>\n",
       "      <th>std</th>\n",
       "      <td>148.513569</td>\n",
       "      <td>7.816366e+06</td>\n",
       "      <td>0.065872</td>\n",
       "      <td>93.601652</td>\n",
       "      <td>65.871523</td>\n",
       "      <td>0.093602</td>\n",
       "      <td>3.420637</td>\n",
       "      <td>1.149706</td>\n",
       "      <td>0.356121</td>\n",
       "      <td>17.390267</td>\n",
       "      <td>7.574579</td>\n",
       "      <td>0.499499</td>\n",
       "      <td>0.000000e+00</td>\n",
       "      <td>9010.341515</td>\n",
       "    </tr>\n",
       "    <tr>\n",
       "      <th>min</th>\n",
       "      <td>2.000000</td>\n",
       "      <td>2.000001e+07</td>\n",
       "      <td>33.543300</td>\n",
       "      <td>-218.000000</td>\n",
       "      <td>-44.000000</td>\n",
       "      <td>-118.487800</td>\n",
       "      <td>0.000000</td>\n",
       "      <td>1.000000</td>\n",
       "      <td>0.000000</td>\n",
       "      <td>0.000000</td>\n",
       "      <td>0.000000</td>\n",
       "      <td>0.000000</td>\n",
       "      <td>1.610613e+09</td>\n",
       "      <td>1.000000</td>\n",
       "    </tr>\n",
       "    <tr>\n",
       "      <th>25%</th>\n",
       "      <td>102.000000</td>\n",
       "      <td>2.040094e+07</td>\n",
       "      <td>33.925300</td>\n",
       "      <td>-44.000000</td>\n",
       "      <td>0.000000</td>\n",
       "      <td>-118.313800</td>\n",
       "      <td>2.000000</td>\n",
       "      <td>1.000000</td>\n",
       "      <td>0.000000</td>\n",
       "      <td>14.000000</td>\n",
       "      <td>1.000000</td>\n",
       "      <td>0.000000</td>\n",
       "      <td>1.610613e+09</td>\n",
       "      <td>7206.500000</td>\n",
       "    </tr>\n",
       "    <tr>\n",
       "      <th>50%</th>\n",
       "      <td>244.000000</td>\n",
       "      <td>2.090015e+07</td>\n",
       "      <td>33.999300</td>\n",
       "      <td>0.000000</td>\n",
       "      <td>45.000000</td>\n",
       "      <td>-118.269800</td>\n",
       "      <td>5.000000</td>\n",
       "      <td>3.000000</td>\n",
       "      <td>0.000000</td>\n",
       "      <td>29.000000</td>\n",
       "      <td>12.000000</td>\n",
       "      <td>0.000000</td>\n",
       "      <td>1.610613e+09</td>\n",
       "      <td>15081.000000</td>\n",
       "    </tr>\n",
       "    <tr>\n",
       "      <th>75%</th>\n",
       "      <td>355.000000</td>\n",
       "      <td>2.960106e+07</td>\n",
       "      <td>34.044300</td>\n",
       "      <td>75.000000</td>\n",
       "      <td>119.000000</td>\n",
       "      <td>-118.194800</td>\n",
       "      <td>8.000000</td>\n",
       "      <td>3.000000</td>\n",
       "      <td>0.000000</td>\n",
       "      <td>44.000000</td>\n",
       "      <td>17.000000</td>\n",
       "      <td>1.000000</td>\n",
       "      <td>1.610613e+09</td>\n",
       "      <td>23268.500000</td>\n",
       "    </tr>\n",
       "    <tr>\n",
       "      <th>max</th>\n",
       "      <td>659.000000</td>\n",
       "      <td>4.990009e+07</td>\n",
       "      <td>34.088300</td>\n",
       "      <td>220.000000</td>\n",
       "      <td>501.000000</td>\n",
       "      <td>-118.049800</td>\n",
       "      <td>11.000000</td>\n",
       "      <td>7.000000</td>\n",
       "      <td>1.000000</td>\n",
       "      <td>59.000000</td>\n",
       "      <td>50.000000</td>\n",
       "      <td>1.000000</td>\n",
       "      <td>1.610613e+09</td>\n",
       "      <td>30697.000000</td>\n",
       "    </tr>\n",
       "  </tbody>\n",
       "</table>\n",
       "</div>"
      ],
      "text/plain": [
       "\n",
       "       game_event_id       game_id           lat         loc_x         loc_y  \\\n",
       "count   \u001b[1;36m24271.000000\u001b[0m  \u001b[1;36m2.427100e+04\u001b[0m  \u001b[1;36m24271.000000\u001b[0m  \u001b[1;36m24271.000000\u001b[0m  \u001b[1;36m24271.000000\u001b[0m   \n",
       "mean      \u001b[1;36m240.571464\u001b[0m  \u001b[1;36m2.483294e+07\u001b[0m     \u001b[1;36m33.980603\u001b[0m      \u001b[1;36m7.407935\u001b[0m     \u001b[1;36m63.697417\u001b[0m   \n",
       "std       \u001b[1;36m148.513569\u001b[0m  \u001b[1;36m7.816366e+06\u001b[0m      \u001b[1;36m0.065872\u001b[0m     \u001b[1;36m93.601652\u001b[0m     \u001b[1;36m65.871523\u001b[0m   \n",
       "min         \u001b[1;36m2.000000\u001b[0m  \u001b[1;36m2.000001e+07\u001b[0m     \u001b[1;36m33.543300\u001b[0m   \u001b[1;36m-218.000000\u001b[0m    \u001b[1;36m-44.000000\u001b[0m   \n",
       "\u001b[1;36m25\u001b[0m%       \u001b[1;36m102.000000\u001b[0m  \u001b[1;36m2.040094e+07\u001b[0m     \u001b[1;36m33.925300\u001b[0m    \u001b[1;36m-44.000000\u001b[0m      \u001b[1;36m0.000000\u001b[0m   \n",
       "\u001b[1;36m50\u001b[0m%       \u001b[1;36m244.000000\u001b[0m  \u001b[1;36m2.090015e+07\u001b[0m     \u001b[1;36m33.999300\u001b[0m      \u001b[1;36m0.000000\u001b[0m     \u001b[1;36m45.000000\u001b[0m   \n",
       "\u001b[1;36m75\u001b[0m%       \u001b[1;36m355.000000\u001b[0m  \u001b[1;36m2.960106e+07\u001b[0m     \u001b[1;36m34.044300\u001b[0m     \u001b[1;36m75.000000\u001b[0m    \u001b[1;36m119.000000\u001b[0m   \n",
       "max       \u001b[1;36m659.000000\u001b[0m  \u001b[1;36m4.990009e+07\u001b[0m     \u001b[1;36m34.088300\u001b[0m    \u001b[1;36m220.000000\u001b[0m    \u001b[1;36m501.000000\u001b[0m   \n",
       "\n",
       "                lon  minutes_remaining        period      playoffs  \\\n",
       "count  \u001b[1;36m24271.000000\u001b[0m       \u001b[1;36m24271.000000\u001b[0m  \u001b[1;36m24271.000000\u001b[0m  \u001b[1;36m24271.000000\u001b[0m   \n",
       "mean    \u001b[1;36m-118.262392\u001b[0m           \u001b[1;36m5.091591\u001b[0m      \u001b[1;36m2.470520\u001b[0m      \u001b[1;36m0.149026\u001b[0m   \n",
       "std        \u001b[1;36m0.093602\u001b[0m           \u001b[1;36m3.420637\u001b[0m      \u001b[1;36m1.149706\u001b[0m      \u001b[1;36m0.356121\u001b[0m   \n",
       "min     \u001b[1;36m-118.487800\u001b[0m           \u001b[1;36m0.000000\u001b[0m      \u001b[1;36m1.000000\u001b[0m      \u001b[1;36m0.000000\u001b[0m   \n",
       "\u001b[1;36m25\u001b[0m%     \u001b[1;36m-118.313800\u001b[0m           \u001b[1;36m2.000000\u001b[0m      \u001b[1;36m1.000000\u001b[0m      \u001b[1;36m0.000000\u001b[0m   \n",
       "\u001b[1;36m50\u001b[0m%     \u001b[1;36m-118.269800\u001b[0m           \u001b[1;36m5.000000\u001b[0m      \u001b[1;36m3.000000\u001b[0m      \u001b[1;36m0.000000\u001b[0m   \n",
       "\u001b[1;36m75\u001b[0m%     \u001b[1;36m-118.194800\u001b[0m           \u001b[1;36m8.000000\u001b[0m      \u001b[1;36m3.000000\u001b[0m      \u001b[1;36m0.000000\u001b[0m   \n",
       "max     \u001b[1;36m-118.049800\u001b[0m          \u001b[1;36m11.000000\u001b[0m      \u001b[1;36m7.000000\u001b[0m      \u001b[1;36m1.000000\u001b[0m   \n",
       "\n",
       "       seconds_remaining  shot_distance  shot_made_flag       team_id  \\\n",
       "count       \u001b[1;36m24271.000000\u001b[0m   \u001b[1;36m24271.000000\u001b[0m    \u001b[1;36m20285.000000\u001b[0m  \u001b[1;36m2.427100e+04\u001b[0m   \n",
       "mean           \u001b[1;36m28.758271\u001b[0m      \u001b[1;36m10.222076\u001b[0m        \u001b[1;36m0.477348\u001b[0m  \u001b[1;36m1.610613e+09\u001b[0m   \n",
       "std            \u001b[1;36m17.390267\u001b[0m       \u001b[1;36m7.574579\u001b[0m        \u001b[1;36m0.499499\u001b[0m  \u001b[1;36m0.000000e+00\u001b[0m   \n",
       "min             \u001b[1;36m0.000000\u001b[0m       \u001b[1;36m0.000000\u001b[0m        \u001b[1;36m0.000000\u001b[0m  \u001b[1;36m1.610613e+09\u001b[0m   \n",
       "\u001b[1;36m25\u001b[0m%            \u001b[1;36m14.000000\u001b[0m       \u001b[1;36m1.000000\u001b[0m        \u001b[1;36m0.000000\u001b[0m  \u001b[1;36m1.610613e+09\u001b[0m   \n",
       "\u001b[1;36m50\u001b[0m%            \u001b[1;36m29.000000\u001b[0m      \u001b[1;36m12.000000\u001b[0m        \u001b[1;36m0.000000\u001b[0m  \u001b[1;36m1.610613e+09\u001b[0m   \n",
       "\u001b[1;36m75\u001b[0m%            \u001b[1;36m44.000000\u001b[0m      \u001b[1;36m17.000000\u001b[0m        \u001b[1;36m1.000000\u001b[0m  \u001b[1;36m1.610613e+09\u001b[0m   \n",
       "max            \u001b[1;36m59.000000\u001b[0m      \u001b[1;36m50.000000\u001b[0m        \u001b[1;36m1.000000\u001b[0m  \u001b[1;36m1.610613e+09\u001b[0m   \n",
       "\n",
       "            shot_id  \n",
       "count  \u001b[1;36m24271.000000\u001b[0m  \n",
       "mean   \u001b[1;36m15160.124593\u001b[0m  \n",
       "std     \u001b[1;36m9010.341515\u001b[0m  \n",
       "min        \u001b[1;36m1.000000\u001b[0m  \n",
       "\u001b[1;36m25\u001b[0m%     \u001b[1;36m7206.500000\u001b[0m  \n",
       "\u001b[1;36m50\u001b[0m%    \u001b[1;36m15081.000000\u001b[0m  \n",
       "\u001b[1;36m75\u001b[0m%    \u001b[1;36m23268.500000\u001b[0m  \n",
       "max    \u001b[1;36m30697.000000\u001b[0m  "
      ]
     },
     "execution_count": 13,
     "metadata": {},
     "output_type": "execute_result"
    }
   ],
   "source": [
    "kobe_shots.describe()"
   ]
  },
  {
   "cell_type": "code",
   "execution_count": 14,
   "metadata": {},
   "outputs": [
    {
     "name": "stdout",
     "output_type": "stream",
     "text": [
      "<class 'pandas.core.frame.DataFrame'>\n",
      "Index: 24271 entries, 0 to 30696\n",
      "Data columns (total 25 columns):\n",
      " #   Column              Non-Null Count  Dtype  \n",
      "---  ------              --------------  -----  \n",
      " 0   action_type         24271 non-null  object \n",
      " 1   combined_shot_type  24271 non-null  object \n",
      " 2   game_event_id       24271 non-null  int64  \n",
      " 3   game_id             24271 non-null  int64  \n",
      " 4   lat                 24271 non-null  float64\n",
      " 5   loc_x               24271 non-null  int64  \n",
      " 6   loc_y               24271 non-null  int64  \n",
      " 7   lon                 24271 non-null  float64\n",
      " 8   minutes_remaining   24271 non-null  int64  \n",
      " 9   period              24271 non-null  int64  \n",
      " 10  playoffs            24271 non-null  int64  \n",
      " 11  season              24271 non-null  object \n",
      " 12  seconds_remaining   24271 non-null  int64  \n",
      " 13  shot_distance       24271 non-null  int64  \n",
      " 14  shot_made_flag      20285 non-null  float64\n",
      " 15  shot_type           24271 non-null  object \n",
      " 16  shot_zone_area      24271 non-null  object \n",
      " 17  shot_zone_basic     24271 non-null  object \n",
      " 18  shot_zone_range     24271 non-null  object \n",
      " 19  team_id             24271 non-null  int64  \n",
      " 20  team_name           24271 non-null  object \n",
      " 21  game_date           24271 non-null  object \n",
      " 22  matchup             24271 non-null  object \n",
      " 23  opponent            24271 non-null  object \n",
      " 24  shot_id             24271 non-null  int64  \n",
      "dtypes: float64(3), int64(11), object(11)\n",
      "memory usage: 4.8+ MB\n"
     ]
    }
   ],
   "source": [
    "kobe_shots.info()"
   ]
  },
  {
   "cell_type": "code",
   "execution_count": 16,
   "metadata": {},
   "outputs": [
    {
     "data": {
      "text/html": [
       "<pre style=\"white-space:pre;overflow-x:auto;line-height:normal;font-family:Menlo,'DejaVu Sans Mono',consolas,'Courier New',monospace\"></pre>\n"
      ],
      "text/plain": []
     },
     "metadata": {},
     "output_type": "display_data"
    },
    {
     "data": {
      "text/plain": [
       "\n",
       "shot_made_flag\n",
       "\u001b[1;36m0.0\u001b[0m    \u001b[1;36m10602\u001b[0m\n",
       "\u001b[1;36m1.0\u001b[0m     \u001b[1;36m9683\u001b[0m\n",
       "Name: count, dtype: int64"
      ]
     },
     "execution_count": 16,
     "metadata": {},
     "output_type": "execute_result"
    }
   ],
   "source": [
    "kobe_shots['shot_made_flag'].value_counts()"
   ]
  },
  {
   "cell_type": "code",
   "execution_count": 23,
   "metadata": {},
   "outputs": [
    {
     "data": {
      "text/html": [
       "<pre style=\"white-space:pre;overflow-x:auto;line-height:normal;font-family:Menlo,'DejaVu Sans Mono',consolas,'Courier New',monospace\"></pre>\n"
      ],
      "text/plain": []
     },
     "metadata": {},
     "output_type": "display_data"
    },
    {
     "data": {
      "text/plain": [
       "\u001b[1;35mnp.int64\u001b[0m\u001b[1m(\u001b[0m\u001b[1;36m3986\u001b[0m\u001b[1m)\u001b[0m"
      ]
     },
     "execution_count": 23,
     "metadata": {},
     "output_type": "execute_result"
    }
   ],
   "source": [
    "kobe_shots['shot_made_flag'].isna().sum()"
   ]
  },
  {
   "cell_type": "markdown",
   "metadata": {},
   "source": [
    "###"
   ]
  },
  {
   "cell_type": "markdown",
   "metadata": {},
   "source": [
    "Nota-se que a quantidade de linhas com `shot_made_flag` é maior. Nesse caso teremos que dar um drop nas linhas com dados faltantes."
   ]
  },
  {
   "cell_type": "code",
   "execution_count": null,
   "metadata": {},
   "outputs": [],
   "source": []
  }
 ],
 "metadata": {
  "kernelspec": {
   "display_name": ".venv",
   "language": "python",
   "name": "python3"
  },
  "language_info": {
   "codemirror_mode": {
    "name": "ipython",
    "version": 3
   },
   "file_extension": ".py",
   "mimetype": "text/x-python",
   "name": "python",
   "nbconvert_exporter": "python",
   "pygments_lexer": "ipython3",
   "version": "3.13.0"
  }
 },
 "nbformat": 4,
 "nbformat_minor": 2
}
